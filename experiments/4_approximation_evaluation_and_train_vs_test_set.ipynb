{
 "cells": [
  {
   "cell_type": "code",
   "execution_count": 1,
   "metadata": {},
   "outputs": [],
   "source": [
    "from similarity_searching_sketches.persistence import load_np_array, save_np_array\n",
    "from similarity_searching_sketches.approx_evaluation import compute_knn_results\n",
    "from similarity_searching_sketches.approx_evaluation import sort_ids_by_distance\n",
    "from similarity_searching_sketches.distances import hamming\n",
    "from similarity_searching_sketches.distances import l1\n",
    "from similarity_searching_sketches.sketch_producer import MinkowskiSketchProducer\n",
    "from similarity_searching_sketches.visualization import plot_array\n",
    "from similarity_searching_sketches.utils import percentage\n",
    "from similarity_searching_sketches.partitioning import balance_score\n",
    "from similarity_searching_sketches.correlation_matrix import compute_corr_mtx\n",
    "from similarity_searching_sketches.correlation_matrix import get_upper_triangle_values\n",
    "from similarity_searching_sketches.multi_hash_index_stats import stats_to_pandas\n",
    "from similarity_searching_sketches.utils import df_to_latex\n",
    "import matplotlib.pyplot as plt\n",
    "import numpy as np\n",
    "% matplotlib inline\n"
   ]
  },
  {
   "cell_type": "code",
   "execution_count": 2,
   "metadata": {},
   "outputs": [],
   "source": [
    "DATA_FOLDER = '/home/matej/data/sketch-testing/dataset_10K/'\n",
    "PIVOTS_PATH = DATA_FOLDER + 'selected_pivots.npy'\n",
    "MHI_DB_SAVE_PATH = DATA_FOLDER + 'mhi_sketch_db.npy'\n",
    "TRAIN_SUFFIX = 'train_set.npy'\n",
    "TEST_SUFFIX = 'test_set.npy'\n",
    "DB_PATH_PREFIX = 'db_'\n",
    "QUERY_OBJ_PATH_PREFIX = 'query_obj_'\n",
    "KNN_RES_PREFIX = 'knn_res_'\n",
    "N_QUERY_OBJS = 100\n",
    "K = 100\n",
    "TESTED_SKETCH_LENGTHS = [2, 4, 8, 16, 32, 64, 128]\n",
    "FILTERING_SPLITS = 10\n",
    "LOG_BY = 5000\n",
    "TRAIN_RECALL_SAVE_PATH = DATA_FOLDER + 'train_recall.tex'\n",
    "TEST_RECALL_SAVE_PATH = DATA_FOLDER + 'test_recall.tex'\n",
    "RECALL_DIFF_SAVE_PATH = DATA_FOLDER + 'recall_diff.tex'\n",
    "TRAIN_VS_TEST_LATEX_SAVE_PATH = DATA_FOLDER + 'train_vs_test.tex'\n"
   ]
  },
  {
   "cell_type": "markdown",
   "metadata": {},
   "source": [
    "#### Generate database and compute k-NN results"
   ]
  },
  {
   "cell_type": "code",
   "execution_count": 3,
   "metadata": {},
   "outputs": [],
   "source": [
    "def compute_knn(suffix):\n",
    "    dataset = load_np_array(DATA_FOLDER + suffix)\n",
    "    np.random.shuffle(dataset)\n",
    "    queries, dataset = np.split(dataset, [N_QUERY_OBJS])\n",
    "    ids = np.arange(dataset.shape[0])\n",
    "    knn_results = compute_knn_results(ids, dataset, queries, K, l1, log_by=LOG_BY)\n",
    "    save_np_array(DATA_FOLDER + DB_PATH_PREFIX + suffix, dataset)\n",
    "    save_np_array(DATA_FOLDER + DB_PATH_PREFIX + 'ids_' + suffix, ids)\n",
    "    save_np_array(DATA_FOLDER + QUERY_OBJ_PATH_PREFIX + suffix, queries)\n",
    "    save_np_array(DATA_FOLDER + KNN_RES_PREFIX + suffix, knn_results)\n",
    "    return ids, dataset, queries, knn_results\n"
   ]
  },
  {
   "cell_type": "code",
   "execution_count": 4,
   "metadata": {
    "scrolled": true
   },
   "outputs": [
    {
     "name": "stderr",
     "output_type": "stream",
     "text": [
      "INFO:IterationLogger| Started iteration no.: 5000\n",
      " Time from previous iteration: 13.830764293670654s\n",
      " Time from start: 13.830764770507812s\n"
     ]
    }
   ],
   "source": [
    "ids_train, vecs_train, queries_train, knn_res_train = compute_knn(TRAIN_SUFFIX)\n",
    "ids_test, vecs_test, queries_test, knn_res_test = compute_knn(TEST_SUFFIX)\n"
   ]
  },
  {
   "cell_type": "code",
   "execution_count": 5,
   "metadata": {},
   "outputs": [
    {
     "data": {
      "text/plain": [
       "(7900, 4096)"
      ]
     },
     "execution_count": 5,
     "metadata": {},
     "output_type": "execute_result"
    }
   ],
   "source": [
    "vecs_train.shape\n"
   ]
  },
  {
   "cell_type": "markdown",
   "metadata": {},
   "source": [
    "#### Transform database and queries to Sketches"
   ]
  },
  {
   "cell_type": "code",
   "execution_count": 6,
   "metadata": {},
   "outputs": [],
   "source": [
    "sketch_producer = MinkowskiSketchProducer(pivots_path=PIVOTS_PATH, p=1)\n"
   ]
  },
  {
   "cell_type": "code",
   "execution_count": 7,
   "metadata": {},
   "outputs": [],
   "source": [
    "sketches_train = sketch_producer.transform_many(vecs_train)\n",
    "sketches_queries_train = sketch_producer.transform_many(queries_train)\n",
    "\n",
    "sketches_test = sketch_producer.transform_many(vecs_test)\n",
    "sketches_queries_test = sketch_producer.transform_many(queries_test)\n"
   ]
  },
  {
   "cell_type": "code",
   "execution_count": 8,
   "metadata": {},
   "outputs": [
    {
     "data": {
      "text/plain": [
       "(7900, 128)"
      ]
     },
     "execution_count": 8,
     "metadata": {},
     "output_type": "execute_result"
    }
   ],
   "source": [
    "sketches_train.shape\n"
   ]
  },
  {
   "cell_type": "markdown",
   "metadata": {},
   "source": [
    "Save data for MHI experiments"
   ]
  },
  {
   "cell_type": "code",
   "execution_count": 9,
   "metadata": {},
   "outputs": [],
   "source": [
    "save_np_array(MHI_DB_SAVE_PATH,\n",
    "              np.concatenate((sketches_train, sketches_test, sketches_queries_train, sketches_queries_test)))\n"
   ]
  },
  {
   "cell_type": "markdown",
   "metadata": {},
   "source": [
    "#### Approximation quality train set"
   ]
  },
  {
   "cell_type": "code",
   "execution_count": 10,
   "metadata": {},
   "outputs": [
    {
     "name": "stderr",
     "output_type": "stream",
     "text": [
      "INFO:IterationLogger| Started iteration no.: 5000\n",
      " Time from previous iteration: 0.809927225112915s\n",
      " Time from start: 0.8099281787872314s\n",
      "INFO:IterationLogger| Started iteration no.: 5000\n",
      " Time from previous iteration: 0.789548397064209s\n",
      " Time from start: 0.7895491123199463s\n",
      "INFO:IterationLogger| Started iteration no.: 5000\n",
      " Time from previous iteration: 0.7991037368774414s\n",
      " Time from start: 0.7991042137145996s\n",
      "INFO:IterationLogger| Started iteration no.: 5000\n",
      " Time from previous iteration: 0.8051302433013916s\n",
      " Time from start: 0.8051309585571289s\n",
      "INFO:IterationLogger| Started iteration no.: 5000\n",
      " Time from previous iteration: 0.8166139125823975s\n",
      " Time from start: 0.8166143894195557s\n",
      "INFO:IterationLogger| Started iteration no.: 5000\n",
      " Time from previous iteration: 0.8386070728302002s\n",
      " Time from start: 0.8386080265045166s\n",
      "INFO:IterationLogger| Started iteration no.: 5000\n",
      " Time from previous iteration: 0.8503990173339844s\n",
      " Time from start: 0.8503997325897217s\n"
     ]
    }
   ],
   "source": [
    "def get_sorted_ids(ids, sketches, sketch_queries, sketch_len):\n",
    "    sketches_shortedned = sketches.T[:sketch_len].T\n",
    "    sketch_queries_shortened = sketch_queries.T[:sketch_len].T\n",
    "    return sort_ids_by_distance(ids_train, sketches_shortedned, sketch_queries_shortened, hamming)\n",
    "\n",
    "sorted_ids_list_train = []\n",
    "sorted_ids_list_test = []\n",
    "\n",
    "for sketch_len in TESTED_SKETCH_LENGTHS:\n",
    "    sorted_ids_list_train.append(\n",
    "        (sketch_len, get_sorted_ids(ids_train, sketches_train, sketches_queries_train, sketch_len)))\n",
    "    sorted_ids_list_test.append(\n",
    "        (sketch_len, get_sorted_ids(ids_test, sketches_test, sketches_queries_test, sketch_len)))\n"
   ]
  },
  {
   "cell_type": "code",
   "execution_count": 11,
   "metadata": {},
   "outputs": [],
   "source": [
    "def evaluate_approximation_quality(sorted_ids, true_knn, sketch_len, text_prefix):\n",
    "    filtering_counts = range(0, sorted_ids.shape[1], int(sorted_ids.shape[1] / FILTERING_SPLITS))\n",
    "    percentages = [100 - int(percentage(cnt, sorted_ids.shape[1])) for cnt in filtering_counts]\n",
    "    mean_intersection = list()\n",
    "    for count in filtering_counts:\n",
    "        intersection_sizes = []\n",
    "        for i in range(true_knn.shape[0]):\n",
    "            intersection_sizes.append(len(set(true_knn[i]) & set(sorted_ids[i][:count])))\n",
    "        mean_intersection.append(np.mean(intersection_sizes))\n",
    "    return mean_intersection\n"
   ]
  },
  {
   "cell_type": "markdown",
   "metadata": {},
   "source": [
    "#### Approximation quality test set"
   ]
  },
  {
   "cell_type": "code",
   "execution_count": 12,
   "metadata": {},
   "outputs": [],
   "source": [
    "recalls_train = []\n"
   ]
  },
  {
   "cell_type": "code",
   "execution_count": 13,
   "metadata": {
    "scrolled": true
   },
   "outputs": [],
   "source": [
    "for (sketch_len, sorted_ids) in sorted_ids_list_train:\n",
    "    recalls_train.append(\n",
    "        evaluate_approximation_quality(sorted_ids, knn_res_train, sketch_len, text_prefix='Train set: '))\n"
   ]
  },
  {
   "cell_type": "code",
   "execution_count": 14,
   "metadata": {},
   "outputs": [],
   "source": [
    "recalls_test = []\n",
    "for (sketch_len, sorted_ids) in sorted_ids_list_test:\n",
    "    recalls_test.append(evaluate_approximation_quality(sorted_ids, knn_res_test, sketch_len, text_prefix='Test set: '))\n"
   ]
  },
  {
   "cell_type": "markdown",
   "metadata": {},
   "source": [
    "#### Analyze Recall for train and test set"
   ]
  },
  {
   "cell_type": "code",
   "execution_count": 15,
   "metadata": {},
   "outputs": [
    {
     "name": "stderr",
     "output_type": "stream",
     "text": [
      "/home/matej/project/similarity-searching-sketches/similarity_searching_sketches/multi_hash_index_stats.py:21: FutureWarning: '.reindex_axis' is deprecated and will be removed in a future version. Use '.reindex' instead.\n",
      "  return pd.DataFrame.from_dict({key: stats[key] for key in keys}).reindex_axis(keys, axis=1)\n"
     ]
    }
   ],
   "source": [
    "keys_perc = [str(num) + '% db searched' for num in [int(percentage(cnt, sorted_ids.shape[1])) for cnt in\n",
    "                                                    range(0, sorted_ids.shape[1],\n",
    "                                                          int(sorted_ids.shape[1] / FILTERING_SPLITS))] if num > 0]\n",
    "keys_test = ['p=' + str(sk_len) for sk_len in TESTED_SKETCH_LENGTHS]\n",
    "keys_train = ['p=' + str(sk_len) for sk_len in TESTED_SKETCH_LENGTHS]\n",
    "stats_test = {key: recalls_test[i] for i, key in enumerate(keys_test)}\n",
    "stats_train = {key: recalls_train[i] for i, key in enumerate(keys_train)}\n",
    "df_recall_train = stats_to_pandas(keys_train, stats_train)[1:]\n",
    "df_recall_test = stats_to_pandas(keys_test, stats_test)[1:]\n",
    "df_recall_train.index = keys_perc\n",
    "df_recall_test.index = keys_perc\n"
   ]
  },
  {
   "cell_type": "markdown",
   "metadata": {},
   "source": [
    "#### % Recall train set"
   ]
  },
  {
   "cell_type": "code",
   "execution_count": 16,
   "metadata": {},
   "outputs": [
    {
     "data": {
      "text/html": [
       "<div>\n",
       "<style scoped>\n",
       "    .dataframe tbody tr th:only-of-type {\n",
       "        vertical-align: middle;\n",
       "    }\n",
       "\n",
       "    .dataframe tbody tr th {\n",
       "        vertical-align: top;\n",
       "    }\n",
       "\n",
       "    .dataframe thead th {\n",
       "        text-align: right;\n",
       "    }\n",
       "</style>\n",
       "<table border=\"1\" class=\"dataframe\">\n",
       "  <thead>\n",
       "    <tr style=\"text-align: right;\">\n",
       "      <th></th>\n",
       "      <th>p=2</th>\n",
       "      <th>p=4</th>\n",
       "      <th>p=8</th>\n",
       "      <th>p=16</th>\n",
       "      <th>p=32</th>\n",
       "      <th>p=64</th>\n",
       "      <th>p=128</th>\n",
       "    </tr>\n",
       "  </thead>\n",
       "  <tbody>\n",
       "    <tr>\n",
       "      <th>10% db searched</th>\n",
       "      <td>19.14</td>\n",
       "      <td>27.55</td>\n",
       "      <td>36.87</td>\n",
       "      <td>48.86</td>\n",
       "      <td>61.42</td>\n",
       "      <td>76.35</td>\n",
       "      <td>87.18</td>\n",
       "    </tr>\n",
       "    <tr>\n",
       "      <th>20% db searched</th>\n",
       "      <td>38.77</td>\n",
       "      <td>48.82</td>\n",
       "      <td>54.51</td>\n",
       "      <td>67.33</td>\n",
       "      <td>78.41</td>\n",
       "      <td>89.21</td>\n",
       "      <td>95.41</td>\n",
       "    </tr>\n",
       "    <tr>\n",
       "      <th>30% db searched</th>\n",
       "      <td>56.67</td>\n",
       "      <td>61.99</td>\n",
       "      <td>67.46</td>\n",
       "      <td>78.31</td>\n",
       "      <td>87.41</td>\n",
       "      <td>94.61</td>\n",
       "      <td>97.95</td>\n",
       "    </tr>\n",
       "    <tr>\n",
       "      <th>40% db searched</th>\n",
       "      <td>69.03</td>\n",
       "      <td>72.37</td>\n",
       "      <td>76.39</td>\n",
       "      <td>85.70</td>\n",
       "      <td>92.64</td>\n",
       "      <td>97.19</td>\n",
       "      <td>99.02</td>\n",
       "    </tr>\n",
       "    <tr>\n",
       "      <th>50% db searched</th>\n",
       "      <td>76.27</td>\n",
       "      <td>80.36</td>\n",
       "      <td>83.67</td>\n",
       "      <td>91.01</td>\n",
       "      <td>95.70</td>\n",
       "      <td>98.75</td>\n",
       "      <td>99.54</td>\n",
       "    </tr>\n",
       "    <tr>\n",
       "      <th>60% db searched</th>\n",
       "      <td>83.41</td>\n",
       "      <td>87.07</td>\n",
       "      <td>88.98</td>\n",
       "      <td>94.72</td>\n",
       "      <td>97.80</td>\n",
       "      <td>99.39</td>\n",
       "      <td>99.79</td>\n",
       "    </tr>\n",
       "    <tr>\n",
       "      <th>70% db searched</th>\n",
       "      <td>89.14</td>\n",
       "      <td>91.45</td>\n",
       "      <td>93.32</td>\n",
       "      <td>97.20</td>\n",
       "      <td>99.12</td>\n",
       "      <td>99.76</td>\n",
       "      <td>99.93</td>\n",
       "    </tr>\n",
       "    <tr>\n",
       "      <th>80% db searched</th>\n",
       "      <td>94.20</td>\n",
       "      <td>95.42</td>\n",
       "      <td>96.75</td>\n",
       "      <td>98.71</td>\n",
       "      <td>99.67</td>\n",
       "      <td>99.94</td>\n",
       "      <td>99.99</td>\n",
       "    </tr>\n",
       "    <tr>\n",
       "      <th>90% db searched</th>\n",
       "      <td>97.81</td>\n",
       "      <td>98.26</td>\n",
       "      <td>98.86</td>\n",
       "      <td>99.60</td>\n",
       "      <td>99.93</td>\n",
       "      <td>100.00</td>\n",
       "      <td>100.00</td>\n",
       "    </tr>\n",
       "  </tbody>\n",
       "</table>\n",
       "</div>"
      ],
      "text/plain": [
       "                   p=2    p=4    p=8   p=16   p=32    p=64   p=128\n",
       "10% db searched  19.14  27.55  36.87  48.86  61.42   76.35   87.18\n",
       "20% db searched  38.77  48.82  54.51  67.33  78.41   89.21   95.41\n",
       "30% db searched  56.67  61.99  67.46  78.31  87.41   94.61   97.95\n",
       "40% db searched  69.03  72.37  76.39  85.70  92.64   97.19   99.02\n",
       "50% db searched  76.27  80.36  83.67  91.01  95.70   98.75   99.54\n",
       "60% db searched  83.41  87.07  88.98  94.72  97.80   99.39   99.79\n",
       "70% db searched  89.14  91.45  93.32  97.20  99.12   99.76   99.93\n",
       "80% db searched  94.20  95.42  96.75  98.71  99.67   99.94   99.99\n",
       "90% db searched  97.81  98.26  98.86  99.60  99.93  100.00  100.00"
      ]
     },
     "execution_count": 16,
     "metadata": {},
     "output_type": "execute_result"
    }
   ],
   "source": [
    "df_to_latex(TRAIN_RECALL_SAVE_PATH, df_recall_train)\n",
    "df_recall_train\n"
   ]
  },
  {
   "cell_type": "markdown",
   "metadata": {},
   "source": [
    "#### % Recall test set"
   ]
  },
  {
   "cell_type": "code",
   "execution_count": 17,
   "metadata": {},
   "outputs": [
    {
     "data": {
      "text/html": [
       "<div>\n",
       "<style scoped>\n",
       "    .dataframe tbody tr th:only-of-type {\n",
       "        vertical-align: middle;\n",
       "    }\n",
       "\n",
       "    .dataframe tbody tr th {\n",
       "        vertical-align: top;\n",
       "    }\n",
       "\n",
       "    .dataframe thead th {\n",
       "        text-align: right;\n",
       "    }\n",
       "</style>\n",
       "<table border=\"1\" class=\"dataframe\">\n",
       "  <thead>\n",
       "    <tr style=\"text-align: right;\">\n",
       "      <th></th>\n",
       "      <th>p=2</th>\n",
       "      <th>p=4</th>\n",
       "      <th>p=8</th>\n",
       "      <th>p=16</th>\n",
       "      <th>p=32</th>\n",
       "      <th>p=64</th>\n",
       "      <th>p=128</th>\n",
       "    </tr>\n",
       "  </thead>\n",
       "  <tbody>\n",
       "    <tr>\n",
       "      <th>10% db searched</th>\n",
       "      <td>17.45</td>\n",
       "      <td>24.73</td>\n",
       "      <td>28.95</td>\n",
       "      <td>36.34</td>\n",
       "      <td>45.52</td>\n",
       "      <td>57.29</td>\n",
       "      <td>67.21</td>\n",
       "    </tr>\n",
       "    <tr>\n",
       "      <th>20% db searched</th>\n",
       "      <td>35.34</td>\n",
       "      <td>44.04</td>\n",
       "      <td>46.66</td>\n",
       "      <td>55.22</td>\n",
       "      <td>65.38</td>\n",
       "      <td>77.44</td>\n",
       "      <td>85.55</td>\n",
       "    </tr>\n",
       "    <tr>\n",
       "      <th>30% db searched</th>\n",
       "      <td>51.24</td>\n",
       "      <td>56.91</td>\n",
       "      <td>59.75</td>\n",
       "      <td>68.55</td>\n",
       "      <td>77.69</td>\n",
       "      <td>87.03</td>\n",
       "      <td>92.95</td>\n",
       "    </tr>\n",
       "    <tr>\n",
       "      <th>40% db searched</th>\n",
       "      <td>63.05</td>\n",
       "      <td>67.63</td>\n",
       "      <td>69.53</td>\n",
       "      <td>77.95</td>\n",
       "      <td>85.51</td>\n",
       "      <td>92.51</td>\n",
       "      <td>96.16</td>\n",
       "    </tr>\n",
       "    <tr>\n",
       "      <th>50% db searched</th>\n",
       "      <td>72.10</td>\n",
       "      <td>75.10</td>\n",
       "      <td>78.24</td>\n",
       "      <td>84.70</td>\n",
       "      <td>90.80</td>\n",
       "      <td>95.85</td>\n",
       "      <td>97.78</td>\n",
       "    </tr>\n",
       "    <tr>\n",
       "      <th>60% db searched</th>\n",
       "      <td>80.24</td>\n",
       "      <td>82.73</td>\n",
       "      <td>85.18</td>\n",
       "      <td>89.96</td>\n",
       "      <td>94.65</td>\n",
       "      <td>97.72</td>\n",
       "      <td>98.86</td>\n",
       "    </tr>\n",
       "    <tr>\n",
       "      <th>70% db searched</th>\n",
       "      <td>86.84</td>\n",
       "      <td>88.57</td>\n",
       "      <td>90.59</td>\n",
       "      <td>94.21</td>\n",
       "      <td>97.11</td>\n",
       "      <td>98.88</td>\n",
       "      <td>99.46</td>\n",
       "    </tr>\n",
       "    <tr>\n",
       "      <th>80% db searched</th>\n",
       "      <td>92.63</td>\n",
       "      <td>93.78</td>\n",
       "      <td>94.92</td>\n",
       "      <td>97.08</td>\n",
       "      <td>98.63</td>\n",
       "      <td>99.61</td>\n",
       "      <td>99.81</td>\n",
       "    </tr>\n",
       "    <tr>\n",
       "      <th>90% db searched</th>\n",
       "      <td>97.16</td>\n",
       "      <td>97.02</td>\n",
       "      <td>98.10</td>\n",
       "      <td>98.89</td>\n",
       "      <td>99.58</td>\n",
       "      <td>99.90</td>\n",
       "      <td>99.98</td>\n",
       "    </tr>\n",
       "  </tbody>\n",
       "</table>\n",
       "</div>"
      ],
      "text/plain": [
       "                   p=2    p=4    p=8   p=16   p=32   p=64  p=128\n",
       "10% db searched  17.45  24.73  28.95  36.34  45.52  57.29  67.21\n",
       "20% db searched  35.34  44.04  46.66  55.22  65.38  77.44  85.55\n",
       "30% db searched  51.24  56.91  59.75  68.55  77.69  87.03  92.95\n",
       "40% db searched  63.05  67.63  69.53  77.95  85.51  92.51  96.16\n",
       "50% db searched  72.10  75.10  78.24  84.70  90.80  95.85  97.78\n",
       "60% db searched  80.24  82.73  85.18  89.96  94.65  97.72  98.86\n",
       "70% db searched  86.84  88.57  90.59  94.21  97.11  98.88  99.46\n",
       "80% db searched  92.63  93.78  94.92  97.08  98.63  99.61  99.81\n",
       "90% db searched  97.16  97.02  98.10  98.89  99.58  99.90  99.98"
      ]
     },
     "execution_count": 17,
     "metadata": {},
     "output_type": "execute_result"
    }
   ],
   "source": [
    "df_to_latex(TEST_RECALL_SAVE_PATH, df_recall_test)\n",
    "df_recall_test\n"
   ]
  },
  {
   "cell_type": "markdown",
   "metadata": {},
   "source": [
    "#### % Recall difference between train and test set"
   ]
  },
  {
   "cell_type": "code",
   "execution_count": 18,
   "metadata": {},
   "outputs": [
    {
     "data": {
      "text/html": [
       "<div>\n",
       "<style scoped>\n",
       "    .dataframe tbody tr th:only-of-type {\n",
       "        vertical-align: middle;\n",
       "    }\n",
       "\n",
       "    .dataframe tbody tr th {\n",
       "        vertical-align: top;\n",
       "    }\n",
       "\n",
       "    .dataframe thead th {\n",
       "        text-align: right;\n",
       "    }\n",
       "</style>\n",
       "<table border=\"1\" class=\"dataframe\">\n",
       "  <thead>\n",
       "    <tr style=\"text-align: right;\">\n",
       "      <th></th>\n",
       "      <th>p=2</th>\n",
       "      <th>p=4</th>\n",
       "      <th>p=8</th>\n",
       "      <th>p=16</th>\n",
       "      <th>p=32</th>\n",
       "      <th>p=64</th>\n",
       "      <th>p=128</th>\n",
       "    </tr>\n",
       "  </thead>\n",
       "  <tbody>\n",
       "    <tr>\n",
       "      <th>10% db searched</th>\n",
       "      <td>1.69</td>\n",
       "      <td>2.82</td>\n",
       "      <td>7.92</td>\n",
       "      <td>12.52</td>\n",
       "      <td>15.90</td>\n",
       "      <td>19.06</td>\n",
       "      <td>19.97</td>\n",
       "    </tr>\n",
       "    <tr>\n",
       "      <th>20% db searched</th>\n",
       "      <td>3.43</td>\n",
       "      <td>4.78</td>\n",
       "      <td>7.85</td>\n",
       "      <td>12.11</td>\n",
       "      <td>13.03</td>\n",
       "      <td>11.77</td>\n",
       "      <td>9.86</td>\n",
       "    </tr>\n",
       "    <tr>\n",
       "      <th>30% db searched</th>\n",
       "      <td>5.43</td>\n",
       "      <td>5.08</td>\n",
       "      <td>7.71</td>\n",
       "      <td>9.76</td>\n",
       "      <td>9.72</td>\n",
       "      <td>7.58</td>\n",
       "      <td>5.00</td>\n",
       "    </tr>\n",
       "    <tr>\n",
       "      <th>40% db searched</th>\n",
       "      <td>5.98</td>\n",
       "      <td>4.74</td>\n",
       "      <td>6.86</td>\n",
       "      <td>7.75</td>\n",
       "      <td>7.13</td>\n",
       "      <td>4.68</td>\n",
       "      <td>2.86</td>\n",
       "    </tr>\n",
       "    <tr>\n",
       "      <th>50% db searched</th>\n",
       "      <td>4.17</td>\n",
       "      <td>5.26</td>\n",
       "      <td>5.43</td>\n",
       "      <td>6.31</td>\n",
       "      <td>4.90</td>\n",
       "      <td>2.90</td>\n",
       "      <td>1.76</td>\n",
       "    </tr>\n",
       "    <tr>\n",
       "      <th>60% db searched</th>\n",
       "      <td>3.17</td>\n",
       "      <td>4.34</td>\n",
       "      <td>3.80</td>\n",
       "      <td>4.76</td>\n",
       "      <td>3.15</td>\n",
       "      <td>1.67</td>\n",
       "      <td>0.93</td>\n",
       "    </tr>\n",
       "    <tr>\n",
       "      <th>70% db searched</th>\n",
       "      <td>2.30</td>\n",
       "      <td>2.88</td>\n",
       "      <td>2.73</td>\n",
       "      <td>2.99</td>\n",
       "      <td>2.01</td>\n",
       "      <td>0.88</td>\n",
       "      <td>0.47</td>\n",
       "    </tr>\n",
       "    <tr>\n",
       "      <th>80% db searched</th>\n",
       "      <td>1.57</td>\n",
       "      <td>1.64</td>\n",
       "      <td>1.83</td>\n",
       "      <td>1.63</td>\n",
       "      <td>1.04</td>\n",
       "      <td>0.33</td>\n",
       "      <td>0.18</td>\n",
       "    </tr>\n",
       "    <tr>\n",
       "      <th>90% db searched</th>\n",
       "      <td>0.65</td>\n",
       "      <td>1.24</td>\n",
       "      <td>0.76</td>\n",
       "      <td>0.71</td>\n",
       "      <td>0.35</td>\n",
       "      <td>0.10</td>\n",
       "      <td>0.02</td>\n",
       "    </tr>\n",
       "  </tbody>\n",
       "</table>\n",
       "</div>"
      ],
      "text/plain": [
       "                  p=2   p=4   p=8   p=16   p=32   p=64  p=128\n",
       "10% db searched  1.69  2.82  7.92  12.52  15.90  19.06  19.97\n",
       "20% db searched  3.43  4.78  7.85  12.11  13.03  11.77   9.86\n",
       "30% db searched  5.43  5.08  7.71   9.76   9.72   7.58   5.00\n",
       "40% db searched  5.98  4.74  6.86   7.75   7.13   4.68   2.86\n",
       "50% db searched  4.17  5.26  5.43   6.31   4.90   2.90   1.76\n",
       "60% db searched  3.17  4.34  3.80   4.76   3.15   1.67   0.93\n",
       "70% db searched  2.30  2.88  2.73   2.99   2.01   0.88   0.47\n",
       "80% db searched  1.57  1.64  1.83   1.63   1.04   0.33   0.18\n",
       "90% db searched  0.65  1.24  0.76   0.71   0.35   0.10   0.02"
      ]
     },
     "execution_count": 18,
     "metadata": {},
     "output_type": "execute_result"
    }
   ],
   "source": [
    "recall_differences = df_recall_train - df_recall_test\n",
    "df_to_latex(RECALL_DIFF_SAVE_PATH, recall_differences)\n",
    "recall_differences\n"
   ]
  },
  {
   "cell_type": "markdown",
   "metadata": {},
   "source": [
    "#### Plot recall"
   ]
  },
  {
   "cell_type": "code",
   "execution_count": 19,
   "metadata": {},
   "outputs": [],
   "source": [
    "def plot_recall(df, title):\n",
    "    df.index = [item[:2] for item in recall_differences.index]\n",
    "    df.plot(figsize=(6, 6))\n",
    "    plt.title(title)\n",
    "    plt.xlabel('% db searched')\n",
    "    plt.ylabel('% recall')\n",
    "    plt.show()\n"
   ]
  },
  {
   "cell_type": "code",
   "execution_count": 20,
   "metadata": {
    "scrolled": false
   },
   "outputs": [
    {
     "data": {
      "image/png": "[encoded data removed]",
      "text/plain": [
       "<matplotlib.figure.Figure at 0x7f5f6f56e4e0>"
      ]
     },
     "metadata": {},
     "output_type": "display_data"
    }
   ],
   "source": [
    "plot_recall(df_recall_train,title='% recall train set')"
   ]
  },
  {
   "cell_type": "code",
   "execution_count": 21,
   "metadata": {},
   "outputs": [
    {
     "data": {
      "image/png": "[encoded data removed]",
      "text/plain": [
       "<matplotlib.figure.Figure at 0x7f5f6f4d5128>"
      ]
     },
     "metadata": {},
     "output_type": "display_data"
    }
   ],
   "source": [
    "plot_recall(df_recall_test, title='% recall test set')\n"
   ]
  },
  {
   "cell_type": "code",
   "execution_count": 22,
   "metadata": {},
   "outputs": [
    {
     "data": {
      "image/png": "[encoded data removed]",
      "text/plain": [
       "<matplotlib.figure.Figure at 0x7f5f6a937208>"
      ]
     },
     "metadata": {},
     "output_type": "display_data"
    }
   ],
   "source": [
    "plot_recall(recall_differences, title='% recall differences train vs test set')\n"
   ]
  },
  {
   "cell_type": "markdown",
   "metadata": {},
   "source": [
    "#### Evaluate Sketch properties train set vs test set"
   ]
  },
  {
   "cell_type": "code",
   "execution_count": 23,
   "metadata": {},
   "outputs": [
    {
     "data": {
      "text/plain": [
       "(8000, 128)"
      ]
     },
     "execution_count": 23,
     "metadata": {},
     "output_type": "execute_result"
    }
   ],
   "source": [
    "train_set = np.concatenate((sketches_train, sketches_queries_train))\n",
    "train_set.shape\n"
   ]
  },
  {
   "cell_type": "code",
   "execution_count": 24,
   "metadata": {},
   "outputs": [
    {
     "data": {
      "text/plain": [
       "(2000, 128)"
      ]
     },
     "execution_count": 24,
     "metadata": {},
     "output_type": "execute_result"
    }
   ],
   "source": [
    "test_set = np.concatenate((sketches_test, sketches_queries_test))\n",
    "test_set.shape\n"
   ]
  },
  {
   "cell_type": "code",
   "execution_count": 25,
   "metadata": {},
   "outputs": [],
   "source": [
    "def mean_balance_score(sketch_set, sketch_size):\n",
    "    sketches = sketch_set.T[:sketch_size].T\n",
    "    counts_one = np.zeros(sketches.shape[1])\n",
    "    for i in range(sketches.shape[0]):\n",
    "        for j in range(sketches.shape[1]):\n",
    "            if sketches[i][j] == 1:\n",
    "                counts_one[j] += 1\n",
    "    return np.mean([balance_score(cnt, sketches.shape[0]) for cnt in counts_one])\n",
    "\n",
    "def mean_corr(sketch_set, sketch_size):\n",
    "    sketches = sketch_set.T[:sketch_size].T\n",
    "    corr_mtx = compute_corr_mtx(sketches)\n",
    "    return np.mean(get_upper_triangle_values(corr_mtx))\n"
   ]
  },
  {
   "cell_type": "code",
   "execution_count": 26,
   "metadata": {},
   "outputs": [
    {
     "name": "stderr",
     "output_type": "stream",
     "text": [
      "/home/matej/project/similarity-searching-sketches/similarity_searching_sketches/multi_hash_index_stats.py:21: FutureWarning: '.reindex_axis' is deprecated and will be removed in a future version. Use '.reindex' instead.\n",
      "  return pd.DataFrame.from_dict({key: stats[key] for key in keys}).reindex_axis(keys, axis=1)\n"
     ]
    }
   ],
   "source": [
    "keys = ['p', 'Balance score train', 'Corr train', 'Balance score test', 'Corr test', 'Balance score diff', 'Corr diff']\n",
    "stats = {key: [] for key in keys}\n",
    "for length in TESTED_SKETCH_LENGTHS:\n",
    "    bal_train = mean_balance_score(train_set, length)\n",
    "    bal_test = mean_balance_score(test_set, length)\n",
    "    corr_train = mean_corr(train_set, length)\n",
    "    corr_test = mean_corr(test_set, length)\n",
    "    stats['p'].append(length)\n",
    "    stats['Balance score test'].append(bal_test)\n",
    "    stats['Balance score train'].append(bal_train)\n",
    "    stats['Corr test'].append(corr_test)\n",
    "    stats['Corr train'].append(corr_train)\n",
    "    stats['Balance score diff'].append(bal_test - bal_train)\n",
    "    stats['Corr diff'].append(corr_test - corr_train)\n",
    "stats_df = stats_to_pandas(keys, stats)\n"
   ]
  },
  {
   "cell_type": "code",
   "execution_count": 27,
   "metadata": {},
   "outputs": [
    {
     "data": {
      "text/html": [
       "<div>\n",
       "<style scoped>\n",
       "    .dataframe tbody tr th:only-of-type {\n",
       "        vertical-align: middle;\n",
       "    }\n",
       "\n",
       "    .dataframe tbody tr th {\n",
       "        vertical-align: top;\n",
       "    }\n",
       "\n",
       "    .dataframe thead th {\n",
       "        text-align: right;\n",
       "    }\n",
       "</style>\n",
       "<table border=\"1\" class=\"dataframe\">\n",
       "  <thead>\n",
       "    <tr style=\"text-align: right;\">\n",
       "      <th></th>\n",
       "      <th>p</th>\n",
       "      <th>Balance score train</th>\n",
       "      <th>Corr train</th>\n",
       "      <th>Balance score test</th>\n",
       "      <th>Corr test</th>\n",
       "      <th>Balance score diff</th>\n",
       "      <th>Corr diff</th>\n",
       "    </tr>\n",
       "  </thead>\n",
       "  <tbody>\n",
       "    <tr>\n",
       "      <th>0</th>\n",
       "      <td>2</td>\n",
       "      <td>0.714875</td>\n",
       "      <td>0.000094</td>\n",
       "      <td>0.705500</td>\n",
       "      <td>0.035173</td>\n",
       "      <td>-0.009375</td>\n",
       "      <td>0.035080</td>\n",
       "    </tr>\n",
       "    <tr>\n",
       "      <th>1</th>\n",
       "      <td>4</td>\n",
       "      <td>0.613812</td>\n",
       "      <td>0.018349</td>\n",
       "      <td>0.613250</td>\n",
       "      <td>0.025895</td>\n",
       "      <td>-0.000562</td>\n",
       "      <td>0.007546</td>\n",
       "    </tr>\n",
       "    <tr>\n",
       "      <th>2</th>\n",
       "      <td>8</td>\n",
       "      <td>0.662219</td>\n",
       "      <td>0.049696</td>\n",
       "      <td>0.654750</td>\n",
       "      <td>0.054369</td>\n",
       "      <td>-0.007469</td>\n",
       "      <td>0.004673</td>\n",
       "    </tr>\n",
       "    <tr>\n",
       "      <th>3</th>\n",
       "      <td>16</td>\n",
       "      <td>0.644188</td>\n",
       "      <td>0.070557</td>\n",
       "      <td>0.642062</td>\n",
       "      <td>0.075108</td>\n",
       "      <td>-0.002125</td>\n",
       "      <td>0.004551</td>\n",
       "    </tr>\n",
       "    <tr>\n",
       "      <th>4</th>\n",
       "      <td>32</td>\n",
       "      <td>0.645672</td>\n",
       "      <td>0.083050</td>\n",
       "      <td>0.644313</td>\n",
       "      <td>0.085052</td>\n",
       "      <td>-0.001359</td>\n",
       "      <td>0.002002</td>\n",
       "    </tr>\n",
       "    <tr>\n",
       "      <th>5</th>\n",
       "      <td>64</td>\n",
       "      <td>0.666715</td>\n",
       "      <td>0.096758</td>\n",
       "      <td>0.664281</td>\n",
       "      <td>0.098420</td>\n",
       "      <td>-0.002434</td>\n",
       "      <td>0.001662</td>\n",
       "    </tr>\n",
       "    <tr>\n",
       "      <th>6</th>\n",
       "      <td>128</td>\n",
       "      <td>0.688744</td>\n",
       "      <td>0.117108</td>\n",
       "      <td>0.687281</td>\n",
       "      <td>0.118643</td>\n",
       "      <td>-0.001463</td>\n",
       "      <td>0.001535</td>\n",
       "    </tr>\n",
       "  </tbody>\n",
       "</table>\n",
       "</div>"
      ],
      "text/plain": [
       "     p  Balance score train  Corr train  Balance score test  Corr test  \\\n",
       "0    2             0.714875    0.000094            0.705500   0.035173   \n",
       "1    4             0.613812    0.018349            0.613250   0.025895   \n",
       "2    8             0.662219    0.049696            0.654750   0.054369   \n",
       "3   16             0.644188    0.070557            0.642062   0.075108   \n",
       "4   32             0.645672    0.083050            0.644313   0.085052   \n",
       "5   64             0.666715    0.096758            0.664281   0.098420   \n",
       "6  128             0.688744    0.117108            0.687281   0.118643   \n",
       "\n",
       "   Balance score diff  Corr diff  \n",
       "0           -0.009375   0.035080  \n",
       "1           -0.000562   0.007546  \n",
       "2           -0.007469   0.004673  \n",
       "3           -0.002125   0.004551  \n",
       "4           -0.001359   0.002002  \n",
       "5           -0.002434   0.001662  \n",
       "6           -0.001463   0.001535  "
      ]
     },
     "execution_count": 27,
     "metadata": {},
     "output_type": "execute_result"
    }
   ],
   "source": [
    "stats_df"
   ]
  },
  {
   "cell_type": "code",
   "execution_count": 28,
   "metadata": {},
   "outputs": [],
   "source": [
    "df_to_latex(TRAIN_VS_TEST_LATEX_SAVE_PATH, stats_df)\n"
   ]
  },
  {
   "cell_type": "code",
   "execution_count": null,
   "metadata": {},
   "outputs": [],
   "source": []
  }
 ],
 "metadata": {
  "kernelspec": {
   "display_name": "Python 3",
   "language": "python",
   "name": "python3"
  },
  "language_info": {
   "codemirror_mode": {
    "name": "ipython",
    "version": 3
   },
   "file_extension": ".py",
   "mimetype": "text/x-python",
   "name": "python",
   "nbconvert_exporter": "python",
   "pygments_lexer": "ipython3",
   "version": "3.5.2"
  }
 },
 "nbformat": 4,
 "nbformat_minor": 2
}
