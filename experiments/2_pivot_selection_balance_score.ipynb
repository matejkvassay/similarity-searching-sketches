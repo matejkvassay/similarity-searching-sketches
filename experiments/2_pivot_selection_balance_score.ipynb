{
 "cells": [
  {
   "cell_type": "code",
   "execution_count": 1,
   "metadata": {},
   "outputs": [],
   "source": [
    "import numpy as np\n",
    "import pandas as pd\n",
    "from scipy.stats import spearmanr\n",
    "from similarity_searching_sketches.stat_utils import interpret_corr_result\n",
    "from similarity_searching_sketches.persistence import load_np_array\n",
    "from similarity_searching_sketches.persistence import save_np_array\n",
    "from similarity_searching_sketches.partitioning import assign_ghp_partition\n",
    "from similarity_searching_sketches.partitioning import balance_score\n",
    "from similarity_searching_sketches.visualization import plot_array\n",
    "from similarity_searching_sketches.log_utils import IterationLogger"
   ]
  },
  {
   "cell_type": "code",
   "execution_count": 2,
   "metadata": {},
   "outputs": [],
   "source": [
    "DATA_FOLDER='/home/matej/data/sketch-testing/dataset_10K/'\n",
    "PIVOT_CAND_SAVE_FILE=DATA_FOLDER+'pivot_candidates.npy' #where to save array of pivot couple candidates sorted by balance score\n",
    "BALANCE_SCORES_SAVE_FILE=DATA_FOLDER+'balance_scores.npy' #where to save array of balance scores of pivot candidate couples\n",
    "HP_DISTANCES_SAVE_FILE=DATA_FOLDER+'hp_distances.npy' #where to save mean distances of objects to dividing hyperplane\n",
    "SKETCH_MATRIX_SAVE_FILE=DATA_FOLDER+'sketch_matrix.npy' #where to save Sketch Matrix to\n",
    "TRAIN_SET_PATH=DATA_FOLDER+'train_set.npy' #read Training set from\n",
    "N_PIVOT_CANDIDATE_COUPLES=1000 #How many pivot couples to randomly select\n",
    "LOG_BY=1000 #Log iterations by"
   ]
  },
  {
   "cell_type": "markdown",
   "metadata": {},
   "source": [
    "#### Load Training set"
   ]
  },
  {
   "cell_type": "code",
   "execution_count": 3,
   "metadata": {},
   "outputs": [],
   "source": [
    "vecs=load_np_array(TRAIN_SET_PATH)"
   ]
  },
  {
   "cell_type": "code",
   "execution_count": 4,
   "metadata": {},
   "outputs": [
    {
     "data": {
      "text/plain": [
       "(8000, 4096)"
      ]
     },
     "execution_count": 4,
     "metadata": {},
     "output_type": "execute_result"
    }
   ],
   "source": [
    "vecs.shape"
   ]
  },
  {
   "cell_type": "markdown",
   "metadata": {},
   "source": [
    "#### Balance score function visualization"
   ]
  },
  {
   "cell_type": "code",
   "execution_count": 5,
   "metadata": {
    "scrolled": true
   },
   "outputs": [
    {
     "data": {
      "image/png": "[encoded data removed]",
      "text/plain": [
       "<matplotlib.figure.Figure at 0x7f2a296bd240>"
      ]
     },
     "metadata": {},
     "output_type": "display_data"
    }
   ],
   "source": [
    "plot_array([balance_score(float(num),float(1000)) for num in range(0,1001)], title='Balance score function',xlabel='Count objects in partition 1',ylabel='Balance score')"
   ]
  },
  {
   "cell_type": "markdown",
   "metadata": {},
   "source": [
    "#### Select random pivot couples as pivot candidates"
   ]
  },
  {
   "cell_type": "code",
   "execution_count": 6,
   "metadata": {},
   "outputs": [],
   "source": [
    "rand_indices=np.random.choice(vecs.shape[0], size=N_PIVOT_CANDIDATE_COUPLES*2, replace=False)"
   ]
  },
  {
   "cell_type": "code",
   "execution_count": 7,
   "metadata": {},
   "outputs": [],
   "source": [
    "pivot_cand=np.array(list(zip(*np.split(vecs[rand_indices],2)))) #get pivot candidate couples"
   ]
  },
  {
   "cell_type": "code",
   "execution_count": 8,
   "metadata": {},
   "outputs": [
    {
     "data": {
      "text/plain": [
       "(1000, 2, 4096)"
      ]
     },
     "execution_count": 8,
     "metadata": {},
     "output_type": "execute_result"
    }
   ],
   "source": [
    "pivot_cand.shape"
   ]
  },
  {
   "cell_type": "markdown",
   "metadata": {},
   "source": [
    "#### Assign partitions to objects and compute distances"
   ]
  },
  {
   "cell_type": "code",
   "execution_count": 9,
   "metadata": {},
   "outputs": [],
   "source": [
    "sketch_matrix=np.zeros(shape=(vecs.shape[0], N_PIVOT_CANDIDATE_COUPLES))\n",
    "partition_one_cnts=np.zeros(N_PIVOT_CANDIDATE_COUPLES)\n",
    "sum_distances_from_hp=np.zeros(N_PIVOT_CANDIDATE_COUPLES)"
   ]
  },
  {
   "cell_type": "code",
   "execution_count": 10,
   "metadata": {},
   "outputs": [
    {
     "name": "stderr",
     "output_type": "stream",
     "text": [
      "INFO:IterationLogger| Started iteration no.: 1000\n",
      " Time from previous iteration: 66.72227144241333s\n",
      " Time from start: 66.72227168083191s\n",
      "INFO:IterationLogger| Started iteration no.: 2000\n",
      " Time from previous iteration: 69.81164979934692s\n",
      " Time from start: 136.53392243385315s\n",
      "INFO:IterationLogger| Started iteration no.: 3000\n",
      " Time from previous iteration: 68.07259392738342s\n",
      " Time from start: 204.6065173149109s\n",
      "INFO:IterationLogger| Started iteration no.: 4000\n",
      " Time from previous iteration: 68.64065456390381s\n",
      " Time from start: 273.24717259407043s\n",
      "INFO:IterationLogger| Started iteration no.: 5000\n",
      " Time from previous iteration: 67.93503952026367s\n",
      " Time from start: 341.18221282958984s\n",
      "INFO:IterationLogger| Started iteration no.: 6000\n",
      " Time from previous iteration: 69.34975719451904s\n",
      " Time from start: 410.5319707393646s\n",
      "INFO:IterationLogger| Started iteration no.: 7000\n",
      " Time from previous iteration: 67.12211322784424s\n",
      " Time from start: 477.6540846824646s\n",
      "INFO:IterationLogger| Started iteration no.: 8000\n",
      " Time from previous iteration: 67.49748682975769s\n",
      " Time from start: 545.151572227478s\n"
     ]
    }
   ],
   "source": [
    "logger=IterationLogger(log_by=LOG_BY)\n",
    "for i, vec in enumerate(vecs):\n",
    "    logger.next_iter()\n",
    "    for j, (pivot_a, pivot_b) in enumerate(pivot_cand):\n",
    "        partition, dist=assign_ghp_partition(vec, pivot_a, pivot_b, distance_to_hp=True)\n",
    "        sketch_matrix[i][j]=partition\n",
    "        sum_distances_from_hp[j]+=dist\n",
    "        if partition==1:\n",
    "            partition_one_cnts[j]+=1\n",
    "        "
   ]
  },
  {
   "cell_type": "markdown",
   "metadata": {},
   "source": [
    "#### Distances from dividing hyperplane"
   ]
  },
  {
   "cell_type": "code",
   "execution_count": 11,
   "metadata": {},
   "outputs": [],
   "source": [
    "mean_distances=sum_distances_from_hp/vecs.shape[0]"
   ]
  },
  {
   "cell_type": "code",
   "execution_count": 12,
   "metadata": {},
   "outputs": [
    {
     "data": {
      "image/png": "[encoded data removed]",
      "text/plain": [
       "<matplotlib.figure.Figure at 0x7f29e53d0940>"
      ]
     },
     "metadata": {},
     "output_type": "display_data"
    }
   ],
   "source": [
    "plot_array(sorted(mean_distances,reverse=True), title='Mean distances of objects to dividing hyperplane (sorted)',xlabel='Pivot couple',ylabel='Mean distance to HP')"
   ]
  },
  {
   "cell_type": "markdown",
   "metadata": {},
   "source": [
    "#### Compute Balance scores\n",
    "Larger balance score is better."
   ]
  },
  {
   "cell_type": "code",
   "execution_count": 13,
   "metadata": {},
   "outputs": [],
   "source": [
    "balance_scores=np.array([balance_score(cnt_part, vecs.shape[0]) for cnt_part in partition_one_cnts])"
   ]
  },
  {
   "cell_type": "code",
   "execution_count": 14,
   "metadata": {},
   "outputs": [
    {
     "data": {
      "text/html": [
       "<div>\n",
       "<style scoped>\n",
       "    .dataframe tbody tr th:only-of-type {\n",
       "        vertical-align: middle;\n",
       "    }\n",
       "\n",
       "    .dataframe tbody tr th {\n",
       "        vertical-align: top;\n",
       "    }\n",
       "\n",
       "    .dataframe thead th {\n",
       "        text-align: right;\n",
       "    }\n",
       "</style>\n",
       "<table border=\"1\" class=\"dataframe\">\n",
       "  <thead>\n",
       "    <tr style=\"text-align: right;\">\n",
       "      <th></th>\n",
       "      <th>0</th>\n",
       "    </tr>\n",
       "  </thead>\n",
       "  <tbody>\n",
       "    <tr>\n",
       "      <th>count</th>\n",
       "      <td>1000.000000</td>\n",
       "    </tr>\n",
       "    <tr>\n",
       "      <th>mean</th>\n",
       "      <td>0.470455</td>\n",
       "    </tr>\n",
       "    <tr>\n",
       "      <th>std</th>\n",
       "      <td>0.310480</td>\n",
       "    </tr>\n",
       "    <tr>\n",
       "      <th>min</th>\n",
       "      <td>0.000750</td>\n",
       "    </tr>\n",
       "    <tr>\n",
       "      <th>25%</th>\n",
       "      <td>0.177937</td>\n",
       "    </tr>\n",
       "    <tr>\n",
       "      <th>50%</th>\n",
       "      <td>0.461250</td>\n",
       "    </tr>\n",
       "    <tr>\n",
       "      <th>75%</th>\n",
       "      <td>0.749062</td>\n",
       "    </tr>\n",
       "    <tr>\n",
       "      <th>max</th>\n",
       "      <td>0.998500</td>\n",
       "    </tr>\n",
       "  </tbody>\n",
       "</table>\n",
       "</div>"
      ],
      "text/plain": [
       "                 0\n",
       "count  1000.000000\n",
       "mean      0.470455\n",
       "std       0.310480\n",
       "min       0.000750\n",
       "25%       0.177937\n",
       "50%       0.461250\n",
       "75%       0.749062\n",
       "max       0.998500"
      ]
     },
     "execution_count": 14,
     "metadata": {},
     "output_type": "execute_result"
    }
   ],
   "source": [
    "pd.DataFrame(balance_scores).describe()"
   ]
  },
  {
   "cell_type": "code",
   "execution_count": 15,
   "metadata": {},
   "outputs": [],
   "source": [
    "sorted_args=np.argsort(balance_scores)[::-1]\n",
    "balance_scores_sorted=balance_scores[sorted_args]\n",
    "pivot_cand_sorted=pivot_cand[sorted_args]\n",
    "sketch_matrix_sorted=sketch_matrix[:,sorted_args]"
   ]
  },
  {
   "cell_type": "code",
   "execution_count": 16,
   "metadata": {},
   "outputs": [
    {
     "data": {
      "image/png": "[encoded data removed]",
      "text/plain": [
       "<matplotlib.figure.Figure at 0x7f29e53fcef0>"
      ]
     },
     "metadata": {},
     "output_type": "display_data"
    }
   ],
   "source": [
    "plot_array(balance_scores_sorted, title='Pivot couple\\'s Balance scores (sorted)',xlabel='Pivot couple',ylabel='Balance score')"
   ]
  },
  {
   "cell_type": "markdown",
   "metadata": {},
   "source": [
    "#### Correlation between balance score and distance from dividing hyperplane"
   ]
  },
  {
   "cell_type": "code",
   "execution_count": 17,
   "metadata": {},
   "outputs": [],
   "source": [
    "mean_hp_distances_sorted=mean_distances[sorted_args]"
   ]
  },
  {
   "cell_type": "code",
   "execution_count": 18,
   "metadata": {},
   "outputs": [
    {
     "data": {
      "image/png": "[encoded data removed]",
      "text/plain": [
       "<matplotlib.figure.Figure at 0x7f29e53660f0>"
      ]
     },
     "metadata": {},
     "output_type": "display_data"
    }
   ],
   "source": [
    "plot_array(mean_hp_distances_sorted, title='Mean distance of objects to dividing hyperplane sorted by balance score',xlabel='Pivot couple',ylabel='Mean distance to HP')"
   ]
  },
  {
   "cell_type": "code",
   "execution_count": 19,
   "metadata": {},
   "outputs": [],
   "source": [
    "corr,pval=spearmanr(balance_scores_sorted, b=mean_hp_distances_sorted)"
   ]
  },
  {
   "cell_type": "code",
   "execution_count": 20,
   "metadata": {},
   "outputs": [
    {
     "data": {
      "text/plain": [
       "-0.5822425248629588"
      ]
     },
     "execution_count": 20,
     "metadata": {},
     "output_type": "execute_result"
    }
   ],
   "source": [
    "corr"
   ]
  },
  {
   "cell_type": "code",
   "execution_count": 21,
   "metadata": {},
   "outputs": [
    {
     "data": {
      "text/plain": [
       "8.2179446815146445e-92"
      ]
     },
     "execution_count": 21,
     "metadata": {},
     "output_type": "execute_result"
    }
   ],
   "source": [
    "pval"
   ]
  },
  {
   "cell_type": "code",
   "execution_count": 22,
   "metadata": {},
   "outputs": [
    {
     "name": "stdout",
     "output_type": "stream",
     "text": [
      "Computed correlation -0.582242524863 which can be interpreted as moderate negative linear dependence is statistically significant on confidence interval [0.95,1].\n"
     ]
    }
   ],
   "source": [
    "interpret_corr_result(corr,pval)"
   ]
  },
  {
   "cell_type": "markdown",
   "metadata": {},
   "source": [
    "#### Persist pivots, their balance scores and distances from HP sorted by balance score"
   ]
  },
  {
   "cell_type": "code",
   "execution_count": 23,
   "metadata": {},
   "outputs": [],
   "source": [
    "save_np_array(PIVOT_CAND_SAVE_FILE, pivot_cand_sorted)\n",
    "save_np_array(BALANCE_SCORES_SAVE_FILE, balance_scores_sorted)\n",
    "save_np_array(HP_DISTANCES_SAVE_FILE, mean_hp_distances_sorted)\n",
    "save_np_array(SKETCH_MATRIX_SAVE_FILE, sketch_matrix_sorted)"
   ]
  },
  {
   "cell_type": "code",
   "execution_count": null,
   "metadata": {},
   "outputs": [],
   "source": []
  }
 ],
 "metadata": {
  "kernelspec": {
   "display_name": "Python 3",
   "language": "python",
   "name": "python3"
  },
  "language_info": {
   "codemirror_mode": {
    "name": "ipython",
    "version": 3
   },
   "file_extension": ".py",
   "mimetype": "text/x-python",
   "name": "python",
   "nbconvert_exporter": "python",
   "pygments_lexer": "ipython3",
   "version": "3.5.2"
  }
 },
 "nbformat": 4,
 "nbformat_minor": 2
}
