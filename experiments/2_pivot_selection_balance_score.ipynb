{
 "cells": [
  {
   "cell_type": "code",
   "execution_count": 1,
   "metadata": {},
   "outputs": [],
   "source": [
    "import numpy as np\n",
    "import pandas as pd\n",
    "from scipy.stats import spearmanr\n",
    "from similarity_searching_sketches.stat_utils import interpret_corr_result\n",
    "from similarity_searching_sketches.persistence import load_np_array\n",
    "from similarity_searching_sketches.persistence import save_np_array\n",
    "from similarity_searching_sketches.partitioning import assign_ghp_partition\n",
    "from similarity_searching_sketches.partitioning import balance_score\n",
    "from similarity_searching_sketches.visualization import plot_array\n",
    "from similarity_searching_sketches.log_utils import IterationLogger"
   ]
  },
  {
   "cell_type": "code",
   "execution_count": 2,
   "metadata": {},
   "outputs": [],
   "source": [
    "DATA_FOLDER='/home/matej/data/sketch-testing/dataset_10K/'\n",
    "PIVOT_CAND_SAVE_FILE=DATA_FOLDER+'pivot_candidates.npy' #where to save array of pivot couple candidates sorted by balance score\n",
    "BALANCE_SCORES_SAVE_FILE=DATA_FOLDER+'balance_scores.npy' #where to save array of balance scores of pivot candidate couples\n",
    "HP_DISTANCES_SAVE_FILE=DATA_FOLDER+'hp_distances.npy' #where to save mean distances of objects to dividing hyperplane\n",
    "TRAIN_SET_PATH=DATA_FOLDER+'train_set.npy' #read Training set from\n",
    "N_PIVOT_CANDIDATE_COUPLES=1000 #How many pivot couples to randomly select\n",
    "LOG_BY=1000 #Log iterations by"
   ]
  },
  {
   "cell_type": "markdown",
   "metadata": {},
   "source": [
    "#### Load Training set"
   ]
  },
  {
   "cell_type": "code",
   "execution_count": 3,
   "metadata": {},
   "outputs": [],
   "source": [
    "vecs=load_np_array(TRAIN_SET_PATH)"
   ]
  },
  {
   "cell_type": "code",
   "execution_count": 4,
   "metadata": {},
   "outputs": [
    {
     "data": {
      "text/plain": [
       "(8000, 4096)"
      ]
     },
     "execution_count": 4,
     "metadata": {},
     "output_type": "execute_result"
    }
   ],
   "source": [
    "vecs.shape"
   ]
  },
  {
   "cell_type": "markdown",
   "metadata": {},
   "source": [
    "#### Balance score function visualization"
   ]
  },
  {
   "cell_type": "code",
   "execution_count": 5,
   "metadata": {
    "scrolled": true
   },
   "outputs": [
    {
     "data": {
      "image/png": "[encoded data removed]",
      "text/plain": [
       "<matplotlib.figure.Figure at 0x7f44707c7240>"
      ]
     },
     "metadata": {},
     "output_type": "display_data"
    }
   ],
   "source": [
    "plot_array([balance_score(float(num),float(1000)) for num in range(0,1001)], title='Balance score function',xlabel='Count objects in partition 1',ylabel='Balance score')"
   ]
  },
  {
   "cell_type": "markdown",
   "metadata": {},
   "source": [
    "#### Select random pivot couples as pivot candidates"
   ]
  },
  {
   "cell_type": "code",
   "execution_count": 6,
   "metadata": {},
   "outputs": [],
   "source": [
    "rand_indices=np.random.choice(vecs.shape[0], size=N_PIVOT_CANDIDATE_COUPLES*2, replace=False)"
   ]
  },
  {
   "cell_type": "code",
   "execution_count": 7,
   "metadata": {},
   "outputs": [],
   "source": [
    "pivot_cand=np.array(list(zip(*np.split(vecs[rand_indices],2)))) #get pivot candidate couples"
   ]
  },
  {
   "cell_type": "code",
   "execution_count": 8,
   "metadata": {},
   "outputs": [
    {
     "data": {
      "text/plain": [
       "(1000, 2, 4096)"
      ]
     },
     "execution_count": 8,
     "metadata": {},
     "output_type": "execute_result"
    }
   ],
   "source": [
    "pivot_cand.shape"
   ]
  },
  {
   "cell_type": "markdown",
   "metadata": {},
   "source": [
    "#### Assign partitions to objects and compute distances"
   ]
  },
  {
   "cell_type": "code",
   "execution_count": 9,
   "metadata": {},
   "outputs": [],
   "source": [
    "partitions=np.zeros(shape=(vecs.shape[0], N_PIVOT_CANDIDATE_COUPLES))\n",
    "partition_one_cnts=np.zeros(N_PIVOT_CANDIDATE_COUPLES)\n",
    "sum_distances_from_hp=np.zeros(N_PIVOT_CANDIDATE_COUPLES)"
   ]
  },
  {
   "cell_type": "code",
   "execution_count": 10,
   "metadata": {},
   "outputs": [
    {
     "name": "stderr",
     "output_type": "stream",
     "text": [
      "INFO:IterationLogger| Started iteration no.: 1000\n",
      " Time from previous iteration: 71.23465156555176s\n",
      " Time from start: 71.2346510887146s\n",
      "INFO:IterationLogger| Started iteration no.: 2000\n",
      " Time from previous iteration: 69.66077375411987s\n",
      " Time from start: 140.8954255580902s\n",
      "INFO:IterationLogger| Started iteration no.: 3000\n",
      " Time from previous iteration: 69.26029968261719s\n",
      " Time from start: 210.15572595596313s\n",
      "INFO:IterationLogger| Started iteration no.: 4000\n",
      " Time from previous iteration: 67.02484607696533s\n",
      " Time from start: 277.1805727481842s\n",
      "INFO:IterationLogger| Started iteration no.: 5000\n",
      " Time from previous iteration: 68.38053464889526s\n",
      " Time from start: 345.5611081123352s\n",
      "INFO:IterationLogger| Started iteration no.: 6000\n",
      " Time from previous iteration: 67.80962920188904s\n",
      " Time from start: 413.37073826789856s\n",
      "INFO:IterationLogger| Started iteration no.: 7000\n",
      " Time from previous iteration: 73.7589156627655s\n",
      " Time from start: 487.1296546459198s\n",
      "INFO:IterationLogger| Started iteration no.: 8000\n",
      " Time from previous iteration: 67.04075527191162s\n",
      " Time from start: 554.1704106330872s\n"
     ]
    }
   ],
   "source": [
    "logger=IterationLogger(log_by=LOG_BY)\n",
    "for i, vec in enumerate(vecs):\n",
    "    logger.next_iter()\n",
    "    for j, (pivot_a, pivot_b) in enumerate(pivot_cand):\n",
    "        partition, dist=assign_ghp_partition(vec, pivot_a, pivot_b, distance_to_hp=True)\n",
    "        partitions[i]=partition\n",
    "        sum_distances_from_hp[j]+=dist\n",
    "        if partition==1:\n",
    "            partition_one_cnts[j]+=1\n",
    "        "
   ]
  },
  {
   "cell_type": "markdown",
   "metadata": {},
   "source": [
    "#### Distances from dividing hyperplane"
   ]
  },
  {
   "cell_type": "code",
   "execution_count": 11,
   "metadata": {},
   "outputs": [],
   "source": [
    "mean_distances=sum_distances_from_hp/vecs.shape[0]"
   ]
  },
  {
   "cell_type": "code",
   "execution_count": 12,
   "metadata": {},
   "outputs": [
    {
     "data": {
      "image/png": "[encoded data removed]",
      "text/plain": [
       "<matplotlib.figure.Figure at 0x7f442c53b898>"
      ]
     },
     "metadata": {},
     "output_type": "display_data"
    }
   ],
   "source": [
    "plot_array(sorted(mean_distances,reverse=True), title='Mean distances of objects to dividing hyperplane (sorted)',xlabel='Pivot couple',ylabel='Mean distance to HP')"
   ]
  },
  {
   "cell_type": "markdown",
   "metadata": {},
   "source": [
    "#### Compute Balance scores\n",
    "Larger balance score is better."
   ]
  },
  {
   "cell_type": "code",
   "execution_count": 13,
   "metadata": {},
   "outputs": [],
   "source": [
    "balance_scores=np.array([balance_score(cnt_part, vecs.shape[0]) for cnt_part in partition_one_cnts])"
   ]
  },
  {
   "cell_type": "code",
   "execution_count": 14,
   "metadata": {},
   "outputs": [
    {
     "data": {
      "text/html": [
       "<div>\n",
       "<style scoped>\n",
       "    .dataframe tbody tr th:only-of-type {\n",
       "        vertical-align: middle;\n",
       "    }\n",
       "\n",
       "    .dataframe tbody tr th {\n",
       "        vertical-align: top;\n",
       "    }\n",
       "\n",
       "    .dataframe thead th {\n",
       "        text-align: right;\n",
       "    }\n",
       "</style>\n",
       "<table border=\"1\" class=\"dataframe\">\n",
       "  <thead>\n",
       "    <tr style=\"text-align: right;\">\n",
       "      <th></th>\n",
       "      <th>0</th>\n",
       "    </tr>\n",
       "  </thead>\n",
       "  <tbody>\n",
       "    <tr>\n",
       "      <th>count</th>\n",
       "      <td>1000.000000</td>\n",
       "    </tr>\n",
       "    <tr>\n",
       "      <th>mean</th>\n",
       "      <td>0.471728</td>\n",
       "    </tr>\n",
       "    <tr>\n",
       "      <th>std</th>\n",
       "      <td>0.302517</td>\n",
       "    </tr>\n",
       "    <tr>\n",
       "      <th>min</th>\n",
       "      <td>0.001000</td>\n",
       "    </tr>\n",
       "    <tr>\n",
       "      <th>25%</th>\n",
       "      <td>0.197500</td>\n",
       "    </tr>\n",
       "    <tr>\n",
       "      <th>50%</th>\n",
       "      <td>0.468375</td>\n",
       "    </tr>\n",
       "    <tr>\n",
       "      <th>75%</th>\n",
       "      <td>0.731188</td>\n",
       "    </tr>\n",
       "    <tr>\n",
       "      <th>max</th>\n",
       "      <td>0.999000</td>\n",
       "    </tr>\n",
       "  </tbody>\n",
       "</table>\n",
       "</div>"
      ],
      "text/plain": [
       "                 0\n",
       "count  1000.000000\n",
       "mean      0.471728\n",
       "std       0.302517\n",
       "min       0.001000\n",
       "25%       0.197500\n",
       "50%       0.468375\n",
       "75%       0.731188\n",
       "max       0.999000"
      ]
     },
     "execution_count": 14,
     "metadata": {},
     "output_type": "execute_result"
    }
   ],
   "source": [
    "pd.DataFrame(balance_scores).describe()"
   ]
  },
  {
   "cell_type": "code",
   "execution_count": 15,
   "metadata": {},
   "outputs": [],
   "source": [
    "sorted_args=np.argsort(balance_scores)[::-1]\n",
    "balance_scores_sorted=balance_scores[sorted_args]\n",
    "pivot_cand_sorted=pivot_cand[sorted_args]"
   ]
  },
  {
   "cell_type": "code",
   "execution_count": 16,
   "metadata": {},
   "outputs": [
    {
     "data": {
      "image/png": "[encoded data removed]",
      "text/plain": [
       "<matplotlib.figure.Figure at 0x7f442c4e5fd0>"
      ]
     },
     "metadata": {},
     "output_type": "display_data"
    }
   ],
   "source": [
    "plot_array(balance_scores_sorted, title='Pivot couple\\'s Balance scores (sorted)',xlabel='Pivot couple',ylabel='Balance score')"
   ]
  },
  {
   "cell_type": "markdown",
   "metadata": {},
   "source": [
    "#### Correlation between balance score and distance from dividing hyperplane"
   ]
  },
  {
   "cell_type": "code",
   "execution_count": 17,
   "metadata": {},
   "outputs": [],
   "source": [
    "mean_hp_distances_sorted=mean_distances[sorted_args]"
   ]
  },
  {
   "cell_type": "code",
   "execution_count": 18,
   "metadata": {},
   "outputs": [
    {
     "data": {
      "image/png": "[encoded data removed]",
      "text/plain": [
       "<matplotlib.figure.Figure at 0x7f442c44a0f0>"
      ]
     },
     "metadata": {},
     "output_type": "display_data"
    }
   ],
   "source": [
    "plot_array(mean_hp_distances_sorted, title='Mean distance of objects to dividing hyperplane sorted by balance score',xlabel='Pivot couple',ylabel='Mean distance to HP')"
   ]
  },
  {
   "cell_type": "code",
   "execution_count": 19,
   "metadata": {},
   "outputs": [],
   "source": [
    "corr,pval=spearmanr(balance_scores_sorted, b=mean_hp_distances_sorted)"
   ]
  },
  {
   "cell_type": "code",
   "execution_count": 20,
   "metadata": {},
   "outputs": [
    {
     "data": {
      "text/plain": [
       "-0.56475895482371818"
      ]
     },
     "execution_count": 20,
     "metadata": {},
     "output_type": "execute_result"
    }
   ],
   "source": [
    "corr"
   ]
  },
  {
   "cell_type": "code",
   "execution_count": 21,
   "metadata": {},
   "outputs": [
    {
     "data": {
      "text/plain": [
       "2.540669736622187e-85"
      ]
     },
     "execution_count": 21,
     "metadata": {},
     "output_type": "execute_result"
    }
   ],
   "source": [
    "pval"
   ]
  },
  {
   "cell_type": "code",
   "execution_count": 22,
   "metadata": {},
   "outputs": [
    {
     "name": "stdout",
     "output_type": "stream",
     "text": [
      "Computed correlation -0.564758954824 which can be interpreted as moderate negative linear dependence is statistically significant on confidence interval [0.95,1].\n"
     ]
    }
   ],
   "source": [
    "interpret_corr_result(corr,pval)"
   ]
  },
  {
   "cell_type": "markdown",
   "metadata": {},
   "source": [
    "#### Persist pivots, their balance scores and distances from HP sorted by balance score"
   ]
  },
  {
   "cell_type": "code",
   "execution_count": 23,
   "metadata": {},
   "outputs": [],
   "source": [
    "save_np_array(PIVOT_CAND_SAVE_FILE, pivot_cand_sorted)\n",
    "save_np_array(BALANCE_SCORES_SAVE_FILE, balance_scores_sorted)\n",
    "save_np_array(HP_DISTANCES_SAVE_FILE, mean_hp_distances_sorted)"
   ]
  },
  {
   "cell_type": "code",
   "execution_count": null,
   "metadata": {},
   "outputs": [],
   "source": []
  }
 ],
 "metadata": {
  "kernelspec": {
   "display_name": "Python 3",
   "language": "python",
   "name": "python3"
  },
  "language_info": {
   "codemirror_mode": {
    "name": "ipython",
    "version": 3
   },
   "file_extension": ".py",
   "mimetype": "text/x-python",
   "name": "python",
   "nbconvert_exporter": "python",
   "pygments_lexer": "ipython3",
   "version": "3.5.2"
  }
 },
 "nbformat": 4,
 "nbformat_minor": 2
}
