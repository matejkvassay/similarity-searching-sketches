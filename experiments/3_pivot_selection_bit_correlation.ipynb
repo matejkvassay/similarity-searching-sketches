{
 "cells": [
  {
   "cell_type": "code",
   "execution_count": 5,
   "metadata": {},
   "outputs": [],
   "source": [
    "import numpy as np\n",
    "import pandas as pd\n",
    "from similarity_searching_sketches.persistence import load_np_array\n",
    "from similarity_searching_sketches.persistence import save_np_array"
   ]
  },
  {
   "cell_type": "code",
   "execution_count": 6,
   "metadata": {},
   "outputs": [],
   "source": [
    "DATA_FOLDER='/home/matej/data/sketch-testing/devel/'\n",
    "PIVOT_CAND_PATH=DATA_FOLDER+'pivot_candidates.npy' #array of pivot couple candidates sorted by balance score\n",
    "BALANCE_SCORES_PATH=DATA_FOLDER+'balance_scores.npy' #array of balance scores of pivot candidate couples\n",
    "HP_DISTANCES_PATH=DATA_FOLDER+'hp_distances.npy' #mean distances of objects to dividing hyperplane\n",
    "TRAIN_SET_PATH=DATA_FOLDER+'train_set.npy' #read Training set from\n",
    "N_TOP_BALANCED = 500 #how many of most balanced pivot couple candidates to consider\n",
    "LOG_BY=200 #Log iterations by\n"
   ]
  },
  {
   "cell_type": "code",
   "execution_count": null,
   "metadata": {},
   "outputs": [],
   "source": [
    "#### "
   ]
  }
 ],
 "metadata": {
  "kernelspec": {
   "display_name": "Python 3",
   "language": "python",
   "name": "python3"
  },
  "language_info": {
   "codemirror_mode": {
    "name": "ipython",
    "version": 3
   },
   "file_extension": ".py",
   "mimetype": "text/x-python",
   "name": "python",
   "nbconvert_exporter": "python",
   "pygments_lexer": "ipython3",
   "version": "3.5.2"
  }
 },
 "nbformat": 4,
 "nbformat_minor": 2
}
