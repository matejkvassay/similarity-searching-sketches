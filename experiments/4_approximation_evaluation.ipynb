{
 "cells": [
  {
   "cell_type": "code",
   "execution_count": 1,
   "metadata": {},
   "outputs": [],
   "source": [
    "from similarity_searching_sketches.persistence import load_np_array, save_np_array\n",
    "from similarity_searching_sketches.approx_evaluation import compute_knn_results\n",
    "from similarity_searching_sketches.approx_evaluation import sort_ids_by_distance\n",
    "from similarity_searching_sketches.distances import hamming\n",
    "from similarity_searching_sketches.distances import l1\n",
    "from similarity_searching_sketches.sketch_producer import MinkowskiSketchProducer\n",
    "from similarity_searching_sketches.visualization import plot_array\n",
    "from similarity_searching_sketches.utils import percentage\n",
    "import numpy as np"
   ]
  },
  {
   "cell_type": "code",
   "execution_count": 2,
   "metadata": {},
   "outputs": [],
   "source": [
    "DATA_FOLDER='/home/matej/data/sketch-testing/dataset_10K/'\n",
    "PIVOTS_PATH=DATA_FOLDER+'selected_pivots.npy'\n",
    "TRAIN_SUFFIX='train_set.npy'\n",
    "TEST_SUFFIX='test_set.npy'\n",
    "DB_PATH_PREFIX='db_'\n",
    "QUERY_OBJ_PATH_PREFIX='query_obj_'\n",
    "KNN_RES_PREFIX='knn_res_'\n",
    "N_QUERY_OBJS=100\n",
    "K=100\n",
    "TESTED_SKETCH_LENGTHS=[2,4,8,16,32,64,128]\n",
    "FILTERING_COUNTS_BY=300\n",
    "LOG_BY=5000\n"
   ]
  },
  {
   "cell_type": "markdown",
   "metadata": {},
   "source": [
    "#### Generate database and compute k-NN results"
   ]
  },
  {
   "cell_type": "code",
   "execution_count": null,
   "metadata": {},
   "outputs": [],
   "source": [
    "def compute_knn(suffix):\n",
    "    dataset=load_np_array(DATA_FOLDER+suffix)\n",
    "    np.random.shuffle(dataset)\n",
    "    queries, dataset=np.split(dataset,[N_QUERY_OBJS])\n",
    "    ids=np.arange(dataset.shape[0])\n",
    "    knn_results=compute_knn_results(ids, dataset, queries, K, l1, log_by=LOG_BY)\n",
    "    save_np_array(DATA_FOLDER+DB_PATH_PREFIX+suffix, dataset)\n",
    "    save_np_array(DATA_FOLDER+DB_PATH_PREFIX+'ids_'+suffix, ids)\n",
    "    save_np_array(DATA_FOLDER+QUERY_OBJ_PATH_PREFIX+suffix, queries)\n",
    "    save_np_array(DATA_FOLDER+KNN_RES_PREFIX+suffix, knn_results)\n",
    "    return ids,dataset,queries,knn_results\n",
    "    "
   ]
  },
  {
   "cell_type": "code",
   "execution_count": null,
   "metadata": {
    "scrolled": true
   },
   "outputs": [],
   "source": [
    "ids_train, vecs_train, queries_train, knn_res_train = compute_knn(TRAIN_SUFFIX)\n",
    "ids_test, vecs_test, queries_test, knn_res_test = compute_knn(TEST_SUFFIX)"
   ]
  },
  {
   "cell_type": "markdown",
   "metadata": {},
   "source": [
    "#### Transform database and queries to Sketches"
   ]
  },
  {
   "cell_type": "code",
   "execution_count": null,
   "metadata": {},
   "outputs": [],
   "source": [
    "sketch_producer=MinkowskiSketchProducer(pivots_path=PIVOTS_PATH,p=1)"
   ]
  },
  {
   "cell_type": "code",
   "execution_count": null,
   "metadata": {},
   "outputs": [],
   "source": [
    "sketches_train=sketch_producer.transform_many(vecs_train)\n",
    "sketches_queries_train=sketch_producer.transform_many(queries_train)\n",
    "\n",
    "sketches_test=sketch_producer.transform_many(vecs_test)\n",
    "sketches_queries_test=sketch_producer.transform_many(queries_test)"
   ]
  },
  {
   "cell_type": "markdown",
   "metadata": {},
   "source": [
    "#### Evaluate approximation quality"
   ]
  },
  {
   "cell_type": "code",
   "execution_count": null,
   "metadata": {},
   "outputs": [],
   "source": [
    "def get_sorted_ids(ids, sketches, sketch_queries, sketch_len):\n",
    "    sketches_shortedned=sketches.T[:sketch_len].T\n",
    "    sketch_queries_shortened=sketch_queries.T[:sketch_len].T\n",
    "    return sort_ids_by_distance(ids_train, sketches_shortedned, sketch_queries_shortened, hamming)\n",
    "\n",
    "sorted_ids_list_train=[]\n",
    "sorted_ids_list_test=[]\n",
    "\n",
    "for sketch_len in TESTED_SKETCH_LENGTHS:\n",
    "    sorted_ids_list_train.append((sketch_len,get_sorted_ids(ids_train, sketches_train,sketches_queries_train, sketch_len)))\n",
    "    sorted_ids_list_test.append((sketch_len,get_sorted_ids(ids_test, sketches_test,sketches_queries_test, sketch_len)))"
   ]
  },
  {
   "cell_type": "code",
   "execution_count": null,
   "metadata": {},
   "outputs": [],
   "source": [
    "def evaluate_approximation_quality(sorted_ids, true_knn, sketch_len):\n",
    "    print(sorted_ids.shape)\n",
    "    print(true_knn.shape)\n",
    "    filtering_counts=range(0, sorted_ids.shape[1], FILTERING_COUNTS_BY)\n",
    "    percentages=[100-int(percentage(cnt, sorted_ids.shape[1])) for cnt in filtering_counts]\n",
    "    mean_intersection=list()\n",
    "    for count in filtering_counts:\n",
    "        intersection_sizes=[]\n",
    "        for i in range(true_knn.shape[0]):\n",
    "            intersection_sizes.append(len(set(true_knn[i])&set(sorted_ids[i][:count])))\n",
    "        mean_intersection.append(np.mean(intersection_sizes))\n",
    "    plot_array(mean_intersection,xticks=percentages, title='Mean % query result covered in pre-selected (sketch length: '+str(sketch_len)+')', ylabel='Mean % correct in pre-selected', xlabel='% of db filtered ')"
   ]
  },
  {
   "cell_type": "markdown",
   "metadata": {},
   "source": [
    "#### Approximation quality Train set"
   ]
  },
  {
   "cell_type": "code",
   "execution_count": null,
   "metadata": {},
   "outputs": [],
   "source": [
    "for (sketch_len, sorted_ids) in sorted_ids_list_train:\n",
    "    evaluate_approximation_quality(sorted_ids, knn_res_train, sketch_len)"
   ]
  },
  {
   "cell_type": "code",
   "execution_count": null,
   "metadata": {},
   "outputs": [],
   "source": [
    "for (sketch_len, sorted_ids) in sorted_ids_list_test:\n",
    "    evaluate_approximation_quality(sorted_ids, knn_res_test, sketch_len)"
   ]
  },
  {
   "cell_type": "code",
   "execution_count": null,
   "metadata": {},
   "outputs": [],
   "source": [
    "sorted_ids_list_test[0][1]"
   ]
  },
  {
   "cell_type": "code",
   "execution_count": null,
   "metadata": {},
   "outputs": [],
   "source": [
    "knn_res_test"
   ]
  },
  {
   "cell_type": "code",
   "execution_count": null,
   "metadata": {},
   "outputs": [],
   "source": []
  }
 ],
 "metadata": {
  "kernelspec": {
   "display_name": "Python 3",
   "language": "python",
   "name": "python3"
  },
  "language_info": {
   "codemirror_mode": {
    "name": "ipython",
    "version": 3
   },
   "file_extension": ".py",
   "mimetype": "text/x-python",
   "name": "python",
   "nbconvert_exporter": "python",
   "pygments_lexer": "ipython3",
   "version": "3.5.2"
  }
 },
 "nbformat": 4,
 "nbformat_minor": 2
}
