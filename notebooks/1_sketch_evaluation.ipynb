{
 "cells": [
  {
   "cell_type": "code",
   "execution_count": 213,
   "metadata": {
    "collapsed": false,
    "deletable": true,
    "editable": true
   },
   "outputs": [],
   "source": [
    "cfg={\n",
    "    'main_folder':'/home/kvassay/data/sketch-testing/',\n",
    "    'dataset_file':'dataset.npy',\n",
    "    'dist_estimation_ref_obj_count': 100,\n",
    "    'dist_estimation_p_vals':[1,2],\n",
    "    'evaluation_set_query_obj_cnt':100,\n",
    "    'evaluation_set_result_set_size':100,\n",
    "    'ghp_pivot_couple_candidates': 5000,\n",
    "    'ghp_pivot_selection_iteration_limit': 10000\n",
    "}"
   ]
  },
  {
   "cell_type": "code",
   "execution_count": 174,
   "metadata": {
    "collapsed": true,
    "deletable": true,
    "editable": true
   },
   "outputs": [],
   "source": [
    "%matplotlib inline\n",
    "import logging\n",
    "import matplotlib.pyplot as plt\n",
    "import numpy as np\n",
    "import pandas as pd\n",
    "import yaml\n",
    "from scipy.spatial.distance import minkowski, hamming\n",
    "from fractions import Fraction \n",
    "from time import time"
   ]
  },
  {
   "cell_type": "code",
   "execution_count": 3,
   "metadata": {
    "collapsed": true,
    "deletable": true,
    "editable": true
   },
   "outputs": [],
   "source": [
    "logger = logging.getLogger()\n",
    "logger.setLevel('INFO')\n",
    "ch = logging.StreamHandler()\n",
    "ch.setLevel(logging.INFO)\n",
    "formatter = logging.Formatter('%(asctime)s - %(name)s - %(levelname)s - %(message)s')\n",
    "ch.setFormatter(formatter)\n",
    "# add the handlers to the logger\n",
    "logger.addHandler(ch)"
   ]
  },
  {
   "cell_type": "code",
   "execution_count": 164,
   "metadata": {
    "collapsed": false,
    "deletable": true,
    "editable": true
   },
   "outputs": [],
   "source": [
    "def log_pfx(obj, msg, *args):\n",
    "    logger.info(obj.__class__.__name__+'| '+msg, *args)\n",
    "    \n",
    "def save_to(obj, file_path):\n",
    "    with open(file_path, 'wb') as f:\n",
    "        cPickle.dump(obj,f)\n",
    "\n",
    "def load_from(file_path):\n",
    "    with open(file_path, 'rb') as f:\n",
    "        return cPickle.load(f)\n",
    "\n",
    "def scatter_array(arr, title=None, xlabel=None, ylabel=None, point_size=5):\n",
    "    ser=pd.Series(arr)\n",
    "    plt.scatter(ser.index, ser, s=[point_size for _ in range(len(arr))])\n",
    "    plt.suptitle(title)\n",
    "    plt.xlabel(xlabel)\n",
    "    plt.ylabel(ylabel)\n",
    "    plt.show()\n",
    "    \n",
    "def plot_array(arr, title=None, xlabel=None, ylabel=None):\n",
    "    pd.Series(arr).plot(grid=True)\n",
    "    plt.suptitle(title)\n",
    "    plt.xlabel(xlabel)\n",
    "    plt.ylabel(ylabel)\n",
    "    plt.show()\n",
    "\n",
    "def hist_array(arr,bins=50, title=None, xlabel=None, ylabel=None):\n",
    "    pd.Series(arr).hist(bins=bins,grid=True)\n",
    "    plt.xlabel(xlabel)\n",
    "    plt.ylabel(ylabel)\n",
    "    plt.suptitle(title)\n",
    "    plt.show()\n",
    "    \n",
    "class IterationLogger(object):\n",
    "    def __init__(self, message='Started iteration no.: %s\\n Time from previous iteration: %ss\\n Time from start: %ss',log_by=1000):\n",
    "        self.log_by=log_by\n",
    "        self.num_iter=0\n",
    "        self.msg=message\n",
    "        self.time_started=None\n",
    "        self.time_this_iter=None\n",
    "        \n",
    "    def next_iter(self):\n",
    "        if self.time_this_iter is None:\n",
    "            self.time_this_iter=time()\n",
    "        if self.time_started is None:\n",
    "            self.time_started=time()\n",
    "        self.num_iter+=1\n",
    "        if self.num_iter%self.log_by==0:\n",
    "            dur_from_previous=time()-self.time_this_iter\n",
    "            self.time_this_iter=time()\n",
    "            dur_from_start=time()-self.time_started\n",
    "            log_pfx(self, self.msg, str(self.num_iter), str(dur_from_previous), str(dur_from_start))\n",
    "            "
   ]
  },
  {
   "cell_type": "markdown",
   "metadata": {
    "deletable": true,
    "editable": true
   },
   "source": [
    "### LOAD DATA"
   ]
  },
  {
   "cell_type": "code",
   "execution_count": 5,
   "metadata": {
    "collapsed": true,
    "deletable": true,
    "editable": true
   },
   "outputs": [],
   "source": [
    "dataset_path=cfg['main_folder']+cfg['dataset_file']"
   ]
  },
  {
   "cell_type": "code",
   "execution_count": 6,
   "metadata": {
    "collapsed": false,
    "deletable": true,
    "editable": true,
    "scrolled": true
   },
   "outputs": [],
   "source": [
    "with open(dataset_path, 'rb') as f:\n",
    "    decaf_vecs=np.load(f)\n",
    "obj_ids=np.arange(len(decaf_vecs))"
   ]
  },
  {
   "cell_type": "code",
   "execution_count": 7,
   "metadata": {
    "collapsed": false,
    "deletable": true,
    "editable": true
   },
   "outputs": [
    {
     "data": {
      "text/plain": [
       "(86648, 4096)"
      ]
     },
     "execution_count": 7,
     "metadata": {},
     "output_type": "execute_result"
    }
   ],
   "source": [
    "decaf_vecs.shape #(vectors count, vector length)"
   ]
  },
  {
   "cell_type": "markdown",
   "metadata": {
    "deletable": true,
    "editable": true
   },
   "source": [
    "### DATA ANALYSIS"
   ]
  },
  {
   "cell_type": "markdown",
   "metadata": {
    "deletable": true,
    "editable": true
   },
   "source": [
    "\n",
    "#### Distance distribution estimation"
   ]
  },
  {
   "cell_type": "code",
   "execution_count": 190,
   "metadata": {
    "collapsed": false,
    "deletable": true,
    "editable": true
   },
   "outputs": [],
   "source": [
    "def estimate_minkowski_dist_distr(vec_matrix, ref_obj_cnt, p):\n",
    "    '''\n",
    "    p can be either single value or list of p parameters for minkowski distance\n",
    "    '''\n",
    "    distances=[list() for _ in range(len(p))]\n",
    "    reference_objs=vec_matrix[np.random.choice(vec_matrix.shape[0], size=ref_obj_cnt, replace=False)] #sampling without replacement\n",
    "    iter_log=IterationLogger(log_by=5000)\n",
    "    for decaf_vec in decaf_vecs:\n",
    "        iter_log.next_iter()\n",
    "        for ref_obj in reference_objs:\n",
    "            for i, val_p in enumerate(p):\n",
    "                dist=minkowski(ref_obj, decaf_vec, p=val_p)\n",
    "                distances[i].append(dist)\n",
    "    return tuple(distances)\n"
   ]
  },
  {
   "cell_type": "code",
   "execution_count": 9,
   "metadata": {
    "collapsed": false,
    "deletable": true,
    "editable": true,
    "scrolled": true
   },
   "outputs": [
    {
     "name": "stderr",
     "output_type": "stream",
     "text": [
      "2017-04-11 18:13:29,345 - root - INFO - IterationLogger| Started iteration no.: 5000\n",
      " Time from previous iteration: 27.205947876s\n",
      " Time from start: 27.205947876s\n",
      "2017-04-11 18:13:55,417 - root - INFO - IterationLogger| Started iteration no.: 10000\n",
      " Time from previous iteration: 26.0715830326s\n",
      " Time from start: 53.2775321007s\n",
      "2017-04-11 18:14:20,295 - root - INFO - IterationLogger| Started iteration no.: 15000\n",
      " Time from previous iteration: 24.878620863s\n",
      " Time from start: 78.1561539173s\n",
      "2017-04-11 18:14:45,959 - root - INFO - IterationLogger| Started iteration no.: 20000\n",
      " Time from previous iteration: 25.663642168s\n",
      " Time from start: 103.819797993s\n",
      "2017-04-11 18:15:11,378 - root - INFO - IterationLogger| Started iteration no.: 25000\n",
      " Time from previous iteration: 25.4187948704s\n",
      " Time from start: 129.238593102s\n",
      "2017-04-11 18:15:39,089 - root - INFO - IterationLogger| Started iteration no.: 30000\n",
      " Time from previous iteration: 27.7109408379s\n",
      " Time from start: 156.949536085s\n",
      "2017-04-11 18:16:03,693 - root - INFO - IterationLogger| Started iteration no.: 35000\n",
      " Time from previous iteration: 24.6046261787s\n",
      " Time from start: 181.554162025s\n",
      "2017-04-11 18:16:29,802 - root - INFO - IterationLogger| Started iteration no.: 40000\n",
      " Time from previous iteration: 26.1089370251s\n",
      " Time from start: 207.663100004s\n",
      "2017-04-11 18:16:54,308 - root - INFO - IterationLogger| Started iteration no.: 45000\n",
      " Time from previous iteration: 24.5055668354s\n",
      " Time from start: 232.168668032s\n",
      "2017-04-11 18:17:18,825 - root - INFO - IterationLogger| Started iteration no.: 50000\n",
      " Time from previous iteration: 24.5169279575s\n",
      " Time from start: 256.685595989s\n",
      "2017-04-11 18:17:43,062 - root - INFO - IterationLogger| Started iteration no.: 55000\n",
      " Time from previous iteration: 24.2365911007s\n",
      " Time from start: 280.922188044s\n",
      "2017-04-11 18:18:07,494 - root - INFO - IterationLogger| Started iteration no.: 60000\n",
      " Time from previous iteration: 24.4322400093s\n",
      " Time from start: 305.354429007s\n",
      "2017-04-11 18:18:31,986 - root - INFO - IterationLogger| Started iteration no.: 65000\n",
      " Time from previous iteration: 24.4917919636s\n",
      " Time from start: 329.846221924s\n",
      "2017-04-11 18:18:56,445 - root - INFO - IterationLogger| Started iteration no.: 70000\n",
      " Time from previous iteration: 24.4593479633s\n",
      " Time from start: 354.305572033s\n",
      "2017-04-11 18:19:20,935 - root - INFO - IterationLogger| Started iteration no.: 75000\n",
      " Time from previous iteration: 24.4901278019s\n",
      " Time from start: 378.795700073s\n",
      "2017-04-11 18:19:45,199 - root - INFO - IterationLogger| Started iteration no.: 80000\n",
      " Time from previous iteration: 24.2636311054s\n",
      " Time from start: 403.05933094s\n",
      "2017-04-11 18:20:09,665 - root - INFO - IterationLogger| Started iteration no.: 85000\n",
      " Time from previous iteration: 24.4658548832s\n",
      " Time from start: 427.525186062s\n"
     ]
    }
   ],
   "source": [
    "dist_l1, dist_l2 = estimate_minkowski_dist_distr(decaf_vecs,  cfg['dist_estimation_ref_obj_count'], cfg['dist_estimation_p_vals'])"
   ]
  },
  {
   "cell_type": "code",
   "execution_count": 115,
   "metadata": {
    "collapsed": false,
    "deletable": true,
    "editable": true,
    "scrolled": true
   },
   "outputs": [
    {
     "data": {
      "image/png": "[encoded data removed]",
      "text/plain": [
       "<matplotlib.figure.Figure at 0x7f5179001bd0>"
      ]
     },
     "metadata": {},
     "output_type": "display_data"
    }
   ],
   "source": [
    "hist_array(dist_l1, bins=50, title='L1 estimated distance distribution',ylabel='count object couples', xlabel='L1 distance')"
   ]
  },
  {
   "cell_type": "code",
   "execution_count": 116,
   "metadata": {
    "collapsed": false,
    "deletable": true,
    "editable": true
   },
   "outputs": [
    {
     "data": {
      "image/png": "[encoded data removed]",
      "text/plain": [
       "<matplotlib.figure.Figure at 0x7f5179d15c10>"
      ]
     },
     "metadata": {},
     "output_type": "display_data"
    }
   ],
   "source": [
    "hist_array(dist_l2, bins=50,title='L2 estimated distance distribution',ylabel='count object couples', xlabel='L2 distance')"
   ]
  },
  {
   "cell_type": "markdown",
   "metadata": {
    "collapsed": true,
    "deletable": true,
    "editable": true
   },
   "source": [
    "## APPROXIMATION  EVALUATION SET\n",
    "We select 100 query objects and their 100 closest object's id's from the dataset to evaluate. It simulates the scenario where almost never more than 100 objects are required for result set. "
   ]
  },
  {
   "cell_type": "code",
   "execution_count": 12,
   "metadata": {
    "collapsed": false
   },
   "outputs": [],
   "source": [
    "eval_queries_indicies=np.random.choice(decaf_vecs.shape[0], size=cfg['evaluation_set_query_obj_cnt'], replace=False)\n",
    "eval_queries_vecs=decaf_vecs[eval_queries_indicies] \n",
    "eval_queries_ids=obj_ids[eval_queries_indicies]\n",
    "eval_k=cfg['evaluation_set_result_set_size'] #k for knn to evaluation objects"
   ]
  },
  {
   "cell_type": "code",
   "execution_count": 13,
   "metadata": {
    "collapsed": false,
    "deletable": true,
    "editable": true
   },
   "outputs": [],
   "source": [
    "eval_result_objs=[list() for _ in range(len(eval_queries_ids))]"
   ]
  },
  {
   "cell_type": "markdown",
   "metadata": {},
   "source": [
    "Finds k-NN query result"
   ]
  },
  {
   "cell_type": "code",
   "execution_count": 14,
   "metadata": {
    "collapsed": false,
    "deletable": true,
    "editable": true,
    "scrolled": true
   },
   "outputs": [
    {
     "name": "stderr",
     "output_type": "stream",
     "text": [
      "2017-04-11 18:20:35,782 - root - INFO - IterationLogger| Started iteration no.: 5000\n",
      " Time from previous iteration: 14.4007408619s\n",
      " Time from start: 14.4007408619s\n",
      "2017-04-11 18:20:49,661 - root - INFO - IterationLogger| Started iteration no.: 10000\n",
      " Time from previous iteration: 13.8785099983s\n",
      " Time from start: 28.2792520523s\n",
      "2017-04-11 18:21:02,690 - root - INFO - IterationLogger| Started iteration no.: 15000\n",
      " Time from previous iteration: 13.0295069218s\n",
      " Time from start: 41.3087599277s\n",
      "2017-04-11 18:21:15,745 - root - INFO - IterationLogger| Started iteration no.: 20000\n",
      " Time from previous iteration: 13.0547690392s\n",
      " Time from start: 54.3635308743s\n",
      "2017-04-11 18:21:28,686 - root - INFO - IterationLogger| Started iteration no.: 25000\n",
      " Time from previous iteration: 12.9415459633s\n",
      " Time from start: 67.3050768375s\n",
      "2017-04-11 18:21:42,034 - root - INFO - IterationLogger| Started iteration no.: 30000\n",
      " Time from previous iteration: 13.3473861217s\n",
      " Time from start: 80.652463913s\n",
      "2017-04-11 18:21:54,970 - root - INFO - IterationLogger| Started iteration no.: 35000\n",
      " Time from previous iteration: 12.9359359741s\n",
      " Time from start: 93.5883998871s\n",
      "2017-04-11 18:22:07,856 - root - INFO - IterationLogger| Started iteration no.: 40000\n",
      " Time from previous iteration: 12.8863129616s\n",
      " Time from start: 106.474714041s\n",
      "2017-04-11 18:22:20,773 - root - INFO - IterationLogger| Started iteration no.: 45000\n",
      " Time from previous iteration: 12.9172420502s\n",
      " Time from start: 119.391955853s\n",
      "2017-04-11 18:22:33,638 - root - INFO - IterationLogger| Started iteration no.: 50000\n",
      " Time from previous iteration: 12.8650791645s\n",
      " Time from start: 132.257035971s\n",
      "2017-04-11 18:22:46,449 - root - INFO - IterationLogger| Started iteration no.: 55000\n",
      " Time from previous iteration: 12.8106720448s\n",
      " Time from start: 145.067708969s\n",
      "2017-04-11 18:22:59,287 - root - INFO - IterationLogger| Started iteration no.: 60000\n",
      " Time from previous iteration: 12.8381090164s\n",
      " Time from start: 157.905818939s\n",
      "2017-04-11 18:23:12,119 - root - INFO - IterationLogger| Started iteration no.: 65000\n",
      " Time from previous iteration: 12.8316009045s\n",
      " Time from start: 170.737421036s\n",
      "2017-04-11 18:23:25,095 - root - INFO - IterationLogger| Started iteration no.: 70000\n",
      " Time from previous iteration: 12.9757862091s\n",
      " Time from start: 183.713207006s\n",
      "2017-04-11 18:23:38,048 - root - INFO - IterationLogger| Started iteration no.: 75000\n",
      " Time from previous iteration: 12.9534888268s\n",
      " Time from start: 196.666697025s\n",
      "2017-04-11 18:23:50,976 - root - INFO - IterationLogger| Started iteration no.: 80000\n",
      " Time from previous iteration: 12.9278078079s\n",
      " Time from start: 209.594506025s\n",
      "2017-04-11 18:24:04,074 - root - INFO - IterationLogger| Started iteration no.: 85000\n",
      " Time from previous iteration: 13.0981419086s\n",
      " Time from start: 222.692648888s\n"
     ]
    }
   ],
   "source": [
    "iter_log=IterationLogger(log_by=5000)\n",
    "for i in range(len(decaf_vecs)):\n",
    "    iter_log.next_iter()\n",
    "    candidate_vec=decaf_vecs[i]\n",
    "    candidate_id=obj_ids[i]\n",
    "    for j in range(len(eval_queries_vecs)):\n",
    "        query_vec=eval_queries_vecs[j]\n",
    "        dist=minkowski(candidate_vec, query_vec, p=1)\n",
    "        if len(eval_result_objs[j])>0:\n",
    "            if dist<eval_result_objs[j][-1][1]: #if not object is not member of result set\n",
    "                eval_result_objs[j].append((candidate_id, dist))\n",
    "                eval_result_objs[j].sort(key=lambda x: x[1],reverse=False)\n",
    "                if len(eval_result_objs[j])>eval_k:#if > k objects remove last one\n",
    "                    del eval_result_objs[j][-1] \n",
    "        else:\n",
    "            eval_result_objs[j].append((candidate_id, dist))\n",
    "            "
   ]
  },
  {
   "cell_type": "code",
   "execution_count": 112,
   "metadata": {
    "collapsed": false,
    "deletable": true,
    "editable": true,
    "scrolled": true
   },
   "outputs": [
    {
     "data": {
      "image/png": "[encoded data removed]",
      "text/plain": [
       "<matplotlib.figure.Figure at 0x7f5179cb2a10>"
      ]
     },
     "metadata": {},
     "output_type": "display_data"
    }
   ],
   "source": [
    "hist_array([obj[1] for obj in eval_result_objs[17]],bins=20,title='Sample distance distribution of objects from result to query object',xlabel='L1 distance',ylabel='count objects')"
   ]
  },
  {
   "cell_type": "markdown",
   "metadata": {
    "collapsed": true,
    "deletable": true,
    "editable": true
   },
   "source": [
    "## GENERALIZED HYPERPLANE PARTITIONING PIVOTS SELECTION"
   ]
  },
  {
   "cell_type": "code",
   "execution_count": 214,
   "metadata": {
    "collapsed": false,
    "deletable": true,
    "editable": true
   },
   "outputs": [],
   "source": [
    "pivot_cand_cpl_cnt=cfg['ghp_pivot_couple_candidates']\n",
    "vec_iter_limit=cfg['ghp_pivot_selection_iteration_limit']"
   ]
  },
  {
   "cell_type": "markdown",
   "metadata": {},
   "source": [
    "Select random pivot couples"
   ]
  },
  {
   "cell_type": "code",
   "execution_count": 215,
   "metadata": {
    "collapsed": false
   },
   "outputs": [],
   "source": [
    "cand_indicies=np.random.choice(decaf_vecs.shape[0], size=pivot_cand_cpl_cnt*2, replace=False)\n",
    "pivot_cand_vecs=decaf_vecs[cand_indicies]\n",
    "pivot_cand_ids=obj_ids[cand_indicies]\n",
    "pivot_cand_vecs_a, pivot_cand_vecs_b=np.split(pivot_cand_vecs,2)\n",
    "pivot_cand_ids_a, pivot_cand_ids_b=np.split(pivot_cand_ids,2)\n",
    "pivot_cand_vecs=zip(pivot_cand_vecs_a, pivot_cand_vecs_b)\n",
    "pivot_cand_ids=zip(pivot_cand_ids_a, pivot_cand_ids_b)"
   ]
  },
  {
   "cell_type": "code",
   "execution_count": 216,
   "metadata": {
    "collapsed": true
   },
   "outputs": [],
   "source": [
    "left_members_cnt=[0 for _ in range(len(pivot_cand_ids))]\n",
    "sum_dist_from_ghp=[0 for _ in range(len(pivot_cand_ids))]"
   ]
  },
  {
   "cell_type": "code",
   "execution_count": 217,
   "metadata": {
    "collapsed": true
   },
   "outputs": [],
   "source": [
    "def get_ghp_partition(obj, pivot_a, pivot_b):\n",
    "    '''\n",
    "    returns partition 0/1 and distance to closest pivot\n",
    "    '''\n",
    "    dist_a=minkowski(vec, pivot_cpl_vec[0], p=1)\n",
    "    dist_b=minkowski(vec, pivot_cpl_vec[1], p=1)\n",
    "    if dist_a<dist_b:\n",
    "        return 1, dist_a\n",
    "    if dist_a>dist_b:\n",
    "        return 0, dist_b\n",
    "    return np.random.choice([0,1]), dist_a\n",
    "    \n",
    "def compute_part_balance(cnt_partition, cnt_all):\n",
    "    '''\n",
    "    1 - 2*|0.5-x/y| where x is count members in left or right partition and y is count all members\n",
    "    '''\n",
    "    return 1.0-(2*abs(0.5-(cnt_partition/cnt_all)))\n",
    "\n",
    "def plot_balance_f():\n",
    "    plot_array([compute_part_balance(float(num),float(1000)) for num in range(0,1001)], title='GHP balance function',xlabel='x| no. pivots in left partition',ylabel='b(x)')\n"
   ]
  },
  {
   "cell_type": "code",
   "execution_count": 218,
   "metadata": {
    "collapsed": false
   },
   "outputs": [
    {
     "data": {
      "image/png": "[encoded data removed]",
      "text/plain": [
       "<matplotlib.figure.Figure at 0x7f5179cc5e90>"
      ]
     },
     "metadata": {},
     "output_type": "display_data"
    }
   ],
   "source": [
    "plot_balance_f()"
   ]
  },
  {
   "cell_type": "markdown",
   "metadata": {},
   "source": [
    "Compute balances and average distance from hyperplane for pivot couples"
   ]
  },
  {
   "cell_type": "code",
   "execution_count": 219,
   "metadata": {
    "collapsed": false
   },
   "outputs": [
    {
     "name": "stderr",
     "output_type": "stream",
     "text": [
      "2017-04-11 20:28:02,506 - root - INFO - IterationLogger| Started iteration no.: 1000\n",
      " Time from previous iteration: 269.709495068s\n",
      " Time from start: 269.709494114s\n",
      "2017-04-11 20:32:23,441 - root - INFO - IterationLogger| Started iteration no.: 2000\n",
      " Time from previous iteration: 260.934378862s\n",
      " Time from start: 530.643873215s\n",
      "2017-04-11 20:36:38,341 - root - INFO - IterationLogger| Started iteration no.: 3000\n",
      " Time from previous iteration: 254.900829077s\n",
      " Time from start: 785.544703007s\n",
      "2017-04-11 20:41:03,007 - root - INFO - IterationLogger| Started iteration no.: 4000\n",
      " Time from previous iteration: 264.665160179s\n",
      " Time from start: 1050.20986319s\n",
      "2017-04-11 20:45:34,650 - root - INFO - IterationLogger| Started iteration no.: 5000\n",
      " Time from previous iteration: 271.643430948s\n",
      " Time from start: 1321.85329413s\n",
      "2017-04-11 20:49:59,646 - root - INFO - IterationLogger| Started iteration no.: 6000\n",
      " Time from previous iteration: 264.995672941s\n",
      " Time from start: 1586.84896803s\n",
      "2017-04-11 20:54:19,740 - root - INFO - IterationLogger| Started iteration no.: 7000\n",
      " Time from previous iteration: 260.094069004s\n",
      " Time from start: 1846.94303703s\n",
      "2017-04-11 20:58:49,130 - root - INFO - IterationLogger| Started iteration no.: 8000\n",
      " Time from previous iteration: 269.390267134s\n",
      " Time from start: 2116.33330607s\n",
      "2017-04-11 21:03:12,336 - root - INFO - IterationLogger| Started iteration no.: 9000\n",
      " Time from previous iteration: 263.205550909s\n",
      " Time from start: 2379.53885722s\n",
      "2017-04-11 21:07:32,315 - root - INFO - IterationLogger| Started iteration no.: 10000\n",
      " Time from previous iteration: 259.979367971s\n",
      " Time from start: 2639.51822519s\n"
     ]
    }
   ],
   "source": [
    "iter_log=IterationLogger(log_by=1000)\n",
    "for vec in decaf_vecs[:vec_iter_limit]:\n",
    "    iter_log.next_iter()\n",
    "    for i, pivot_cpl_vec in enumerate(pivot_cand_vecs):\n",
    "        partition,dist=get_ghp_partition(vec, pivot_cpl_vec[0], pivot_cpl_vec[1])\n",
    "        left_members_cnt[i]+=partition\n",
    "        sum_dist_from_ghp[i]+=dist"
   ]
  },
  {
   "cell_type": "code",
   "execution_count": 220,
   "metadata": {
    "collapsed": false
   },
   "outputs": [],
   "source": [
    "balances=[compute_part_balance(float(cnt), float(vec_iter_limit)) for cnt in left_members_cnt]\n",
    "avg_dist_from_hp=[float(num)/vec_iter_limit for num in sum_dist_from_ghp]\n",
    "sum_avg_dist_from_hp=sum(avg_dist_from_hp)\n",
    "normalized_avg_dist_from_hp=[float(dist)/float(sum_avg_dist_from_hp) for dist in avg_dist_from_hp]"
   ]
  },
  {
   "cell_type": "code",
   "execution_count": 221,
   "metadata": {
    "collapsed": false
   },
   "outputs": [
    {
     "data": {
      "text/plain": [
       "0.00019999999999997797"
      ]
     },
     "execution_count": 221,
     "metadata": {},
     "output_type": "execute_result"
    }
   ],
   "source": [
    "min(balances)"
   ]
  },
  {
   "cell_type": "code",
   "execution_count": 222,
   "metadata": {
    "collapsed": false,
    "scrolled": true
   },
   "outputs": [
    {
     "data": {
      "image/png": "[encoded data removed]",
      "text/plain": [
       "<matplotlib.figure.Figure at 0x7f5178d45110>"
      ]
     },
     "metadata": {},
     "output_type": "display_data"
    }
   ],
   "source": [
    "hist_array(sorted(balances,reverse=True),bins=20, title='Balance score of pivot couples', xlabel='balance score (1.0 - perfect 0.0 - worst)', ylabel='count pivot couples')"
   ]
  },
  {
   "cell_type": "code",
   "execution_count": 223,
   "metadata": {
    "collapsed": false
   },
   "outputs": [
    {
     "data": {
      "image/png": "[encoded data removed]",
      "text/plain": [
       "<matplotlib.figure.Figure at 0x7f51627d7b50>"
      ]
     },
     "metadata": {},
     "output_type": "display_data"
    }
   ],
   "source": [
    "plot_array(sorted(balances,reverse=True),title='Balance score of pivot couples', ylabel='balance score (1.0 - perfect 0.0 - worst)', xlabel='pivot couples sorted by balance score')"
   ]
  },
  {
   "cell_type": "code",
   "execution_count": 224,
   "metadata": {
    "collapsed": false,
    "scrolled": true
   },
   "outputs": [
    {
     "data": {
      "image/png": "[encoded data removed]",
      "text/plain": [
       "<matplotlib.figure.Figure at 0x7f5188fed290>"
      ]
     },
     "metadata": {},
     "output_type": "display_data"
    }
   ],
   "source": [
    "hist_array(sorted(avg_dist_from_hp,reverse=False),xlabel='distance', ylabel='count pivot couples',title='Average distance of dataset object to dividing hyperplane',bins=20)"
   ]
  },
  {
   "cell_type": "code",
   "execution_count": 225,
   "metadata": {
    "collapsed": false
   },
   "outputs": [
    {
     "data": {
      "image/png": "[encoded data removed]",
      "text/plain": [
       "<matplotlib.figure.Figure at 0x7f517a5d2b10>"
      ]
     },
     "metadata": {},
     "output_type": "display_data"
    }
   ],
   "source": [
    "hist_array(sorted(normalized_avg_dist_from_hp,reverse=False),xlabel='distance', ylabel='count pivot couples',title='Average distance of dataset object to dividing hyperplane',bins=20)"
   ]
  },
  {
   "cell_type": "code",
   "execution_count": 227,
   "metadata": {
    "collapsed": true
   },
   "outputs": [],
   "source": [
    "#vybrat spravnych pivotov na zaklade biobjective function - oskorovat pivotov 0-1 na zaklade oboch kriterii a vybrat nejakych top kombinovane"
   ]
  },
  {
   "cell_type": "code",
   "execution_count": null,
   "metadata": {
    "collapsed": true
   },
   "outputs": [],
   "source": []
  }
 ],
 "metadata": {
  "kernelspec": {
   "display_name": "Python 2",
   "language": "python",
   "name": "python2"
  },
  "language_info": {
   "codemirror_mode": {
    "name": "ipython",
    "version": 2
   },
   "file_extension": ".py",
   "mimetype": "text/x-python",
   "name": "python",
   "nbconvert_exporter": "python",
   "pygments_lexer": "ipython2",
   "version": "2.7.12"
  }
 },
 "nbformat": 4,
 "nbformat_minor": 2
}
