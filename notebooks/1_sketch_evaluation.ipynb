{
 "cells": [
  {
   "cell_type": "code",
   "execution_count": 1,
   "metadata": {
    "collapsed": false,
    "deletable": true,
    "editable": true
   },
   "outputs": [],
   "source": [
    "cfg={\n",
    "    'main_folder':'/home/kvassay/data/sketch-testing/',\n",
    "    'dataset_file':'dataset.npy',\n",
    "    'dist_estimation_ref_obj_count': 100,\n",
    "    'dist_estimation_p_vals':[1,2],\n",
    "    'evaluation_set_query_obj_cnt':100,\n",
    "    'evaluation_set_result_set_size':100\n",
    "}"
   ]
  },
  {
   "cell_type": "code",
   "execution_count": 2,
   "metadata": {
    "collapsed": true,
    "deletable": true,
    "editable": true
   },
   "outputs": [],
   "source": [
    "%matplotlib inline\n",
    "import logging\n",
    "import matplotlib.pyplot as plt\n",
    "import numpy as np\n",
    "import pandas as pd\n",
    "import yaml\n",
    "from scipy.spatial.distance import minkowski, hamming\n",
    "from time import time"
   ]
  },
  {
   "cell_type": "code",
   "execution_count": 3,
   "metadata": {
    "collapsed": true,
    "deletable": true,
    "editable": true
   },
   "outputs": [],
   "source": [
    "logger = logging.getLogger()\n",
    "logger.setLevel('INFO')\n",
    "ch = logging.StreamHandler()\n",
    "ch.setLevel(logging.INFO)\n",
    "formatter = logging.Formatter('%(asctime)s - %(name)s - %(levelname)s - %(message)s')\n",
    "ch.setFormatter(formatter)\n",
    "# add the handlers to the logger\n",
    "logger.addHandler(ch)"
   ]
  },
  {
   "cell_type": "code",
   "execution_count": 4,
   "metadata": {
    "collapsed": true,
    "deletable": true,
    "editable": true
   },
   "outputs": [],
   "source": [
    "def log_pfx(obj, msg, *args):\n",
    "    logger.info(obj.__class__.__name__+'| '+msg, *args)\n",
    "    \n",
    "def save_to(obj, file_path):\n",
    "    with open(file_path, 'wb') as f:\n",
    "        cPickle.dump(obj,f)\n",
    "\n",
    "def load_from(file_path):\n",
    "    with open(file_path, 'rb') as f:\n",
    "        return cPickle.load(f)\n",
    "\n",
    "class IterationLogger(object):\n",
    "    def __init__(self, message='Started iteration no.: %s\\n Time from previous iteration: %ss\\n Time from start: %ss',log_by=1000):\n",
    "        self.log_by=log_by\n",
    "        self.num_iter=0\n",
    "        self.msg=message\n",
    "        self.time_started=None\n",
    "        self.time_this_iter=None\n",
    "        \n",
    "    def next_iter(self):\n",
    "        if self.time_this_iter is None:\n",
    "            self.time_this_iter=time()\n",
    "        if self.time_started is None:\n",
    "            self.time_started=time()\n",
    "        self.num_iter+=1\n",
    "        if self.num_iter%self.log_by==0:\n",
    "            dur_from_previous=time()-self.time_this_iter\n",
    "            self.time_this_iter=time()\n",
    "            dur_from_start=time()-self.time_started\n",
    "            log_pfx(self, self.msg, str(self.num_iter), str(dur_from_previous), str(dur_from_start))\n",
    "            "
   ]
  },
  {
   "cell_type": "markdown",
   "metadata": {
    "deletable": true,
    "editable": true
   },
   "source": [
    "### LOAD DATA"
   ]
  },
  {
   "cell_type": "code",
   "execution_count": 5,
   "metadata": {
    "collapsed": true,
    "deletable": true,
    "editable": true
   },
   "outputs": [],
   "source": [
    "dataset_path=cfg['main_folder']+cfg['dataset_file']"
   ]
  },
  {
   "cell_type": "code",
   "execution_count": 6,
   "metadata": {
    "collapsed": false,
    "deletable": true,
    "editable": true,
    "scrolled": true
   },
   "outputs": [],
   "source": [
    "with open(dataset_path, 'rb') as f:\n",
    "    decaf_vecs=np.load(f)\n",
    "obj_ids=np.arange(len(decaf_vecs))"
   ]
  },
  {
   "cell_type": "code",
   "execution_count": 7,
   "metadata": {
    "collapsed": false,
    "deletable": true,
    "editable": true
   },
   "outputs": [
    {
     "data": {
      "text/plain": [
       "(86648, 4096)"
      ]
     },
     "execution_count": 7,
     "metadata": {},
     "output_type": "execute_result"
    }
   ],
   "source": [
    "decaf_vecs.shape #(vectors count, vector length)"
   ]
  },
  {
   "cell_type": "markdown",
   "metadata": {
    "deletable": true,
    "editable": true
   },
   "source": [
    "### DATA ANALYSIS"
   ]
  },
  {
   "cell_type": "markdown",
   "metadata": {
    "deletable": true,
    "editable": true
   },
   "source": [
    "\n",
    "#### Distance distribution estimation"
   ]
  },
  {
   "cell_type": "code",
   "execution_count": 8,
   "metadata": {
    "collapsed": false,
    "deletable": true,
    "editable": true
   },
   "outputs": [],
   "source": [
    "def estimate_minkowski_dist_distr(vec_matrix, ref_obj_cnt, p):\n",
    "    '''\n",
    "    p can be either single value or list of p parameters for minkowski distance\n",
    "    '''\n",
    "    distances=[list() for _ in range(len(p))]\n",
    "    reference_objs=vec_matrix[np.random.choice(vec_matrix.shape[0], size=ref_obj_cnt, replace=False)] #sampling without replacement\n",
    "    iter_log=IterationLogger(log_by=5000)\n",
    "    for decaf_vec in decaf_vecs:\n",
    "        iter_log.next_iter()\n",
    "        for ref_obj in reference_objs:\n",
    "            for i, val_p in enumerate(p):\n",
    "                dist=minkowski(ref_obj, decaf_vec, p=val_p)\n",
    "                distances[i].append(dist)\n",
    "    return tuple(distances)"
   ]
  },
  {
   "cell_type": "code",
   "execution_count": 9,
   "metadata": {
    "collapsed": false,
    "deletable": true,
    "editable": true,
    "scrolled": true
   },
   "outputs": [
    {
     "name": "stderr",
     "output_type": "stream",
     "text": [
      "2017-04-11 16:45:02,253 - root - INFO - IterationLogger| Started iteration no.: 5000\n",
      " Time from previous iteration: 24.5637040138s\n",
      " Time from start: 24.5637040138s\n",
      "2017-04-11 16:45:26,201 - root - INFO - IterationLogger| Started iteration no.: 10000\n",
      " Time from previous iteration: 23.9483771324s\n",
      " Time from start: 48.5120811462s\n",
      "2017-04-11 16:45:50,817 - root - INFO - IterationLogger| Started iteration no.: 15000\n",
      " Time from previous iteration: 24.6159949303s\n",
      " Time from start: 73.1280760765s\n",
      "2017-04-11 16:46:14,859 - root - INFO - IterationLogger| Started iteration no.: 20000\n",
      " Time from previous iteration: 24.0418419838s\n",
      " Time from start: 97.169919014s\n",
      "2017-04-11 16:46:38,810 - root - INFO - IterationLogger| Started iteration no.: 25000\n",
      " Time from previous iteration: 23.9508581161s\n",
      " Time from start: 121.120778084s\n",
      "2017-04-11 16:47:05,267 - root - INFO - IterationLogger| Started iteration no.: 30000\n",
      " Time from previous iteration: 26.4566578865s\n",
      " Time from start: 147.577437162s\n",
      "2017-04-11 16:47:30,671 - root - INFO - IterationLogger| Started iteration no.: 35000\n",
      " Time from previous iteration: 25.4039931297s\n",
      " Time from start: 172.981430054s\n",
      "2017-04-11 16:47:54,763 - root - INFO - IterationLogger| Started iteration no.: 40000\n",
      " Time from previous iteration: 24.0925829411s\n",
      " Time from start: 197.074014187s\n",
      "2017-04-11 16:48:19,613 - root - INFO - IterationLogger| Started iteration no.: 45000\n",
      " Time from previous iteration: 24.8498530388s\n",
      " Time from start: 221.923866987s\n",
      "2017-04-11 16:48:45,422 - root - INFO - IterationLogger| Started iteration no.: 50000\n",
      " Time from previous iteration: 25.8087780476s\n",
      " Time from start: 247.732645035s\n",
      "2017-04-11 16:49:12,737 - root - INFO - IterationLogger| Started iteration no.: 55000\n",
      " Time from previous iteration: 27.3149130344s\n",
      " Time from start: 275.047559023s\n",
      "2017-04-11 16:49:37,628 - root - INFO - IterationLogger| Started iteration no.: 60000\n",
      " Time from previous iteration: 24.8916680813s\n",
      " Time from start: 299.939228058s\n",
      "2017-04-11 16:50:03,102 - root - INFO - IterationLogger| Started iteration no.: 65000\n",
      " Time from previous iteration: 25.4732079506s\n",
      " Time from start: 325.412436962s\n",
      "2017-04-11 16:50:25,873 - root - INFO - IterationLogger| Started iteration no.: 70000\n",
      " Time from previous iteration: 22.7716701031s\n",
      " Time from start: 348.184107065s\n",
      "2017-04-11 16:50:50,967 - root - INFO - IterationLogger| Started iteration no.: 75000\n",
      " Time from previous iteration: 25.0941689014s\n",
      " Time from start: 373.278277159s\n",
      "2017-04-11 16:51:16,394 - root - INFO - IterationLogger| Started iteration no.: 80000\n",
      " Time from previous iteration: 25.4269468784s\n",
      " Time from start: 398.705224991s\n",
      "2017-04-11 16:51:42,434 - root - INFO - IterationLogger| Started iteration no.: 85000\n",
      " Time from previous iteration: 26.0399889946s\n",
      " Time from start: 424.745215178s\n"
     ]
    }
   ],
   "source": [
    "dist_l1, dist_l2 = estimate_minkowski_dist_distr(decaf_vecs,  cfg['dist_estimation_ref_obj_count'], cfg['dist_estimation_p_vals'])"
   ]
  },
  {
   "cell_type": "code",
   "execution_count": 10,
   "metadata": {
    "collapsed": true,
    "deletable": true,
    "editable": true
   },
   "outputs": [],
   "source": [
    "dist_l1_ser=pd.Series(dist_l1)\n",
    "dist_l2_ser=pd.Series(dist_l2)"
   ]
  },
  {
   "cell_type": "code",
   "execution_count": 11,
   "metadata": {
    "collapsed": false,
    "deletable": true,
    "editable": true
   },
   "outputs": [
    {
     "data": {
      "text/plain": [
       "count    8.664800e+06\n",
       "mean     2.647457e+03\n",
       "std      3.241166e+02\n",
       "min      0.000000e+00\n",
       "25%      2.440370e+03\n",
       "50%      2.647141e+03\n",
       "75%      2.853509e+03\n",
       "max      5.098166e+03\n",
       "dtype: float64"
      ]
     },
     "execution_count": 11,
     "metadata": {},
     "output_type": "execute_result"
    }
   ],
   "source": [
    "dist_l1_ser.describe()"
   ]
  },
  {
   "cell_type": "code",
   "execution_count": 12,
   "metadata": {
    "collapsed": false,
    "deletable": true,
    "editable": true
   },
   "outputs": [
    {
     "data": {
      "text/plain": [
       "count    8.664800e+06\n",
       "mean     8.394643e+01\n",
       "std      1.155470e+01\n",
       "min      0.000000e+00\n",
       "25%      7.615974e+01\n",
       "50%      8.291862e+01\n",
       "75%      9.034240e+01\n",
       "max      1.856646e+02\n",
       "dtype: float64"
      ]
     },
     "execution_count": 12,
     "metadata": {},
     "output_type": "execute_result"
    }
   ],
   "source": [
    "dist_l2_ser.describe()"
   ]
  },
  {
   "cell_type": "code",
   "execution_count": 13,
   "metadata": {
    "collapsed": false,
    "deletable": true,
    "editable": true,
    "scrolled": false
   },
   "outputs": [
    {
     "data": {
      "text/plain": [
       "<matplotlib.axes._subplots.AxesSubplot at 0x7f91ec4a7610>"
      ]
     },
     "execution_count": 13,
     "metadata": {},
     "output_type": "execute_result"
    },
    {
     "data": {
      "image/png": "[encoded data removed]",
      "text/plain": [
       "<matplotlib.figure.Figure at 0x7f91bdbf4410>"
      ]
     },
     "metadata": {},
     "output_type": "display_data"
    }
   ],
   "source": [
    "dist_l1_ser.hist(bins=200)"
   ]
  },
  {
   "cell_type": "code",
   "execution_count": 14,
   "metadata": {
    "collapsed": false,
    "deletable": true,
    "editable": true
   },
   "outputs": [
    {
     "data": {
      "text/plain": [
       "<matplotlib.axes._subplots.AxesSubplot at 0x7f915c4f8850>"
      ]
     },
     "execution_count": 14,
     "metadata": {},
     "output_type": "execute_result"
    },
    {
     "data": {
      "image/png": "[encoded data removed]",
      "text/plain": [
       "<matplotlib.figure.Figure at 0x7f91c146d410>"
      ]
     },
     "metadata": {},
     "output_type": "display_data"
    }
   ],
   "source": [
    "dist_l2_ser.hist(bins=200)"
   ]
  },
  {
   "cell_type": "markdown",
   "metadata": {
    "collapsed": true,
    "deletable": true,
    "editable": true
   },
   "source": [
    "## APPROXIMATION  EVALUATION SET\n",
    "We select 100 query objects and their 100 closest object's id's from the dataset to evaluate. It simulates the scenario where almost never more than 100 objects are required for result set. "
   ]
  },
  {
   "cell_type": "code",
   "execution_count": 15,
   "metadata": {
    "collapsed": false
   },
   "outputs": [],
   "source": [
    "eval_queries_indicies=np.random.choice(decaf_vecs.shape[0], size=cfg['evaluation_set_query_obj_cnt'], replace=False)\n",
    "eval_queries_vecs=decaf_vecs[eval_queries_indicies] \n",
    "eval_queries_ids=obj_ids[eval_queries_indicies]\n",
    "eval_k=cfg['evaluation_set_result_set_size'] #k for knn to evaluation objects"
   ]
  },
  {
   "cell_type": "code",
   "execution_count": 16,
   "metadata": {
    "collapsed": false,
    "deletable": true,
    "editable": true
   },
   "outputs": [],
   "source": [
    "eval_result_objs=[list() for _ in range(len(eval_queries_ids))]"
   ]
  },
  {
   "cell_type": "markdown",
   "metadata": {},
   "source": [
    "Finds k-NN query result"
   ]
  },
  {
   "cell_type": "code",
   "execution_count": 17,
   "metadata": {
    "collapsed": false,
    "deletable": true,
    "editable": true,
    "scrolled": true
   },
   "outputs": [
    {
     "name": "stderr",
     "output_type": "stream",
     "text": [
      "2017-04-11 16:52:09,063 - root - INFO - IterationLogger| Started iteration no.: 5000\n",
      " Time from previous iteration: 13.8127498627s\n",
      " Time from start: 13.8127501011s\n",
      "2017-04-11 16:52:21,747 - root - INFO - IterationLogger| Started iteration no.: 10000\n",
      " Time from previous iteration: 12.6839048862s\n",
      " Time from start: 26.496655941s\n",
      "2017-04-11 16:52:33,932 - root - INFO - IterationLogger| Started iteration no.: 15000\n",
      " Time from previous iteration: 12.1844050884s\n",
      " Time from start: 38.6810619831s\n",
      "2017-04-11 16:52:47,046 - root - INFO - IterationLogger| Started iteration no.: 20000\n",
      " Time from previous iteration: 13.1145539284s\n",
      " Time from start: 51.7956180573s\n",
      "2017-04-11 16:52:59,839 - root - INFO - IterationLogger| Started iteration no.: 25000\n",
      " Time from previous iteration: 12.7923789024s\n",
      " Time from start: 64.5879969597s\n",
      "2017-04-11 16:53:12,458 - root - INFO - IterationLogger| Started iteration no.: 30000\n",
      " Time from previous iteration: 12.6198010445s\n",
      " Time from start: 77.2078030109s\n",
      "2017-04-11 16:53:24,541 - root - INFO - IterationLogger| Started iteration no.: 35000\n",
      " Time from previous iteration: 12.0823369026s\n",
      " Time from start: 89.2901399136s\n",
      "2017-04-11 16:53:37,642 - root - INFO - IterationLogger| Started iteration no.: 40000\n",
      " Time from previous iteration: 13.1016941071s\n",
      " Time from start: 102.391834021s\n",
      "2017-04-11 16:53:52,647 - root - INFO - IterationLogger| Started iteration no.: 45000\n",
      " Time from previous iteration: 15.0043129921s\n",
      " Time from start: 117.396147013s\n",
      "2017-04-11 16:54:05,410 - root - INFO - IterationLogger| Started iteration no.: 50000\n",
      " Time from previous iteration: 12.7628028393s\n",
      " Time from start: 130.158951044s\n",
      "2017-04-11 16:54:18,994 - root - INFO - IterationLogger| Started iteration no.: 55000\n",
      " Time from previous iteration: 13.5845019817s\n",
      " Time from start: 143.743453026s\n",
      "2017-04-11 16:54:33,711 - root - INFO - IterationLogger| Started iteration no.: 60000\n",
      " Time from previous iteration: 14.7165720463s\n",
      " Time from start: 158.460025072s\n",
      "2017-04-11 16:54:51,160 - root - INFO - IterationLogger| Started iteration no.: 65000\n",
      " Time from previous iteration: 17.4494738579s\n",
      " Time from start: 175.909500122s\n",
      "2017-04-11 16:55:06,859 - root - INFO - IterationLogger| Started iteration no.: 70000\n",
      " Time from previous iteration: 15.6990141869s\n",
      " Time from start: 191.608514071s\n",
      "2017-04-11 16:55:19,429 - root - INFO - IterationLogger| Started iteration no.: 75000\n",
      " Time from previous iteration: 12.5696599483s\n",
      " Time from start: 204.178174973s\n",
      "2017-04-11 16:55:32,129 - root - INFO - IterationLogger| Started iteration no.: 80000\n",
      " Time from previous iteration: 12.7003750801s\n",
      " Time from start: 216.87855196s\n",
      "2017-04-11 16:55:44,875 - root - INFO - IterationLogger| Started iteration no.: 85000\n",
      " Time from previous iteration: 12.7455589771s\n",
      " Time from start: 229.624110937s\n"
     ]
    }
   ],
   "source": [
    "iter_log=IterationLogger(log_by=5000)\n",
    "for i in range(len(decaf_vecs)):\n",
    "    iter_log.next_iter()\n",
    "    candidate_vec=decaf_vecs[i]\n",
    "    candidate_id=obj_ids[i]\n",
    "    for j in range(len(eval_queries_vecs)):\n",
    "        query_vec=eval_queries_vecs[j]\n",
    "        dist=minkowski(candidate_vec, query_vec, p=1)\n",
    "        if len(eval_result_objs[j])>0:\n",
    "            if dist<eval_result_objs[j][-1][1]: #if not object is not member of result set\n",
    "                eval_result_objs[j].append((candidate_id, dist))\n",
    "                eval_result_objs[j].sort(key=lambda x: x[1],reverse=False)\n",
    "                if len(eval_result_objs[j])>eval_k:#if > k objects remove last one\n",
    "                    del eval_result_objs[j][-1] \n",
    "        else:\n",
    "            eval_result_objs[j].append((candidate_id, dist))\n",
    "            "
   ]
  },
  {
   "cell_type": "code",
   "execution_count": 28,
   "metadata": {
    "collapsed": false,
    "deletable": true,
    "editable": true,
    "scrolled": true
   },
   "outputs": [
    {
     "data": {
      "text/plain": [
       "<matplotlib.axes._subplots.AxesSubplot at 0x7f9147ec0ad0>"
      ]
     },
     "execution_count": 28,
     "metadata": {},
     "output_type": "execute_result"
    },
    {
     "data": {
      "image/png": "[encoded data removed]",
      "text/plain": [
       "<matplotlib.figure.Figure at 0x7f9147d02790>"
      ]
     },
     "metadata": {},
     "output_type": "display_data"
    }
   ],
   "source": [
    "pd.Series([obj[1] for obj in eval_result_objs[17]]).hist(bins=100)"
   ]
  },
  {
   "cell_type": "code",
   "execution_count": null,
   "metadata": {
    "collapsed": true,
    "deletable": true,
    "editable": true
   },
   "outputs": [],
   "source": []
  },
  {
   "cell_type": "code",
   "execution_count": null,
   "metadata": {
    "collapsed": true,
    "deletable": true,
    "editable": true
   },
   "outputs": [],
   "source": []
  },
  {
   "cell_type": "code",
   "execution_count": null,
   "metadata": {
    "collapsed": true
   },
   "outputs": [],
   "source": []
  },
  {
   "cell_type": "code",
   "execution_count": null,
   "metadata": {
    "collapsed": true
   },
   "outputs": [],
   "source": []
  },
  {
   "cell_type": "code",
   "execution_count": null,
   "metadata": {
    "collapsed": true
   },
   "outputs": [],
   "source": []
  },
  {
   "cell_type": "code",
   "execution_count": null,
   "metadata": {
    "collapsed": true
   },
   "outputs": [],
   "source": []
  },
  {
   "cell_type": "code",
   "execution_count": null,
   "metadata": {
    "collapsed": true
   },
   "outputs": [],
   "source": []
  },
  {
   "cell_type": "code",
   "execution_count": null,
   "metadata": {
    "collapsed": true
   },
   "outputs": [],
   "source": []
  },
  {
   "cell_type": "code",
   "execution_count": null,
   "metadata": {
    "collapsed": true
   },
   "outputs": [],
   "source": []
  },
  {
   "cell_type": "code",
   "execution_count": null,
   "metadata": {
    "collapsed": true
   },
   "outputs": [],
   "source": []
  },
  {
   "cell_type": "code",
   "execution_count": null,
   "metadata": {
    "collapsed": true
   },
   "outputs": [],
   "source": []
  },
  {
   "cell_type": "code",
   "execution_count": null,
   "metadata": {
    "collapsed": true
   },
   "outputs": [],
   "source": []
  },
  {
   "cell_type": "code",
   "execution_count": null,
   "metadata": {
    "collapsed": true
   },
   "outputs": [],
   "source": []
  },
  {
   "cell_type": "code",
   "execution_count": null,
   "metadata": {
    "collapsed": true
   },
   "outputs": [],
   "source": []
  },
  {
   "cell_type": "code",
   "execution_count": null,
   "metadata": {
    "collapsed": true
   },
   "outputs": [],
   "source": []
  },
  {
   "cell_type": "code",
   "execution_count": null,
   "metadata": {
    "collapsed": true
   },
   "outputs": [],
   "source": []
  },
  {
   "cell_type": "code",
   "execution_count": null,
   "metadata": {
    "collapsed": true
   },
   "outputs": [],
   "source": []
  },
  {
   "cell_type": "code",
   "execution_count": null,
   "metadata": {
    "collapsed": true
   },
   "outputs": [],
   "source": []
  },
  {
   "cell_type": "code",
   "execution_count": null,
   "metadata": {
    "collapsed": true
   },
   "outputs": [],
   "source": []
  },
  {
   "cell_type": "code",
   "execution_count": null,
   "metadata": {
    "collapsed": true
   },
   "outputs": [],
   "source": []
  },
  {
   "cell_type": "code",
   "execution_count": null,
   "metadata": {
    "collapsed": true
   },
   "outputs": [],
   "source": []
  }
 ],
 "metadata": {
  "kernelspec": {
   "display_name": "Python 2",
   "language": "python",
   "name": "python2"
  },
  "language_info": {
   "codemirror_mode": {
    "name": "ipython",
    "version": 2
   },
   "file_extension": ".py",
   "mimetype": "text/x-python",
   "name": "python",
   "nbconvert_exporter": "python",
   "pygments_lexer": "ipython2",
   "version": "2.7.12"
  }
 },
 "nbformat": 4,
 "nbformat_minor": 2
}
