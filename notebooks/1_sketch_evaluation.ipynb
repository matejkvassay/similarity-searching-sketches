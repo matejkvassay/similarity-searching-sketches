{
 "cells": [
  {
   "cell_type": "code",
   "execution_count": 2,
   "metadata": {
    "collapsed": false,
    "deletable": true,
    "editable": true
   },
   "outputs": [],
   "source": [
    "cfg={\n",
    "    'main_folder':'/Users/matejkvassay/data/sketch-testing/',\n",
    "    'save_allowed':True,\n",
    "    'dataset_file':'dataset.npy',\n",
    "    'dev_mode': False,\n",
    "    'dev_mode_dataset_count_limit': 1000,\n",
    "    'dist_estimation_ref_obj_count': 100,\n",
    "    'dist_estimation_p_vals':[1,2],\n",
    "    'evaluation_set_query_obj_cnt':1000,\n",
    "    'evaluation_set_result_set_size':100,\n",
    "    'ghp_pivot_couple_candidates': 5000,\n",
    "    'min_balancing_score': 0.1,\n",
    "    'after_partitiong_checkpoint_file': 'after_partitioning.checkpoint'\n",
    "}"
   ]
  },
  {
   "cell_type": "code",
   "execution_count": 3,
   "metadata": {
    "collapsed": true,
    "deletable": true,
    "editable": true
   },
   "outputs": [],
   "source": [
    "%matplotlib inline\n",
    "import logging\n",
    "import matplotlib.pyplot as plt\n",
    "import numpy as np\n",
    "import pandas as pd\n",
    "import yaml\n",
    "from scipy.spatial.distance import minkowski, hamming\n",
    "from fractions import Fraction \n",
    "from time import time\n",
    "from sklearn.manifold import TSNE\n",
    "from mpl_toolkits.mplot3d import Axes3D\n",
    "import pylab\n",
    "import scipy as sp\n",
    "import cPickle"
   ]
  },
  {
   "cell_type": "code",
   "execution_count": 4,
   "metadata": {
    "collapsed": true,
    "deletable": true,
    "editable": true
   },
   "outputs": [],
   "source": [
    "logger = logging.getLogger()\n",
    "logger.setLevel('INFO')\n",
    "ch = logging.StreamHandler()\n",
    "ch.setLevel(logging.INFO)\n",
    "formatter = logging.Formatter('%(asctime)s - %(name)s - %(levelname)s - %(message)s')\n",
    "ch.setFormatter(formatter)\n",
    "# add the handlers to the logger\n",
    "logger.addHandler(ch)"
   ]
  },
  {
   "cell_type": "code",
   "execution_count": 614,
   "metadata": {
    "collapsed": false,
    "deletable": true,
    "editable": true
   },
   "outputs": [],
   "source": [
    "def log_pfx(obj, msg, *args):\n",
    "    logger.info(obj.__class__.__name__+'| '+msg, *args)\n",
    "    \n",
    "def save_to(obj, file_path):\n",
    "    with open(file_path, 'wb') as f:\n",
    "        cPickle.dump(obj,f)\n",
    "\n",
    "def load_from(file_path):\n",
    "    with open(file_path, 'rb') as f:\n",
    "        return cPickle.load(f)\n",
    "\n",
    "def show_text(title,xlabel,ylabel):\n",
    "    plt.suptitle(title)\n",
    "    plt.xlabel(xlabel)\n",
    "    plt.ylabel(ylabel)\n",
    "    \n",
    "def heatmap(x,y,bins=50,figsize=(5,5),title=None, xlabel=None, ylabel=None):\n",
    "    plt.figure(figsize=figsize)\n",
    "    heatmap, xedges, yedges = np.histogram2d(x, y, bins)\n",
    "    extent = [xedges[0], xedges[-1], yedges[0], yedges[-1]]\n",
    "    plt.clf()\n",
    "    plt.imshow(heatmap.T, extent=extent, origin='lower')\n",
    "    show_text(title,xlabel,ylabel)\n",
    "    plt.show()\n",
    "    \n",
    "def scatter(x,y,title=None, xlabel=None, ylabel=None, point_size=5):\n",
    "    plt.scatter(x, y, s=[point_size for _ in range(len(x))])\n",
    "    plt.suptitle(title)\n",
    "    plt.xlabel(xlabel)\n",
    "    plt.ylabel(ylabel)\n",
    "    plt.show()\n",
    "    \n",
    "def scatter_array(arr, title=None, xlabel=None, ylabel=None, point_size=5):\n",
    "    ser=pd.Series(arr)\n",
    "    plt.scatter(ser.index, ser, s=[point_size for _ in range(len(arr))])\n",
    "    plt.suptitle(title)\n",
    "    plt.xlabel(xlabel)\n",
    "    plt.ylabel(ylabel)\n",
    "    plt.show()\n",
    "    \n",
    "def plot_array(arr, title=None, xlabel=None, ylabel=None,xticks=None):\n",
    "    pd.Series(arr).plot(grid=True)\n",
    "    plt.suptitle(title)\n",
    "    plt.xlabel(xlabel)\n",
    "    plt.ylabel(ylabel)\n",
    "    if xticks:\n",
    "        plt.xticks(len(arr), labels, rotation='vertical')\n",
    "    plt.show()\n",
    "\n",
    "def hist_array(arr,bins=50, title=None, xlabel=None, ylabel=None):\n",
    "    pd.Series(arr).hist(bins=bins,grid=True)\n",
    "    plt.xlabel(xlabel)\n",
    "    plt.ylabel(ylabel)\n",
    "    plt.suptitle(title)\n",
    "    plt.show()\n",
    "    \n",
    "def restrict_2d_space(x,y,x_interval, y_interval):\n",
    "    conditions=[x>=x_interval[0], x<=x_interval[1], y>=y_interval[0], y<=y_interval[1]]\n",
    "    mask=conditions[0]\n",
    "    for condition in conditions[1:]:\n",
    "        mask=np.logical_and(mask,condition)\n",
    "    return x[mask], y[mask]\n",
    "\n",
    "\n",
    "def balanced_correlation(col1, col2):\n",
    "    '''\n",
    "    Correlation when bits are balanced - |4*(a/n) - 1|, where a is CARD(NOT(XOR(A,B)))\n",
    "    '''\n",
    "    a=float(np.sum(np.logical_not(np.logical_xor(v1,v2))))\n",
    "    n=col1.shape[0]\n",
    "    return np.absolute((4.0*(a/n)) - 1.0)\n",
    "\n",
    "class IterationLogger(object):\n",
    "    def __init__(self, message='Started iteration no.: %s\\n Time from previous iteration: %ss\\n Time from start: %ss',log_by=1000):\n",
    "        self.log_by=log_by\n",
    "        self.num_iter=0\n",
    "        self.msg=message\n",
    "        self.time_started=None\n",
    "        self.time_this_iter=None\n",
    "        \n",
    "    def next_iter(self):\n",
    "        if self.time_this_iter is None:\n",
    "            self.time_this_iter=time()\n",
    "        if self.time_started is None:\n",
    "            self.time_started=time()\n",
    "        self.num_iter+=1\n",
    "        if self.num_iter%self.log_by==0:\n",
    "            dur_from_previous=time()-self.time_this_iter\n",
    "            self.time_this_iter=time()\n",
    "            dur_from_start=time()-self.time_started\n",
    "            log_pfx(self, self.msg, str(self.num_iter), str(dur_from_previous), str(dur_from_start))\n",
    "            "
   ]
  },
  {
   "cell_type": "markdown",
   "metadata": {
    "deletable": true,
    "editable": true
   },
   "source": [
    "### LOAD DATA"
   ]
  },
  {
   "cell_type": "code",
   "execution_count": 5,
   "metadata": {
    "collapsed": true,
    "deletable": true,
    "editable": true
   },
   "outputs": [],
   "source": [
    "dataset_path=cfg['main_folder']+cfg['dataset_file']"
   ]
  },
  {
   "cell_type": "code",
   "execution_count": 6,
   "metadata": {
    "collapsed": false,
    "deletable": true,
    "editable": true,
    "scrolled": true
   },
   "outputs": [],
   "source": [
    "with open(dataset_path, 'rb') as f:\n",
    "    decaf_vecs=np.load(f)\n",
    "if cfg['dev_mode']:\n",
    "    decaf_vecs=decaf_vecs[:cfg['dev_mode_dataset_count_limit']]\n",
    "obj_ids=np.arange(len(decaf_vecs))"
   ]
  },
  {
   "cell_type": "code",
   "execution_count": 7,
   "metadata": {
    "collapsed": false,
    "deletable": true,
    "editable": true
   },
   "outputs": [
    {
     "data": {
      "text/plain": [
       "(69318, 4096)"
      ]
     },
     "execution_count": 7,
     "metadata": {},
     "output_type": "execute_result"
    }
   ],
   "source": [
    "decaf_vecs.shape #(vectors count, vector length)"
   ]
  },
  {
   "cell_type": "markdown",
   "metadata": {
    "deletable": true,
    "editable": true
   },
   "source": [
    "### DATA ANALYSIS"
   ]
  },
  {
   "cell_type": "markdown",
   "metadata": {
    "deletable": true,
    "editable": true
   },
   "source": [
    "\n",
    "#### Distance distribution estimation"
   ]
  },
  {
   "cell_type": "code",
   "execution_count": 8,
   "metadata": {
    "collapsed": false,
    "deletable": true,
    "editable": true
   },
   "outputs": [],
   "source": [
    "def estimate_minkowski_dist_distr(vec_matrix, ref_obj_cnt, p):\n",
    "    '''\n",
    "    p can be either single value or list of p parameters for minkowski distance\n",
    "    '''\n",
    "    distances=[list() for _ in range(len(p))]\n",
    "    reference_objs=vec_matrix[np.random.choice(vec_matrix.shape[0], size=ref_obj_cnt, replace=False)] #sampling without replacement\n",
    "    iter_log=IterationLogger(log_by=5000)\n",
    "    for decaf_vec in decaf_vecs:\n",
    "        iter_log.next_iter()\n",
    "        for ref_obj in reference_objs:\n",
    "            for i, val_p in enumerate(p):\n",
    "                dist=minkowski(ref_obj, decaf_vec, p=val_p)\n",
    "                distances[i].append(dist)\n",
    "    return tuple(distances)\n"
   ]
  },
  {
   "cell_type": "code",
   "execution_count": 9,
   "metadata": {
    "collapsed": false,
    "deletable": true,
    "editable": true,
    "scrolled": true
   },
   "outputs": [
    {
     "name": "stderr",
     "output_type": "stream",
     "text": [
      "2017-04-29 15:38:55,459 - root - INFO - IterationLogger| Started iteration no.: 5000\n",
      " Time from previous iteration: 26.5622060299s\n",
      " Time from start: 26.5622060299s\n",
      "2017-04-29 15:39:24,487 - root - INFO - IterationLogger| Started iteration no.: 10000\n",
      " Time from previous iteration: 29.0281610489s\n",
      " Time from start: 55.5903680325s\n",
      "2017-04-29 15:39:53,225 - root - INFO - IterationLogger| Started iteration no.: 15000\n",
      " Time from previous iteration: 28.7380218506s\n",
      " Time from start: 84.3283910751s\n",
      "2017-04-29 15:40:21,954 - root - INFO - IterationLogger| Started iteration no.: 20000\n",
      " Time from previous iteration: 28.7288680077s\n",
      " Time from start: 113.057260036s\n",
      "2017-04-29 15:40:49,924 - root - INFO - IterationLogger| Started iteration no.: 25000\n",
      " Time from previous iteration: 27.9704780579s\n",
      " Time from start: 141.027739048s\n",
      "2017-04-29 15:41:15,928 - root - INFO - IterationLogger| Started iteration no.: 30000\n",
      " Time from previous iteration: 26.0039708614s\n",
      " Time from start: 167.031710863s\n",
      "2017-04-29 15:41:41,815 - root - INFO - IterationLogger| Started iteration no.: 35000\n",
      " Time from previous iteration: 25.8872401714s\n",
      " Time from start: 192.918951988s\n",
      "2017-04-29 15:42:07,566 - root - INFO - IterationLogger| Started iteration no.: 40000\n",
      " Time from previous iteration: 25.7501199245s\n",
      " Time from start: 218.669071913s\n",
      "2017-04-29 15:42:32,643 - root - INFO - IterationLogger| Started iteration no.: 45000\n",
      " Time from previous iteration: 25.077368021s\n",
      " Time from start: 243.746440887s\n",
      "2017-04-29 15:42:57,742 - root - INFO - IterationLogger| Started iteration no.: 50000\n",
      " Time from previous iteration: 25.0995910168s\n",
      " Time from start: 268.846031904s\n",
      "2017-04-29 15:43:22,800 - root - INFO - IterationLogger| Started iteration no.: 55000\n",
      " Time from previous iteration: 25.0574250221s\n",
      " Time from start: 293.90345788s\n",
      "2017-04-29 15:43:47,833 - root - INFO - IterationLogger| Started iteration no.: 60000\n",
      " Time from previous iteration: 25.0326831341s\n",
      " Time from start: 318.936141968s\n",
      "2017-04-29 15:44:12,927 - root - INFO - IterationLogger| Started iteration no.: 65000\n",
      " Time from previous iteration: 25.0945770741s\n",
      " Time from start: 344.030719042s\n"
     ]
    }
   ],
   "source": [
    "dist_l1, dist_l2 = estimate_minkowski_dist_distr(decaf_vecs,  cfg['dist_estimation_ref_obj_count'], cfg['dist_estimation_p_vals'])"
   ]
  },
  {
   "cell_type": "code",
   "execution_count": 10,
   "metadata": {
    "collapsed": false,
    "deletable": true,
    "editable": true,
    "scrolled": true
   },
   "outputs": [
    {
     "data": {
      "image/png": "[encoded data removed]",
      "text/plain": [
       "<matplotlib.figure.Figure at 0x104d36a10>"
      ]
     },
     "metadata": {},
     "output_type": "display_data"
    }
   ],
   "source": [
    "hist_array(dist_l1, bins=50, title='L1 estimated distance distribution',ylabel='count object couples', xlabel='L1 distance')"
   ]
  },
  {
   "cell_type": "code",
   "execution_count": 11,
   "metadata": {
    "collapsed": false,
    "deletable": true,
    "editable": true,
    "scrolled": true
   },
   "outputs": [
    {
     "data": {
      "image/png": "[encoded data removed]",
      "text/plain": [
       "<matplotlib.figure.Figure at 0x1582d8a50>"
      ]
     },
     "metadata": {},
     "output_type": "display_data"
    }
   ],
   "source": [
    "hist_array(dist_l2, bins=50,title='L2 estimated distance distribution',ylabel='count object couples', xlabel='L2 distance')"
   ]
  },
  {
   "cell_type": "markdown",
   "metadata": {
    "collapsed": true,
    "deletable": true,
    "editable": true
   },
   "source": [
    "## APPROXIMATION  EVALUATION SET\n",
    "We select 100 query objects and their 100 closest object's id's from the dataset to evaluate. It simulates the scenario where almost never more than 100 objects are required for result set. "
   ]
  },
  {
   "cell_type": "code",
   "execution_count": 12,
   "metadata": {
    "collapsed": false,
    "deletable": true,
    "editable": true
   },
   "outputs": [],
   "source": [
    "eval_queries_indicies=np.random.choice(decaf_vecs.shape[0], size=cfg['evaluation_set_query_obj_cnt'], replace=False)\n",
    "eval_queries_vecs=decaf_vecs[eval_queries_indicies] \n",
    "eval_queries_ids=obj_ids[eval_queries_indicies]\n",
    "eval_k=cfg['evaluation_set_result_set_size'] #k for knn to evaluation objects"
   ]
  },
  {
   "cell_type": "code",
   "execution_count": 13,
   "metadata": {
    "collapsed": false,
    "deletable": true,
    "editable": true
   },
   "outputs": [],
   "source": [
    "eval_result_objs=[list() for _ in range(len(eval_queries_ids))]"
   ]
  },
  {
   "cell_type": "markdown",
   "metadata": {
    "deletable": true,
    "editable": true
   },
   "source": [
    "Finds k-NN query result"
   ]
  },
  {
   "cell_type": "code",
   "execution_count": 14,
   "metadata": {
    "collapsed": false,
    "deletable": true,
    "editable": true,
    "scrolled": true
   },
   "outputs": [
    {
     "name": "stderr",
     "output_type": "stream",
     "text": [
      "2017-04-29 15:47:02,815 - root - INFO - IterationLogger| Started iteration no.: 5000\n",
      " Time from previous iteration: 144.796949148s\n",
      " Time from start: 144.796947956s\n",
      "2017-04-29 15:49:11,505 - root - INFO - IterationLogger| Started iteration no.: 10000\n",
      " Time from previous iteration: 128.690979004s\n",
      " Time from start: 273.487927914s\n",
      "2017-04-29 15:51:15,464 - root - INFO - IterationLogger| Started iteration no.: 15000\n",
      " Time from previous iteration: 123.958784819s\n",
      " Time from start: 397.446712971s\n",
      "2017-04-29 15:53:30,803 - root - INFO - IterationLogger| Started iteration no.: 20000\n",
      " Time from previous iteration: 135.33919096s\n",
      " Time from start: 532.785904884s\n",
      "2017-04-29 15:55:42,089 - root - INFO - IterationLogger| Started iteration no.: 25000\n",
      " Time from previous iteration: 131.285347939s\n",
      " Time from start: 664.071253777s\n",
      "2017-04-29 15:57:52,676 - root - INFO - IterationLogger| Started iteration no.: 30000\n",
      " Time from previous iteration: 130.586852074s\n",
      " Time from start: 794.658106804s\n",
      "2017-04-29 16:00:03,208 - root - INFO - IterationLogger| Started iteration no.: 35000\n",
      " Time from previous iteration: 130.532474995s\n",
      " Time from start: 925.190582991s\n",
      "2017-04-29 16:02:27,138 - root - INFO - IterationLogger| Started iteration no.: 40000\n",
      " Time from previous iteration: 143.929722786s\n",
      " Time from start: 1069.12030697s\n",
      "2017-04-29 16:04:45,557 - root - INFO - IterationLogger| Started iteration no.: 45000\n",
      " Time from previous iteration: 138.41868186s\n",
      " Time from start: 1207.53898978s\n",
      "2017-04-29 16:07:04,707 - root - INFO - IterationLogger| Started iteration no.: 50000\n",
      " Time from previous iteration: 139.150286198s\n",
      " Time from start: 1346.68927693s\n",
      "2017-04-29 16:09:26,293 - root - INFO - IterationLogger| Started iteration no.: 55000\n",
      " Time from previous iteration: 141.585975885s\n",
      " Time from start: 1488.27525496s\n",
      "2017-04-29 16:11:50,198 - root - INFO - IterationLogger| Started iteration no.: 60000\n",
      " Time from previous iteration: 143.905428171s\n",
      " Time from start: 1632.1806829s\n",
      "2017-04-29 16:13:53,298 - root - INFO - IterationLogger| Started iteration no.: 65000\n",
      " Time from previous iteration: 123.100239038s\n",
      " Time from start: 1755.28092384s\n"
     ]
    }
   ],
   "source": [
    "iter_log=IterationLogger(log_by=5000)\n",
    "for i in range(len(decaf_vecs)):\n",
    "    iter_log.next_iter()\n",
    "    candidate_vec=decaf_vecs[i]\n",
    "    candidate_id=obj_ids[i]\n",
    "    for j in range(len(eval_queries_vecs)):\n",
    "        query_vec=eval_queries_vecs[j]\n",
    "        dist=minkowski(candidate_vec, query_vec, p=1)\n",
    "        if len(eval_result_objs[j])>0:\n",
    "            if dist<eval_result_objs[j][-1][1]: #if object is not member of result set\n",
    "                eval_result_objs[j].append((candidate_id, dist))\n",
    "                eval_result_objs[j].sort(key=lambda x: x[1],reverse=False)\n",
    "                if len(eval_result_objs[j])>eval_k:#if > k objects remove last one\n",
    "                    del eval_result_objs[j][-1] \n",
    "        else:\n",
    "            eval_result_objs[j].append((candidate_id, dist))\n",
    "            "
   ]
  },
  {
   "cell_type": "code",
   "execution_count": 15,
   "metadata": {
    "collapsed": false,
    "deletable": true,
    "editable": true,
    "scrolled": true
   },
   "outputs": [
    {
     "data": {
      "image/png": "[encoded data removed]",
      "text/plain": [
       "<matplotlib.figure.Figure at 0x10897afd0>"
      ]
     },
     "metadata": {},
     "output_type": "display_data"
    }
   ],
   "source": [
    "hist_array([obj[1] for obj in eval_result_objs[17]],bins=20,title='Sample distance distribution of objects from result to query object',xlabel='L1 distance',ylabel='count objects')"
   ]
  },
  {
   "cell_type": "markdown",
   "metadata": {
    "collapsed": true,
    "deletable": true,
    "editable": true
   },
   "source": [
    "## GENERALIZED HYPERPLANE PARTITIONING PIVOTS SELECTION"
   ]
  },
  {
   "cell_type": "code",
   "execution_count": 16,
   "metadata": {
    "collapsed": false,
    "deletable": true,
    "editable": true
   },
   "outputs": [],
   "source": [
    "pivot_cand_cpl_cnt=cfg['ghp_pivot_couple_candidates']"
   ]
  },
  {
   "cell_type": "markdown",
   "metadata": {
    "deletable": true,
    "editable": true
   },
   "source": [
    "Select random pivot couples"
   ]
  },
  {
   "cell_type": "code",
   "execution_count": 17,
   "metadata": {
    "collapsed": false,
    "deletable": true,
    "editable": true
   },
   "outputs": [],
   "source": [
    "cand_indicies=np.random.choice(decaf_vecs.shape[0], size=pivot_cand_cpl_cnt*2, replace=False)\n",
    "pivot_cand_vecs=decaf_vecs[cand_indicies]\n",
    "pivot_cand_ids=obj_ids[cand_indicies]\n",
    "pivot_cand_vecs_a, pivot_cand_vecs_b=np.split(pivot_cand_vecs,2)\n",
    "pivot_cand_ids_a, pivot_cand_ids_b=np.split(pivot_cand_ids,2)\n",
    "pivot_cand_vecs=np.array(zip(pivot_cand_vecs_a, pivot_cand_vecs_b))\n",
    "pivot_cand_ids=np.array(zip(pivot_cand_ids_a, pivot_cand_ids_b))"
   ]
  },
  {
   "cell_type": "code",
   "execution_count": 18,
   "metadata": {
    "collapsed": true,
    "deletable": true,
    "editable": true
   },
   "outputs": [],
   "source": [
    "def get_ghp_partition(obj, pivot_a, pivot_b, p=1):\n",
    "    '''\n",
    "    returns partition 0/1 and distance to closest pivot\n",
    "    '''\n",
    "    dist_a=minkowski(vec, pivot_cpl_vec[0], p=p)\n",
    "    dist_b=minkowski(vec, pivot_cpl_vec[1], p=p)\n",
    "    if dist_a<dist_b:\n",
    "        return 1, dist_a\n",
    "    if dist_a>dist_b:\n",
    "        return 0, dist_b\n",
    "    return np.random.choice([0,1]), dist_a\n",
    "    \n",
    "def compute_part_balance(cnt_partition, cnt_all):\n",
    "    '''\n",
    "    1 - 2*|0.5-x/y| where x is count members in left or right partition and y is count all members\n",
    "    '''\n",
    "    return 1.0-(2*abs(0.5-(cnt_partition/cnt_all)))"
   ]
  },
  {
   "cell_type": "code",
   "execution_count": 19,
   "metadata": {
    "collapsed": false,
    "deletable": true,
    "editable": true
   },
   "outputs": [
    {
     "data": {
      "image/png": "[encoded data removed]",
      "text/plain": [
       "<matplotlib.figure.Figure at 0x15871a050>"
      ]
     },
     "metadata": {},
     "output_type": "display_data"
    }
   ],
   "source": [
    "#plot balance function\n",
    "plot_array([compute_part_balance(float(num),float(1000)) for num in range(0,1001)], title='GHP balance function',xlabel='x| no. objects in left partition',ylabel='b(x)')\n",
    "\n"
   ]
  },
  {
   "cell_type": "markdown",
   "metadata": {
    "deletable": true,
    "editable": true
   },
   "source": [
    "Partition all objects from database and collect useful statistics for pivot couple selection"
   ]
  },
  {
   "cell_type": "code",
   "execution_count": 20,
   "metadata": {
    "collapsed": true,
    "deletable": true,
    "editable": true
   },
   "outputs": [],
   "source": [
    "partitions=np.zeros(shape=(decaf_vecs.shape[0], len(pivot_cand_ids)), dtype=np.float32)\n",
    "left_members_cnt=np.zeros(len(pivot_cand_ids), dtype=np.float32)\n",
    "sum_dist_from_ghp=np.zeros(len(pivot_cand_ids), dtype=np.float32)"
   ]
  },
  {
   "cell_type": "code",
   "execution_count": 21,
   "metadata": {
    "collapsed": false,
    "deletable": true,
    "editable": true
   },
   "outputs": [
    {
     "name": "stderr",
     "output_type": "stream",
     "text": [
      "2017-04-29 16:20:06,638 - root - INFO - IterationLogger| Started iteration no.: 1000\n",
      " Time from previous iteration: 266.992723942s\n",
      " Time from start: 266.992719889s\n",
      "2017-04-29 16:24:33,634 - root - INFO - IterationLogger| Started iteration no.: 2000\n",
      " Time from previous iteration: 266.996590137s\n",
      " Time from start: 533.989311934s\n",
      "2017-04-29 16:29:00,959 - root - INFO - IterationLogger| Started iteration no.: 3000\n",
      " Time from previous iteration: 267.324573994s\n",
      " Time from start: 801.313885927s\n",
      "2017-04-29 16:33:28,624 - root - INFO - IterationLogger| Started iteration no.: 4000\n",
      " Time from previous iteration: 267.665231943s\n",
      " Time from start: 1068.97911882s\n",
      "2017-04-29 16:37:56,091 - root - INFO - IterationLogger| Started iteration no.: 5000\n",
      " Time from previous iteration: 267.467139006s\n",
      " Time from start: 1336.44625902s\n",
      "2017-04-29 16:42:24,360 - root - INFO - IterationLogger| Started iteration no.: 6000\n",
      " Time from previous iteration: 268.268931866s\n",
      " Time from start: 1604.71519184s\n",
      "2017-04-29 16:46:52,626 - root - INFO - IterationLogger| Started iteration no.: 7000\n",
      " Time from previous iteration: 268.266072989s\n",
      " Time from start: 1872.98126602s\n",
      "2017-04-29 16:51:21,307 - root - INFO - IterationLogger| Started iteration no.: 8000\n",
      " Time from previous iteration: 268.680807114s\n",
      " Time from start: 2141.66207385s\n",
      "2017-04-29 16:55:50,087 - root - INFO - IterationLogger| Started iteration no.: 9000\n",
      " Time from previous iteration: 268.77970314s\n",
      " Time from start: 2410.44177699s\n",
      "2017-04-29 17:00:18,935 - root - INFO - IterationLogger| Started iteration no.: 10000\n",
      " Time from previous iteration: 268.848450899s\n",
      " Time from start: 2679.29022789s\n",
      "2017-04-29 17:04:47,610 - root - INFO - IterationLogger| Started iteration no.: 11000\n",
      " Time from previous iteration: 268.674849987s\n",
      " Time from start: 2947.96507883s\n",
      "2017-04-29 17:09:16,725 - root - INFO - IterationLogger| Started iteration no.: 12000\n",
      " Time from previous iteration: 269.115428209s\n",
      " Time from start: 3217.08050799s\n",
      "2017-04-29 17:13:45,942 - root - INFO - IterationLogger| Started iteration no.: 13000\n",
      " Time from previous iteration: 269.217051983s\n",
      " Time from start: 3486.29756999s\n",
      "2017-04-29 17:18:15,477 - root - INFO - IterationLogger| Started iteration no.: 14000\n",
      " Time from previous iteration: 269.534701824s\n",
      " Time from start: 3755.83227181s\n",
      "2017-04-29 17:22:44,555 - root - INFO - IterationLogger| Started iteration no.: 15000\n",
      " Time from previous iteration: 269.07767415s\n",
      " Time from start: 4024.90994596s\n",
      "2017-04-29 17:27:13,301 - root - INFO - IterationLogger| Started iteration no.: 16000\n",
      " Time from previous iteration: 268.74661684s\n",
      " Time from start: 4293.65656304s\n",
      "2017-04-29 17:31:42,173 - root - INFO - IterationLogger| Started iteration no.: 17000\n",
      " Time from previous iteration: 268.871988773s\n",
      " Time from start: 4562.52855396s\n",
      "2017-04-29 17:36:10,956 - root - INFO - IterationLogger| Started iteration no.: 18000\n",
      " Time from previous iteration: 268.782535076s\n",
      " Time from start: 4831.31108999s\n",
      "2017-04-29 17:40:39,724 - root - INFO - IterationLogger| Started iteration no.: 19000\n",
      " Time from previous iteration: 268.767760992s\n",
      " Time from start: 5100.07885194s\n",
      "2017-04-29 17:45:07,999 - root - INFO - IterationLogger| Started iteration no.: 20000\n",
      " Time from previous iteration: 268.275559902s\n",
      " Time from start: 5368.35441303s\n",
      "2017-04-29 17:49:36,405 - root - INFO - IterationLogger| Started iteration no.: 21000\n",
      " Time from previous iteration: 268.405284882s\n",
      " Time from start: 5636.75969887s\n",
      "2017-04-29 17:54:05,505 - root - INFO - IterationLogger| Started iteration no.: 22000\n",
      " Time from previous iteration: 269.10018301s\n",
      " Time from start: 5905.85988188s\n",
      "2017-04-29 17:58:34,342 - root - INFO - IterationLogger| Started iteration no.: 23000\n",
      " Time from previous iteration: 268.837636948s\n",
      " Time from start: 6174.69752002s\n",
      "2017-04-29 18:03:03,064 - root - INFO - IterationLogger| Started iteration no.: 24000\n",
      " Time from previous iteration: 268.721465826s\n",
      " Time from start: 6443.41898704s\n",
      "2017-04-29 18:07:31,774 - root - INFO - IterationLogger| Started iteration no.: 25000\n",
      " Time from previous iteration: 268.709905863s\n",
      " Time from start: 6712.12889385s\n",
      "2017-04-29 18:12:00,989 - root - INFO - IterationLogger| Started iteration no.: 26000\n",
      " Time from previous iteration: 269.215480089s\n",
      " Time from start: 6981.3443749s\n",
      "2017-04-29 18:16:29,818 - root - INFO - IterationLogger| Started iteration no.: 27000\n",
      " Time from previous iteration: 268.828242064s\n",
      " Time from start: 7250.17261696s\n",
      "2017-04-29 18:20:58,873 - root - INFO - IterationLogger| Started iteration no.: 28000\n",
      " Time from previous iteration: 269.055903912s\n",
      " Time from start: 7519.22852182s\n",
      "2017-04-29 18:25:27,392 - root - INFO - IterationLogger| Started iteration no.: 29000\n",
      " Time from previous iteration: 268.518130064s\n",
      " Time from start: 7787.74665284s\n",
      "2017-04-29 18:29:56,334 - root - INFO - IterationLogger| Started iteration no.: 30000\n",
      " Time from previous iteration: 268.942100048s\n",
      " Time from start: 8056.68875289s\n",
      "2017-04-29 18:34:25,367 - root - INFO - IterationLogger| Started iteration no.: 31000\n",
      " Time from previous iteration: 269.033134937s\n",
      " Time from start: 8325.72188902s\n",
      "2017-04-29 18:38:54,086 - root - INFO - IterationLogger| Started iteration no.: 32000\n",
      " Time from previous iteration: 268.719189882s\n",
      " Time from start: 8594.44107985s\n",
      "2017-04-29 18:43:23,195 - root - INFO - IterationLogger| Started iteration no.: 33000\n",
      " Time from previous iteration: 269.10919404s\n",
      " Time from start: 8863.55027485s\n",
      "2017-04-29 18:47:52,346 - root - INFO - IterationLogger| Started iteration no.: 34000\n",
      " Time from previous iteration: 269.15123415s\n",
      " Time from start: 9132.70151091s\n",
      "2017-04-29 18:52:23,593 - root - INFO - IterationLogger| Started iteration no.: 35000\n",
      " Time from previous iteration: 271.246861935s\n",
      " Time from start: 9403.94837284s\n",
      "2017-04-29 18:56:52,324 - root - INFO - IterationLogger| Started iteration no.: 36000\n",
      " Time from previous iteration: 268.730948925s\n",
      " Time from start: 9672.679322s\n",
      "2017-04-29 19:01:21,483 - root - INFO - IterationLogger| Started iteration no.: 37000\n",
      " Time from previous iteration: 269.158823967s\n",
      " Time from start: 9941.83814692s\n",
      "2017-04-29 19:05:50,312 - root - INFO - IterationLogger| Started iteration no.: 38000\n",
      " Time from previous iteration: 268.82881999s\n",
      " Time from start: 10210.6669679s\n",
      "2017-04-29 19:10:19,216 - root - INFO - IterationLogger| Started iteration no.: 39000\n",
      " Time from previous iteration: 268.904286146s\n",
      " Time from start: 10479.571255s\n",
      "2017-04-29 19:14:47,690 - root - INFO - IterationLogger| Started iteration no.: 40000\n",
      " Time from previous iteration: 268.473343849s\n",
      " Time from start: 10748.0446s\n",
      "2017-04-29 19:19:16,674 - root - INFO - IterationLogger| Started iteration no.: 41000\n",
      " Time from previous iteration: 268.984583855s\n",
      " Time from start: 11017.0291848s\n",
      "2017-04-29 19:23:46,105 - root - INFO - IterationLogger| Started iteration no.: 42000\n",
      " Time from previous iteration: 269.431029081s\n",
      " Time from start: 11286.460216s\n",
      "2017-04-29 19:28:14,786 - root - INFO - IterationLogger| Started iteration no.: 43000\n",
      " Time from previous iteration: 268.680418968s\n",
      " Time from start: 11555.140636s\n",
      "2017-04-29 19:32:43,513 - root - INFO - IterationLogger| Started iteration no.: 44000\n",
      " Time from previous iteration: 268.727602005s\n",
      " Time from start: 11823.8682389s\n",
      "2017-04-29 19:37:12,274 - root - INFO - IterationLogger| Started iteration no.: 45000\n",
      " Time from previous iteration: 268.760834932s\n",
      " Time from start: 12092.629076s\n",
      "2017-04-29 19:41:41,136 - root - INFO - IterationLogger| Started iteration no.: 46000\n",
      " Time from previous iteration: 268.862292051s\n",
      " Time from start: 12361.4913678s\n",
      "2017-04-29 19:46:09,769 - root - INFO - IterationLogger| Started iteration no.: 47000\n",
      " Time from previous iteration: 268.632398129s\n",
      " Time from start: 12630.1237669s\n",
      "2017-04-29 19:50:38,670 - root - INFO - IterationLogger| Started iteration no.: 48000\n",
      " Time from previous iteration: 268.901417971s\n",
      " Time from start: 12899.0251858s\n",
      "2017-04-29 19:55:07,108 - root - INFO - IterationLogger| Started iteration no.: 49000\n",
      " Time from previous iteration: 268.437409163s\n",
      " Time from start: 13167.4625959s\n",
      "2017-04-29 19:59:35,189 - root - INFO - IterationLogger| Started iteration no.: 50000\n",
      " Time from previous iteration: 268.08187294s\n",
      " Time from start: 13435.5444698s\n",
      "2017-04-29 20:04:03,293 - root - INFO - IterationLogger| Started iteration no.: 51000\n",
      " Time from previous iteration: 268.103232145s\n",
      " Time from start: 13703.6477029s\n",
      "2017-04-29 20:08:31,632 - root - INFO - IterationLogger| Started iteration no.: 52000\n",
      " Time from previous iteration: 268.339516878s\n",
      " Time from start: 13971.987221s\n",
      "2017-04-29 20:12:59,917 - root - INFO - IterationLogger| Started iteration no.: 53000\n",
      " Time from previous iteration: 268.284637213s\n",
      " Time from start: 14240.271858s\n",
      "2017-04-29 20:17:28,437 - root - INFO - IterationLogger| Started iteration no.: 54000\n",
      " Time from previous iteration: 268.520547867s\n",
      " Time from start: 14508.792407s\n",
      "2017-04-29 20:21:56,957 - root - INFO - IterationLogger| Started iteration no.: 55000\n",
      " Time from previous iteration: 268.519504786s\n",
      " Time from start: 14777.311913s\n",
      "2017-04-29 20:26:25,667 - root - INFO - IterationLogger| Started iteration no.: 56000\n",
      " Time from previous iteration: 268.710484028s\n",
      " Time from start: 15046.022398s\n",
      "2017-04-29 20:30:53,868 - root - INFO - IterationLogger| Started iteration no.: 57000\n",
      " Time from previous iteration: 268.200467825s\n",
      " Time from start: 15314.2228658s\n",
      "2017-04-29 20:35:21,999 - root - INFO - IterationLogger| Started iteration no.: 58000\n",
      " Time from previous iteration: 268.131701946s\n",
      " Time from start: 15582.354569s\n",
      "2017-04-29 20:39:50,693 - root - INFO - IterationLogger| Started iteration no.: 59000\n",
      " Time from previous iteration: 268.693416834s\n",
      " Time from start: 15851.047986s\n",
      "2017-04-29 20:44:19,372 - root - INFO - IterationLogger| Started iteration no.: 60000\n",
      " Time from previous iteration: 268.679404974s\n",
      " Time from start: 16119.727392s\n",
      "2017-04-29 20:48:47,480 - root - INFO - IterationLogger| Started iteration no.: 61000\n",
      " Time from previous iteration: 268.107323885s\n",
      " Time from start: 16387.834717s\n",
      "2017-04-29 20:53:16,490 - root - INFO - IterationLogger| Started iteration no.: 62000\n",
      " Time from previous iteration: 269.010601997s\n",
      " Time from start: 16656.84532s\n",
      "2017-04-29 20:57:45,228 - root - INFO - IterationLogger| Started iteration no.: 63000\n",
      " Time from previous iteration: 268.738181829s\n",
      " Time from start: 16925.583503s\n",
      "2017-04-29 21:02:13,539 - root - INFO - IterationLogger| Started iteration no.: 64000\n",
      " Time from previous iteration: 268.310619831s\n",
      " Time from start: 17193.894124s\n",
      "2017-04-29 21:06:41,950 - root - INFO - IterationLogger| Started iteration no.: 65000\n",
      " Time from previous iteration: 268.410529852s\n",
      " Time from start: 17462.3046548s\n",
      "2017-04-29 21:11:09,948 - root - INFO - IterationLogger| Started iteration no.: 66000\n",
      " Time from previous iteration: 267.998807192s\n",
      " Time from start: 17730.303463s\n",
      "2017-04-29 21:15:38,153 - root - INFO - IterationLogger| Started iteration no.: 67000\n",
      " Time from previous iteration: 268.204558849s\n",
      " Time from start: 17998.508023s\n",
      "2017-04-29 21:20:06,677 - root - INFO - IterationLogger| Started iteration no.: 68000\n",
      " Time from previous iteration: 268.524238825s\n",
      " Time from start: 18267.032263s\n",
      "2017-04-29 21:24:35,007 - root - INFO - IterationLogger| Started iteration no.: 69000\n",
      " Time from previous iteration: 268.32968998s\n",
      " Time from start: 18535.361954s\n"
     ]
    }
   ],
   "source": [
    "iter_log=IterationLogger(log_by=1000)\n",
    "for i, vec in enumerate(decaf_vecs):\n",
    "    iter_log.next_iter()\n",
    "    for j, pivot_cpl_vec in enumerate(pivot_cand_vecs):\n",
    "        partition,dist=get_ghp_partition(vec, pivot_cpl_vec[0], pivot_cpl_vec[1], p=1)\n",
    "        partitions[i][j]=partition\n",
    "        left_members_cnt[j]+=partition\n",
    "        sum_dist_from_ghp[j]+=dist"
   ]
  },
  {
   "cell_type": "markdown",
   "metadata": {
    "deletable": true,
    "editable": true
   },
   "source": [
    "Checkpoint"
   ]
  },
  {
   "cell_type": "code",
   "execution_count": 22,
   "metadata": {
    "collapsed": false,
    "deletable": true,
    "editable": true
   },
   "outputs": [],
   "source": [
    "#Partitioning balance score\n",
    "balance_scores=np.array([compute_part_balance(float(cnt), float(decaf_vecs.shape[0])) for cnt in left_members_cnt])"
   ]
  },
  {
   "cell_type": "code",
   "execution_count": 23,
   "metadata": {
    "collapsed": false,
    "deletable": true,
    "editable": true
   },
   "outputs": [],
   "source": [
    "'''\n",
    "Partitioning with low balancing score is useless for filtering thus we'll remove such pivot couples right away. \n",
    "'''\n",
    "balance_limit=float(cfg['min_balancing_score'])\n",
    "bal_mask=np.array([i for i, score in enumerate(balance_scores) if score>=balance_limit])\n",
    "balance_scores=balance_scores[bal_mask]\n",
    "pivot_cand_vecs=pivot_cand_vecs[bal_mask]\n",
    "partitions=np.array(partitions).T[bal_mask].T\n",
    "left_members_cnt=np.array(left_members_cnt)[bal_mask]\n",
    "sum_dist_from_ghp=np.array(sum_dist_from_ghp)[bal_mask]"
   ]
  },
  {
   "cell_type": "code",
   "execution_count": 24,
   "metadata": {
    "collapsed": false,
    "deletable": true,
    "editable": true
   },
   "outputs": [],
   "source": [
    "'''\n",
    "Compute distance from dividing hyperplane score.\n",
    "Scale all distances to 0-1, 1 being the largest.\n",
    "HP distance score: (d_i - min(D))/(max(D)-min(D))\n",
    "'''\n",
    "avg_dist_from_hp=np.array([float(num)/decaf_vecs.shape[0] for num in sum_dist_from_ghp])"
   ]
  },
  {
   "cell_type": "code",
   "execution_count": 47,
   "metadata": {
    "collapsed": false,
    "deletable": true,
    "editable": true
   },
   "outputs": [
    {
     "data": {
      "image/png": "[encoded data removed]",
      "text/plain": [
       "<matplotlib.figure.Figure at 0x1601023d0>"
      ]
     },
     "metadata": {},
     "output_type": "display_data"
    }
   ],
   "source": [
    "hist_array(avg_dist_from_hp, bins=100,xlabel='Mean distance of objects from dividing hyperplane', \\\n",
    "           ylabel='count pivot couples',title='Distance of object from HP')"
   ]
  },
  {
   "cell_type": "code",
   "execution_count": 48,
   "metadata": {
    "collapsed": false,
    "deletable": true,
    "editable": true,
    "scrolled": true
   },
   "outputs": [
    {
     "data": {
      "image/png": "[encoded data removed]",
      "text/plain": [
       "<matplotlib.figure.Figure at 0x165682e50>"
      ]
     },
     "metadata": {},
     "output_type": "display_data"
    }
   ],
   "source": [
    "plot_array(sorted(balance_scores,reverse=True),title='Balance score of pivot couples', ylabel='balance score (1.0 - perfect 0.0 - worst)', xlabel='pivot couples sorted by balance score')"
   ]
  },
  {
   "cell_type": "code",
   "execution_count": 49,
   "metadata": {
    "collapsed": false,
    "deletable": true,
    "editable": true
   },
   "outputs": [
    {
     "data": {
      "image/png": "[encoded data removed]",
      "text/plain": [
       "<matplotlib.figure.Figure at 0x157c1eb10>"
      ]
     },
     "metadata": {},
     "output_type": "display_data"
    }
   ],
   "source": [
    "plot_array(sorted(avg_dist_from_hp,reverse=True),title='Hyperplane distance score of pivot couples', ylabel='HP distance score (1.0 - best 0.0 - worst)', xlabel='pivot couples sorted by HP distance score')"
   ]
  },
  {
   "cell_type": "markdown",
   "metadata": {
    "deletable": true,
    "editable": true
   },
   "source": [
    "### Checkpoint"
   ]
  },
  {
   "cell_type": "markdown",
   "metadata": {
    "deletable": true,
    "editable": true
   },
   "source": [
    "Save"
   ]
  },
  {
   "cell_type": "code",
   "execution_count": 52,
   "metadata": {
    "collapsed": true,
    "deletable": true,
    "editable": true
   },
   "outputs": [],
   "source": [
    "if cfg['save_allowed']:\n",
    "    save_to((decaf_vecs, eval_queries_vecs,eval_queries_ids, eval_k, pivot_cand_vecs,eval_result_objs,\\\n",
    "             pivot_cand_ids, partitions, balance_scores, avg_dist_from_hp),\\\n",
    "            cfg['main_folder']+cfg['after_partitiong_checkpoint_file'])"
   ]
  },
  {
   "cell_type": "markdown",
   "metadata": {
    "deletable": true,
    "editable": true
   },
   "source": [
    "Load"
   ]
  },
  {
   "cell_type": "code",
   "execution_count": 6,
   "metadata": {
    "collapsed": false,
    "deletable": true,
    "editable": true
   },
   "outputs": [],
   "source": [
    "decaf_vecs, eval_queries_vecs,\\\n",
    "eval_queries_ids, eval_k, \\\n",
    "pivot_cand_vecs,eval_result_objs,\\\n",
    "pivot_cand_ids, partitions, balance_scores,\\\n",
    "avg_dist_from_hp=load_from(cfg['main_folder']+cfg['after_partitiong_checkpoint_file'])"
   ]
  },
  {
   "cell_type": "code",
   "execution_count": 12,
   "metadata": {
    "collapsed": false,
    "deletable": true,
    "editable": true
   },
   "outputs": [],
   "source": [
    "res=np.argmax(balance_scores, axis=None)"
   ]
  },
  {
   "cell_type": "markdown",
   "metadata": {},
   "source": [
    "### Select balanced bits"
   ]
  },
  {
   "cell_type": "code",
   "execution_count": 406,
   "metadata": {
    "collapsed": false
   },
   "outputs": [],
   "source": [
    "balance_indicies=balance_scores.argsort()[::-1]\n",
    "balance_indicies=balance_indicies[:500]\n",
    "pivot_cand_vecs_bal=pivot_cand_vecs[balance_indicies]\n",
    "pivot_cand_ids_bal=pivot_cand_ids[balance_indicies]\n",
    "balance_scores_bal=balance_scores[balance_indicies]\n",
    "correlations_bal=correlations[balance_indicies]\n",
    "avg_dist_from_hp_bal=avg_dist_from_hp[balance_indicies]\n",
    "partitions_bal=partitions.T[balance_indicies].T"
   ]
  },
  {
   "cell_type": "code",
   "execution_count": 407,
   "metadata": {
    "collapsed": false,
    "scrolled": true
   },
   "outputs": [
    {
     "data": {
      "image/png": "[encoded data removed]",
      "text/plain": [
       "<matplotlib.figure.Figure at 0x1063c8950>"
      ]
     },
     "metadata": {},
     "output_type": "display_data"
    }
   ],
   "source": [
    "plot_array(sorted(balance_scores_bal,reverse=True),title='Balance score of pivot couples', ylabel='balance score (1.0 - perfect 0.0 - worst)', xlabel='pivot couples sorted by balance score')"
   ]
  },
  {
   "cell_type": "markdown",
   "metadata": {},
   "source": [
    "### Difference in mean distance from hyperplane after removing unbalanced bits\n",
    "Removing unbalanced bits doesn't change distance from dividing hyperplane much."
   ]
  },
  {
   "cell_type": "code",
   "execution_count": 408,
   "metadata": {
    "collapsed": false
   },
   "outputs": [
    {
     "data": {
      "text/plain": [
       "2510.5736894431689"
      ]
     },
     "execution_count": 408,
     "metadata": {},
     "output_type": "execute_result"
    }
   ],
   "source": [
    "np.mean(avg_dist_from_hp)"
   ]
  },
  {
   "cell_type": "code",
   "execution_count": 409,
   "metadata": {
    "collapsed": false
   },
   "outputs": [
    {
     "data": {
      "text/plain": [
       "2520.3137170720452"
      ]
     },
     "execution_count": 409,
     "metadata": {},
     "output_type": "execute_result"
    }
   ],
   "source": [
    "np.mean(avg_dist_from_hp_bal)"
   ]
  },
  {
   "cell_type": "markdown",
   "metadata": {},
   "source": [
    "### Removing correlated bits\n",
    "We'll obtain least mutually correlated subset of bits using greedy heuristic. In each iteration we'll remove bit that contributes to mean pairwise correlations the most. "
   ]
  },
  {
   "cell_type": "code",
   "execution_count": 536,
   "metadata": {
    "collapsed": false
   },
   "outputs": [],
   "source": [
    "def compute_corr_mtx(sketch_matrix):\n",
    "    corr_mtx = np.absolute(np.corrcoef(sketch_matrix.T))\n",
    "    np.fill_diagonal(corr_mtx, 0.0)\n",
    "    return corr_mtx\n",
    "\n",
    "def mean_corr(corr_mtx, include=None, exclude=None):\n",
    "    if not include and not exclude:\n",
    "        u=np.triu_indices(n=corr_mtx.shape[0], m=corr_mtx.shape[1], k=1)\n",
    "        return np.mean(corr_mtx[u])\n",
    "    if include:\n",
    "        selection=corr_mtx[include].T[include]\n",
    "        u=np.triu_indices(n=selection.shape[0], m=selection.shape[1], k=1)\n",
    "        return np.mean(selection[u])\n",
    "    if exclude:\n",
    "        mask = np.ones(corr_mtx.shape[0],dtype=bool)\n",
    "        mask[exclude]=0\n",
    "        print(mask.shape)\n",
    "        selection=corr_mtx[mask].T[mask]\n",
    "        u=np.triu_indices(n=selection.shape[0], m=selection.shape[1], k=1)\n",
    "        return np.mean(selection[u])\n",
    "\n",
    "def max_corr(corr_mtx, include=None, exclude=None):\n",
    "    if include is None and exclude is None:\n",
    "        u=np.triu_indices(n=corr_mtx.shape[0], m=corr_mtx.shape[1], k=1)\n",
    "        return np.max(corr_mtx[u])\n",
    "    if include is not None:\n",
    "        selection=corr_mtx[include].T[include]\n",
    "        u=np.triu_indices(n=selection.shape[0], m=selection.shape[1], k=1)\n",
    "        return np.max(selection[u])\n",
    "    if exclude is not None:\n",
    "        mask = np.ones(corr_mtx.shape[0],dtype=bool)\n",
    "        mask[exclude]=0\n",
    "        selection=corr_mtx[mask].T[mask]\n",
    "        u=np.triu_indices(n=selection.shape[0], m=selection.shape[1], k=1)\n",
    "        return np.max(selection[u])"
   ]
  },
  {
   "cell_type": "code",
   "execution_count": 537,
   "metadata": {
    "collapsed": true
   },
   "outputs": [],
   "source": [
    "M=compute_corr_mtx(partitions_bal)"
   ]
  },
  {
   "cell_type": "code",
   "execution_count": 679,
   "metadata": {
    "collapsed": true
   },
   "outputs": [],
   "source": [
    "sketch_lengths=range(2,40,1)"
   ]
  },
  {
   "cell_type": "markdown",
   "metadata": {},
   "source": [
    "#### Algorithm 1\n",
    "Select K random subsets of specified length and choose the one with minimal pairwise correlation."
   ]
  },
  {
   "cell_type": "code",
   "execution_count": 680,
   "metadata": {
    "collapsed": false
   },
   "outputs": [],
   "source": [
    "def select_random_bit_subset(sketch_matrix, desired_length, k):\n",
    "    indices=np.array(range(sketch_matrix.shape[1]))\n",
    "    subsets=np.array([np.random.choice(indices,size=desired_length, replace=False) for _ in range(k)])\n",
    "    best_subset=None\n",
    "    best_corr=1.0\n",
    "    for subset_idx in subsets:\n",
    "        corr=max_corr(M, include=subset_idx)\n",
    "        if corr<=best_corr:\n",
    "            best_corr=corr\n",
    "            best_subset=subset_idx\n",
    "    return best_subset,best_corr"
   ]
  },
  {
   "cell_type": "code",
   "execution_count": 681,
   "metadata": {
    "collapsed": false
   },
   "outputs": [],
   "source": [
    "K=100\n",
    "found_corrs=list()\n",
    "        \n",
    "for sketch_length in sketch_lengths:\n",
    "    _, best_corr=select_random_bit_subset(partitions_bal, sketch_length,k=K)\n",
    "    found_corrs.append(best_corr)"
   ]
  },
  {
   "cell_type": "code",
   "execution_count": 682,
   "metadata": {
    "collapsed": false
   },
   "outputs": [
    {
     "data": {
      "image/png": "[encoded data removed]",
      "text/plain": [
       "<matplotlib.figure.Figure at 0x111c89190>"
      ]
     },
     "metadata": {},
     "output_type": "display_data"
    }
   ],
   "source": [
    "plot_array(found_corrs,title='Max pair-wise correlation of randomly selected subsets of bits', ylabel='Max pair-wise Pearson Correlation', xlabel='Sketch size')"
   ]
  },
  {
   "cell_type": "markdown",
   "metadata": {},
   "source": [
    "#### Algorithm 2\n",
    "Select bits with minimal sum of values in correlation matrix M. Seems to work well for small sketch sizes (8-16)"
   ]
  },
  {
   "cell_type": "code",
   "execution_count": 683,
   "metadata": {
    "collapsed": false
   },
   "outputs": [],
   "source": [
    "found_corrs=list()"
   ]
  },
  {
   "cell_type": "code",
   "execution_count": 684,
   "metadata": {
    "collapsed": false
   },
   "outputs": [],
   "source": [
    "for length in sketch_lengths:\n",
    "    indices=np.sum(M,axis=1).argsort()[:length]\n",
    "    found_corrs.append(max_corr(M, include=indices))\n",
    "    "
   ]
  },
  {
   "cell_type": "code",
   "execution_count": 685,
   "metadata": {
    "collapsed": false
   },
   "outputs": [],
   "source": [
    "def plot_array(arr, title=None, xlabel=None, ylabel=None,xticks=None):\n",
    "    pd.Series(arr).plot(grid=True)\n",
    "    plt.suptitle(title)\n",
    "    plt.xlabel(xlabel)\n",
    "    plt.ylabel(ylabel)\n",
    "    if xticks:\n",
    "        plt.xticks(range(len(xticks)),xticks)\n",
    "    plt.show()"
   ]
  },
  {
   "cell_type": "code",
   "execution_count": 686,
   "metadata": {
    "collapsed": false
   },
   "outputs": [
    {
     "data": {
      "image/png": "[encoded data removed]",
      "text/plain": [
       "<matplotlib.figure.Figure at 0x112d68d10>"
      ]
     },
     "metadata": {},
     "output_type": "display_data"
    }
   ],
   "source": [
    "plot_array(found_corrs, title='Max pair-wise correlation of randomly selected subsets of bits', ylabel='Max pair-wise Pearson Correlation', xlabel='Sketch size')"
   ]
  },
  {
   "cell_type": "markdown",
   "metadata": {},
   "source": [
    "#### Algorithm 3\n",
    "Start with initial selected least correlated column and add one in each iteration, which will result to minimal increase in sum of correlations"
   ]
  },
  {
   "cell_type": "code",
   "execution_count": 701,
   "metadata": {
    "collapsed": false
   },
   "outputs": [],
   "source": [
    "def select_uncorrelated_bits(corr_mtx,desired_length):\n",
    "    least_correlated=np.argmin(np.sum(corr_mtx, axis=1))\n",
    "    indices=set()\n",
    "    indices.add(least_correlated)\n",
    "    corr=None\n",
    "    while(len(indices)<desired_length):\n",
    "        best_i=None\n",
    "        best_max_corr=100\n",
    "        for i in range(corr_mtx.shape[0]):                    \n",
    "            if i not in indices:\n",
    "                corr=max_corr(corr_mtx, include=list(indices)+[i])\n",
    "                if corr<best_max_corr:\n",
    "                    best_i=i\n",
    "                    best_max_corr=corr\n",
    "        indices.add(best_i)\n",
    "        corr=best_max_corr\n",
    "    return indices, corr\n"
   ]
  },
  {
   "cell_type": "code",
   "execution_count": 702,
   "metadata": {
    "collapsed": false
   },
   "outputs": [],
   "source": [
    "found_corrs=list()\n",
    "for sketch_len in sketch_lengths:\n",
    "    _,corr=select_uncorrelated_bits(M, sketch_len)\n",
    "    found_corrs.append(corr)"
   ]
  },
  {
   "cell_type": "code",
   "execution_count": 703,
   "metadata": {
    "collapsed": false
   },
   "outputs": [
    {
     "data": {
      "image/png": "[encoded data removed]",
      "text/plain": [
       "<matplotlib.figure.Figure at 0x113fa6190>"
      ]
     },
     "metadata": {},
     "output_type": "display_data"
    }
   ],
   "source": [
    "plot_array(found_corrs, title='Max pair-wise correlation', ylabel='Max pair-wise Pearson Correlation', xlabel='Sketch size')"
   ]
  },
  {
   "cell_type": "code",
   "execution_count": null,
   "metadata": {
    "collapsed": true
   },
   "outputs": [],
   "source": []
  }
 ],
 "metadata": {
  "kernelspec": {
   "display_name": "Python 2",
   "language": "python",
   "name": "python2"
  },
  "language_info": {
   "codemirror_mode": {
    "name": "ipython",
    "version": 2
   },
   "file_extension": ".py",
   "mimetype": "text/x-python",
   "name": "python",
   "nbconvert_exporter": "python",
   "pygments_lexer": "ipython2",
   "version": "2.7.10"
  }
 },
 "nbformat": 4,
 "nbformat_minor": 2
}
