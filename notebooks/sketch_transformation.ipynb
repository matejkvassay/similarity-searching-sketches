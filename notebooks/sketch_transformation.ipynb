{
 "cells": [
  {
   "cell_type": "markdown",
   "metadata": {},
   "source": [
    "## FILE PATHS CFG"
   ]
  },
  {
   "cell_type": "code",
   "execution_count": 17,
   "metadata": {
    "collapsed": false
   },
   "outputs": [],
   "source": [
    "# PIVOT_FILE='/home/kvassay/data/sketch-testing/pivots-random-2560.data'\n",
    "# DATASET_FILE='/home/kvassay/data/sketch-testing/profi-neuralnet-100K.data'\n",
    "# PARTITIONER_SAVE_PATH='/home/kvassay/data/sketch-testing/models/multihyperplanepartitioner_100k_dataset_1280_pivot_couples.model'\n",
    "# SKETCH_PRODUCER_SAVE_PATH='/home/kvassay/data/sketch-testing/models/sketch_producer_16bit_100k_dataset.model'\n",
    "# PARTITIONER_LOAD_PATH='/home/kvassay/data/sketch-testing/models/multihyperplanepartitioner_100k_dataset_1280_pivot_couples.model'\n",
    "\n",
    "PATH_PREFIX='/Users/matejkvassay/data/sketch-testing/'\n",
    "\n",
    "PIVOT_FILE=PATH_PREFIX+'pivots-random-2560.data'\n",
    "DATASET_FILE=PATH_PREFIX+'profi-neuralnet-100K.data'\n",
    "#DATASET_LARGE_FILE=PATH_PREFIX+'profi-neuralnet-1M.data'\n",
    "DATASET_LARGE_FILE=PATH_PREFIX+'profi-neuralnet-100K.data' # FOR TESTING PURPOSES\n",
    "PARTITIONER_SAVE_PATH=PATH_PREFIX+'models/multihyperplanepartitioner_100k_dataset_1280_pivot_couples.model'\n",
    "SKETCH_PRODUCER_SAVE_PATH=PATH_PREFIX+'models/sketch_producer_32bit_100k_dataset.model'\n",
    "#SKETCH_DB_SAVE_PATH=PATH_PREFIX+'sketch_db_1M.dump'\n",
    "SKETCH_DB_SAVE_PATH=PATH_PREFIX+'sketch_db_32bit_100K.dump' #FOR TESTING PURPOSES\n",
    "\n",
    "\n"
   ]
  },
  {
   "cell_type": "code",
   "execution_count": 3,
   "metadata": {
    "collapsed": false
   },
   "outputs": [
    {
     "name": "stderr",
     "output_type": "stream",
     "text": [
      "2016-11-26 17:20:44,678 - root - INFO - Logger works.\n"
     ]
    }
   ],
   "source": [
    "import logging\n",
    "logger = logging.getLogger()\n",
    "logger.setLevel('INFO')\n",
    "ch = logging.StreamHandler()\n",
    "ch.setLevel(logging.INFO)\n",
    "formatter = logging.Formatter('%(asctime)s - %(name)s - %(levelname)s - %(message)s')\n",
    "ch.setFormatter(formatter)\n",
    "# add the handlers to the logger\n",
    "logger.addHandler(ch)\n",
    "logger.info('Logger works.') #to prevent duplicate logs"
   ]
  },
  {
   "cell_type": "code",
   "execution_count": 4,
   "metadata": {
    "collapsed": false
   },
   "outputs": [],
   "source": [
    "%matplotlib inline\n",
    "\n",
    "import matplotlib.pyplot as plt\n",
    "import matplotlib.patches as mpatches\n",
    "import numpy as np\n",
    "from scipy.spatial.distance import euclidean, hamming\n",
    "import time\n",
    "import cPickle"
   ]
  },
  {
   "cell_type": "code",
   "execution_count": 5,
   "metadata": {
    "collapsed": false
   },
   "outputs": [],
   "source": [
    "def get_cfg(cfg_path_or_dict):\n",
    "    if type(cfg_path_or_dict) == dict:\n",
    "        return cfg_path_or_dict\n",
    "    if not os.path.isfile(cfg_path_or_dict):\n",
    "        raise ValueError('Config must be path to valid .yml file or dict.')\n",
    "    with open(cfg_path_or_dict, 'rb') as f:\n",
    "        cfg = yaml.load(f)\n",
    "    return cfg\n",
    "\n",
    "def log_pfx(obj, msg, *args):\n",
    "    logger.info(obj.__class__.__name__+'| '+msg, *args)\n",
    "    \n",
    "def save_to(obj, file_path):\n",
    "    with open(file_path, 'wb') as f:\n",
    "        cPickle.dump(obj,f)\n",
    "\n",
    "def load_from(file_path):\n",
    "    with open(file_path, 'rb') as f:\n",
    "        return cPickle.load(f) "
   ]
  },
  {
   "cell_type": "markdown",
   "metadata": {},
   "source": [
    "## CLASS IMPLEMENTATIONS"
   ]
  },
  {
   "cell_type": "code",
   "execution_count": 6,
   "metadata": {
    "collapsed": true
   },
   "outputs": [],
   "source": [
    "class CaffeVectorsIterator(object):\n",
    "    def __init__(self, file_path):\n",
    "        log_pfx(self,'Reading Caffe Vector file %s...',file_path)\n",
    "        self.f = open(file_path, 'rb')\n",
    "\n",
    "    def next(self):\n",
    "        try:\n",
    "            # (id: int, vector: np array of float32)\n",
    "            lineA = self.f.next()\n",
    "            lineB = self.f.next()\n",
    "            return (int(lineA.split(' ')[2]),  np.fromstring(lineB, dtype='f', sep=' '))\n",
    "        except StopIteration:\n",
    "            self.f.close()\n",
    "            raise StopIteration\n",
    "\n",
    "    def __del__(self):\n",
    "        if self.f:\n",
    "            self.f.close()\n",
    "\n",
    "\n",
    "class CaffeVectorsIterable(object):\n",
    "    def __init__(self, file_path):\n",
    "        self.file_path = file_path\n",
    "\n",
    "    def __iter__(self):\n",
    "        return CaffeVectorsIterator(self.file_path)"
   ]
  },
  {
   "cell_type": "code",
   "execution_count": 7,
   "metadata": {
    "collapsed": false
   },
   "outputs": [],
   "source": [
    "class MultiHyperplanePartitioner(object):\n",
    "\n",
    "    def __init__(self, cfg):\n",
    "        if cfg:\n",
    "            cfg = get_cfg(cfg)\n",
    "            all_pivots=self.read_pivots(cfg)\n",
    "            self.pivots, self.balance_score=self.select_top_k_pivots(all_pivots, int(cfg['base_sketch_length']))\n",
    "            self.pivots=list(self.pivots)\n",
    "            self.balance_score=list(self.balance_score)\n",
    "            \n",
    "    def save_self(self, file_path):\n",
    "        MultiHyperplanePartitioner.save(self, file_path)\n",
    "    \n",
    "    @staticmethod\n",
    "    def save(partitioner, file_path):\n",
    "        log_pfx(None,'Persisting MultiHyperplanePartitioner to %s...',file_path)\n",
    "        to_save=partitioner.pivots, partitioner.balance_score\n",
    "        save_to(to_save, file_path)\n",
    "        log_pfx(None,'Done...')\n",
    "    \n",
    "    \n",
    "    @staticmethod\n",
    "    def load(file_path, limit_pivots=None):\n",
    "        if limit_pivots is not None:\n",
    "            log_pfx(None,'Loading persisted MultiHyperplanePartitioner from %s, limiting pivots count to %s...', file_path, limit_pivots )\n",
    "        else:\n",
    "            log_pfx(None,'Loading persisted MultiHyperplanePartitioner from %s...',file_path)\n",
    "\n",
    "        instance=MultiHyperplanePartitioner(None)\n",
    "        tupl=load_from(file_path)\n",
    "        if limit_pivots is None:\n",
    "            instance.pivots=tupl[0]\n",
    "            instance.balance_score=tupl[1]\n",
    "        else:\n",
    "            instance.pivots=tupl[0][:limit_pivots]\n",
    "            instance.balance_score=tupl[1][:limit_pivots]\n",
    "        instance.pivots=list(instance.pivots)\n",
    "        instance.balance_score=list(instance.balance_score)\n",
    "        return instance\n",
    "\n",
    "    def select_top_k_pivots(self, all_pivots,k):\n",
    "        log_pfx(self,'Selecting top %s pivots...',k)\n",
    "        counters=[0]*len(all_pivots)\n",
    "        n_obj=0\n",
    "        t_start=time.time()\n",
    "        for obj in CaffeVectorsIterable(cfg['dataset_path']):\n",
    "            n_obj+=1\n",
    "            if n_obj%10000==0:\n",
    "                t_dur=time.time()-t_start\n",
    "                t_start=time.time()\n",
    "                log_pfx(self,'Adding counts for partitioning balance counter for dataset obj no. %s. Processing last 10000 objects took %ss...',n_obj,t_dur)\n",
    "            for i, pivot_couple in enumerate(all_pivots):\n",
    "                if self.get_partition(pivot_couple, obj)==1:\n",
    "                    counters[i]+=1\n",
    "\n",
    "        log_pfx(self,'Computing balance ratios and selecting top %s pivots...', k)\n",
    "        balance_ratios=[abs(0.5-(float(count_1)/n_obj)) for i, count_1 in enumerate(counters)]\n",
    "        sorted_pivots_with_ratings=sorted(zip(all_pivots, balance_ratios), key=lambda x: x[1])\n",
    "        top_pivots, top_balance_score=zip(*[(tupl[0], tupl[1]) for tupl in sorted_pivots_with_ratings[:k]])\n",
    "        return top_pivots, top_balance_score     \n",
    "\n",
    "    def read_pivots(self, cfg):\n",
    "        log_pfx(self,'Reading pivot file...')\n",
    "        pivots = list()\n",
    "        iterator = CaffeVectorsIterable(cfg['pivots_file_path']).__iter__()\n",
    "        while True:\n",
    "            try:\n",
    "                pivot_A = iterator.next()\n",
    "                pivot_B = iterator.next()\n",
    "                pivots.append((pivot_A, pivot_B))\n",
    "            except StopIteration:\n",
    "                break\n",
    "        return pivots\n",
    "\n",
    "    def remove_pivot_couple(self, idx):\n",
    "        self.pivots.pop(idx)\n",
    "        self.balance_score.pop(idx)\n",
    "\n",
    "    def get_partition(self, pivot_couple, obj):\n",
    "        distance_A = euclidean(obj[1], pivot_couple[0][1]) # pairwise returns matrix\n",
    "        distance_B = euclidean(obj[1], pivot_couple[1][1])\n",
    "        if distance_A > distance_B:\n",
    "            return 0\n",
    "        else:\n",
    "            return 1\n",
    "\n",
    "    def get_partitions(self, obj):\n",
    "        return np.array([self.get_partition(pivot_couple, obj) for pivot_couple in self.pivots])"
   ]
  },
  {
   "cell_type": "code",
   "execution_count": 8,
   "metadata": {
    "collapsed": false
   },
   "outputs": [],
   "source": [
    "class SketchProducer(object):\n",
    "    def __init__(self, cfg, partitioner=None):\n",
    "        if cfg:\n",
    "            self.cfg=get_cfg(cfg)\n",
    "            if partitioner is None:\n",
    "                self.partitioner=MultiHyperplanePartitioner(cfg)\n",
    "            else:\n",
    "                self.partitioner=partitioner\n",
    "            log_pfx(self,'Transforming dataset to Sketch matrix...')\n",
    "            sketch_matrix=self.generate_sketch_matrix(cfg['dataset_path'])\n",
    "            log_pfx(self,'Sketch Matrix constructed with shape %s...',sketch_matrix.shape)\n",
    "            log_pfx(self,'Optimizing sketch length to %s...', int(cfg['desired_sketch_length']))\n",
    "            #TO DO: move this logs to StatsCounter\n",
    "            self.optimization_corrs=self.optimize_bit_length(sketch_matrix, int(cfg['desired_sketch_length']))\n",
    "\n",
    "    @staticmethod\n",
    "    def save(sketch_producer, file_path):\n",
    "        log_pfx(None,'Persisting SketchProducer to %s....',file_path)\n",
    "        to_save=sketch_producer.partitioner, sketch_producer.optimization_corrs\n",
    "        save_to(to_save, file_path)\n",
    "        log_pfx(None,'Done...')\n",
    "        \n",
    "    @staticmethod\n",
    "    def load(file_path):\n",
    "        log_pfx(None,'Loading persisted SketchProducer from %s...',file_path)\n",
    "        instance=SketchProducer(None)\n",
    "        tupl=load_from(file_path)\n",
    "        instance.partitioner=tupl[0]\n",
    "        instance.optimization_corrs=tupl[1]\n",
    "        return instance\n",
    "        \n",
    "    def transform_object(self, obj):\n",
    "        return obj[0], self.partitioner.get_partitions(obj)\n",
    "        \n",
    "    \n",
    "    def transform_dataset(self, file_path, save_sketches_to=None):\n",
    "        start=time.time()\n",
    "        log_pfx(self, 'Tranforming data set from %s to sketches...', file_path)\n",
    "        sketch_db=[self.transform_object(obj) for obj in CaffeVectorsIterable(file_path)]\n",
    "        dur=time.time()-start\n",
    "        log_pfx(self, 'Transformation successful. Duration: %ss...', dur)\n",
    "        if save_sketches_to is not None:\n",
    "            log_pfx(self,'Persisting transformed dataset to %s...', save_sketches_to)\n",
    "            save_to(sketch_db, save_sketches_to)\n",
    "        return sketch_db\n",
    "        \n",
    "    def generate_sketch_matrix(self,path):\n",
    "        return np.matrix([self.partitioner.get_partitions(data_record) for data_record in CaffeVectorsIterable(path)])\n",
    "            \n",
    "    def remove_one_bit(self, sketch_matrix): #removes single bit that will result in best improvement of mean correlation \n",
    "        best_corr=1000\n",
    "        best_idx=-1\n",
    "        for i in xrange(sketch_matrix.shape[1]):\n",
    "            matrix_without_col=np.delete(sketch_matrix, i, axis=1)\n",
    "            mean_corr=SketchProducer.mean_couple_correlation(matrix_without_col)\n",
    "            if mean_corr<best_corr:\n",
    "                best_corr=mean_corr\n",
    "                best_idx=i\n",
    "        sketch_matrix=np.delete(sketch_matrix, best_idx, axis=1)\n",
    "        self.partitioner.remove_pivot_couple(best_idx)\n",
    "        return sketch_matrix, best_corr\n",
    "        \n",
    "    def optimize_bit_length(self, sketch_matrix, desired_sketch_len):\n",
    "        log_pfx(self, 'Initiating bit removal...')\n",
    "        corr_vals=list()\n",
    "        corr_vals.append(SketchProducer.mean_couple_correlation(sketch_matrix))\n",
    "        bits_removed=0\n",
    "        t_start=time.time()\n",
    "        while sketch_matrix.shape[1]>desired_sketch_len:\n",
    "            if bits_removed>0 and bits_removed%5==0:\n",
    "                t_dur=time.time()-t_start\n",
    "                t_start=time.time()\n",
    "                log_pfx(self, 'Removed %s bits. Removing last 5 bits took %ss, new correlation is %s...', bits_removed, t_dur, new_corr)\n",
    "            sketch_matrix, new_corr=self.remove_one_bit(sketch_matrix)\n",
    "            corr_vals.append(new_corr)\n",
    "            bits_removed+=1\n",
    "        log_pfx(self, 'Bits removal completed, sketch matrix now has %s columns...', sketch_matrix.shape[1])\n",
    "        return corr_vals\n",
    "\n",
    "    @staticmethod\n",
    "    def mean_couple_correlation(sketch_matrix):\n",
    "        corr_mtx = np.corrcoef(sketch_matrix.T) #matrix of correlations of columns of sketch matrix\n",
    "        corr_vals=corr_mtx[np.triu_indices(n=corr_mtx.shape[0], m=corr_mtx.shape[1], k=1)] #list of upper triangle of corr matrix (without diagonal)\n",
    "        return np.mean(np.absolute(corr_vals)) #mean of absolute value of Pearson correlation coefficients \n",
    "    \n",
    "        "
   ]
  },
  {
   "cell_type": "code",
   "execution_count": 9,
   "metadata": {
    "collapsed": false
   },
   "outputs": [],
   "source": [
    "class MultiHashIndex(object):\n",
    "    \n",
    "    def __init__(self, database, sketch_producer, n_substr, stats_counter=None):\n",
    "        #TO DO: if p/m is not possible, reduce bit count\n",
    "        log_pfx(self, 'Initializing MHI...')\n",
    "        self.m=n_substr\n",
    "        self.sketches=dict()\n",
    "        self.index=[dict()]*self.m\n",
    "        self.insert(database, stats_counter=stats_counter)\n",
    "        self.sketch_producer=sketch_producer\n",
    "        \n",
    "    def knn_query(self, obj, k, limit_r, stats_counter=None): #tries different range queries up to range 'limit_r'\n",
    "        #note that this knn might return more than k objects and result must be further filtered from FP objects on upper level\n",
    "        if limit_r >= self.m:\n",
    "            raise ValueError('Maximum range (limit_r) must be lesser than number of substrings (m).')\n",
    "        candidates=set()\n",
    "        for r in range(1, limit+1, 1):\n",
    "            candidates=candidates.union(range_query(obj, r))\n",
    "            if len(candidates)>=k:\n",
    "                if stats_counter is not None:\n",
    "                    stats_counter.add('knn_last_r', r)\n",
    "                    stats_counter.add('knn_cand_count', len(candidates))\n",
    "                return candidates\n",
    "        if stats_counter is not None:\n",
    "            stats_counter.add('knn_last_r', limit_r)\n",
    "            stats_counter.add('knn_cand_count', len(candidates))\n",
    "        return candidates\n",
    "    \n",
    "    def range_query(self, obj, r, stats_counter=None): \n",
    "        sketch = obj[1]\n",
    "        if r >= self.m:\n",
    "            raise ValueError('Range (r) must be lesser than number of substrings (m).')\n",
    "        #first all r-q candidates are received\n",
    "        rq_candidate_ids=self.get_range_query_candidate_ids(self, sketch, r)\n",
    "        if stats_counter is not None:\n",
    "            stats_counter.add('range', r)\n",
    "            stats_counter.add('rq_candidate_size', len(rq_candidate_ids))\n",
    "        #then FP candidates are filtered\n",
    "        result = set([cand_obj_id for cand_obj_id in rq_candidate_ids if hamming(sketch, self.sketches[cand_obj_id]) <= r])\n",
    "        stats_counter.add('range_result_size', len(result))\n",
    "        return result\n",
    "    \n",
    "    def get_range_query_candidate_ids(self, sketch, r):\n",
    "        candidates=set()\n",
    "        for idx, split in enumerate(np.split(sketch, self.m)):\n",
    "            candidates=candidates.union(self.get_bucket_obj_ids(idx, split))\n",
    "        return candidates\n",
    "        \n",
    "    def get_bucket_obj_ids(self, idx, sketch_substr):\n",
    "        key=self.get_key()\n",
    "        if key in self.index[idx]:\n",
    "            return self.index[idx][key]\n",
    "        else:\n",
    "            return set()\n",
    "    \n",
    "    def index_obj(self, idx, obj_id, sketch_substr):\n",
    "        key=self.get_key(sketch_substr)\n",
    "        if key in self.index[idx]:\n",
    "            self.index[idx][key].add(obj_id)\n",
    "        else:\n",
    "            new_set=set()\n",
    "            new_set.add(obj_id)\n",
    "            self.index[idx][key]=new_set\n",
    "        \n",
    "    def insert(self, objects, stats_counter=None):\n",
    "        log_pfx(self, 'Inserting sketch objects to MHI.')\n",
    "        cnt_done=0\n",
    "        start=time.time()\n",
    "        for obj_id, sketch in db:\n",
    "            self.sketches[obj_id]=sketch\n",
    "            [self.index_obj(idx, obj_id, substr) for idx, substr in enumerate(np.split(sketch, self.m))]\n",
    "            cnt_done+=1\n",
    "            if cnt_done%10000==0:\n",
    "                dur=time.time()-start\n",
    "                log_pfx(self, 'Inserted 10000 objects to MHI. Inserting took %ss...', dur)\n",
    "        log_pfx(self,'Data successfully inserted...')  \n",
    "            \n",
    "    \n",
    "    def get_key(self,sketch_substr):\n",
    "        return str(sketch_substr)\n",
    "        "
   ]
  },
  {
   "cell_type": "code",
   "execution_count": 10,
   "metadata": {
    "collapsed": true
   },
   "outputs": [],
   "source": [
    "class ListStatsCounter():\n",
    "    def __init__(self):\n",
    "        self.stats=dict()\n",
    "    \n",
    "    def add(key, val):\n",
    "        if key in self.stats:\n",
    "            self.stats[key].append(val)\n",
    "        else:\n",
    "            self.stats[key]=[val]\n",
    "        "
   ]
  },
  {
   "cell_type": "markdown",
   "metadata": {
    "collapsed": true
   },
   "source": [
    "## SKETCH CREATION EXPERIMENTS"
   ]
  },
  {
   "cell_type": "markdown",
   "metadata": {
    "collapsed": true
   },
   "source": [
    "### Hyperplane partitioning"
   ]
  },
  {
   "cell_type": "code",
   "execution_count": 16,
   "metadata": {
    "collapsed": false
   },
   "outputs": [
    {
     "name": "stderr",
     "output_type": "stream",
     "text": [
      "2016-11-26 09:07:25,589 - root - INFO - MultiHyperplanePartitioner| Reading pivot file...\n",
      "2016-11-26 09:07:25,589 - root - INFO - MultiHyperplanePartitioner| Reading pivot file...\n",
      "2016-11-26 09:07:25,590 - root - INFO - CaffeVectorsIterator| Reading Caffe Vector file /Users/matejkvassay/data/sketch-testing/pivots-random-2560.data...\n",
      "2016-11-26 09:07:25,590 - root - INFO - CaffeVectorsIterator| Reading Caffe Vector file /Users/matejkvassay/data/sketch-testing/pivots-random-2560.data...\n",
      "2016-11-26 09:07:29,229 - root - INFO - MultiHyperplanePartitioner| Selecting top 1280 pivots...\n",
      "2016-11-26 09:07:29,229 - root - INFO - MultiHyperplanePartitioner| Selecting top 1280 pivots...\n",
      "2016-11-26 09:07:29,233 - root - INFO - CaffeVectorsIterator| Reading Caffe Vector file /Users/matejkvassay/data/sketch-testing/profi-neuralnet-100K.data...\n",
      "2016-11-26 09:07:29,233 - root - INFO - CaffeVectorsIterator| Reading Caffe Vector file /Users/matejkvassay/data/sketch-testing/profi-neuralnet-100K.data...\n",
      "2016-11-26 09:28:48,977 - root - INFO - MultiHyperplanePartitioner| Adding counts for partitioning balance counter for dataset obj no. 10000. Processing last 10000 objects took 1279.74446392s...\n",
      "2016-11-26 09:28:48,977 - root - INFO - MultiHyperplanePartitioner| Adding counts for partitioning balance counter for dataset obj no. 10000. Processing last 10000 objects took 1279.74446392s...\n",
      "2016-11-26 09:43:25,216 - root - INFO - MultiHyperplanePartitioner| Adding counts for partitioning balance counter for dataset obj no. 20000. Processing last 10000 objects took 876.238296986s...\n",
      "2016-11-26 09:43:25,216 - root - INFO - MultiHyperplanePartitioner| Adding counts for partitioning balance counter for dataset obj no. 20000. Processing last 10000 objects took 876.238296986s...\n",
      "2016-11-26 10:02:04,182 - root - INFO - MultiHyperplanePartitioner| Adding counts for partitioning balance counter for dataset obj no. 30000. Processing last 10000 objects took 1118.96656418s...\n",
      "2016-11-26 10:02:04,182 - root - INFO - MultiHyperplanePartitioner| Adding counts for partitioning balance counter for dataset obj no. 30000. Processing last 10000 objects took 1118.96656418s...\n",
      "2016-11-26 10:17:12,029 - root - INFO - MultiHyperplanePartitioner| Adding counts for partitioning balance counter for dataset obj no. 40000. Processing last 10000 objects took 907.847413063s...\n",
      "2016-11-26 10:17:12,029 - root - INFO - MultiHyperplanePartitioner| Adding counts for partitioning balance counter for dataset obj no. 40000. Processing last 10000 objects took 907.847413063s...\n",
      "2016-11-26 10:31:56,335 - root - INFO - MultiHyperplanePartitioner| Adding counts for partitioning balance counter for dataset obj no. 50000. Processing last 10000 objects took 884.305611849s...\n",
      "2016-11-26 10:31:56,335 - root - INFO - MultiHyperplanePartitioner| Adding counts for partitioning balance counter for dataset obj no. 50000. Processing last 10000 objects took 884.305611849s...\n",
      "2016-11-26 10:46:47,855 - root - INFO - MultiHyperplanePartitioner| Adding counts for partitioning balance counter for dataset obj no. 60000. Processing last 10000 objects took 891.519328117s...\n",
      "2016-11-26 10:46:47,855 - root - INFO - MultiHyperplanePartitioner| Adding counts for partitioning balance counter for dataset obj no. 60000. Processing last 10000 objects took 891.519328117s...\n",
      "2016-11-26 11:02:06,953 - root - INFO - MultiHyperplanePartitioner| Adding counts for partitioning balance counter for dataset obj no. 70000. Processing last 10000 objects took 919.09812212s...\n",
      "2016-11-26 11:02:06,953 - root - INFO - MultiHyperplanePartitioner| Adding counts for partitioning balance counter for dataset obj no. 70000. Processing last 10000 objects took 919.09812212s...\n",
      "2016-11-26 11:17:15,714 - root - INFO - MultiHyperplanePartitioner| Adding counts for partitioning balance counter for dataset obj no. 80000. Processing last 10000 objects took 908.761919975s...\n",
      "2016-11-26 11:17:15,714 - root - INFO - MultiHyperplanePartitioner| Adding counts for partitioning balance counter for dataset obj no. 80000. Processing last 10000 objects took 908.761919975s...\n",
      "2016-11-26 11:36:17,188 - root - INFO - MultiHyperplanePartitioner| Adding counts for partitioning balance counter for dataset obj no. 90000. Processing last 10000 objects took 1141.47310805s...\n",
      "2016-11-26 11:36:17,188 - root - INFO - MultiHyperplanePartitioner| Adding counts for partitioning balance counter for dataset obj no. 90000. Processing last 10000 objects took 1141.47310805s...\n",
      "2016-11-26 11:51:49,373 - root - INFO - MultiHyperplanePartitioner| Adding counts for partitioning balance counter for dataset obj no. 100000. Processing last 10000 objects took 932.185360909s...\n",
      "2016-11-26 11:51:49,373 - root - INFO - MultiHyperplanePartitioner| Adding counts for partitioning balance counter for dataset obj no. 100000. Processing last 10000 objects took 932.185360909s...\n",
      "2016-11-26 11:51:49,467 - root - INFO - MultiHyperplanePartitioner| Computing balance ratios and selecting top 1280 pivots...\n",
      "2016-11-26 11:51:49,467 - root - INFO - MultiHyperplanePartitioner| Computing balance ratios and selecting top 1280 pivots...\n",
      "2016-11-26 11:51:49,472 - root - INFO - NoneType| Balanced pivot selection duration: 9863.88280797\n",
      "2016-11-26 11:51:49,472 - root - INFO - NoneType| Balanced pivot selection duration: 9863.88280797\n"
     ]
    }
   ],
   "source": [
    "cfg={\n",
    "    'pivots_file_path':PIVOT_FILE,\n",
    "    'base_sketch_length':1280,\n",
    "    'dataset_path':DATASET_FILE\n",
    "}\n",
    "t_start=time.time()\n",
    "partitioner=MultiHyperplanePartitioner(cfg)\n",
    "dur_s=time.time()-t_start\n",
    "log_pfx(None,'Balanced pivot selection duration: %s', dur_s)"
   ]
  },
  {
   "cell_type": "markdown",
   "metadata": {},
   "source": [
    "Peristing partitioner..."
   ]
  },
  {
   "cell_type": "code",
   "execution_count": 17,
   "metadata": {
    "collapsed": false
   },
   "outputs": [
    {
     "name": "stderr",
     "output_type": "stream",
     "text": [
      "2016-11-26 11:51:49,483 - root - INFO - NoneType| Persisting MultiHyperplanePartitioner to /Users/matejkvassay/data/sketch-testing/models/multihyperplanepartitioner_100k_dataset_1280_pivot_couples.model...\n",
      "2016-11-26 11:51:49,483 - root - INFO - NoneType| Persisting MultiHyperplanePartitioner to /Users/matejkvassay/data/sketch-testing/models/multihyperplanepartitioner_100k_dataset_1280_pivot_couples.model...\n",
      "2016-11-26 11:51:53,679 - root - INFO - NoneType| Done...\n",
      "2016-11-26 11:51:53,679 - root - INFO - NoneType| Done...\n"
     ]
    }
   ],
   "source": [
    "MultiHyperplanePartitioner.save(partitioner, PARTITIONER_SAVE_PATH)"
   ]
  },
  {
   "cell_type": "markdown",
   "metadata": {},
   "source": [
    "#### How balanced is Hyperplane partitioning with pivot couples (ordered by balance deviation)\n",
    "We randomly selected over 1200 random pivot couples and ordered them according to how balanced is the data set if we partition it with Hyperplane partitioning using these couples. Balance deviation is from 0 to 0.5, 0 being perfectly balanced, 0.5 resulting in only one partition containing all dataset objects. Deviation 0.1 means, that 40% of data set is in one partition and 60% in the other. We consider this acceptable state => it's ok to use first 128 pivots."
   ]
  },
  {
   "cell_type": "code",
   "execution_count": 18,
   "metadata": {
    "collapsed": false
   },
   "outputs": [
    {
     "data": {
      "image/png": "[encoded data removed]",
      "text/plain": [
       "<matplotlib.figure.Figure at 0x10be5dcd0>"
      ]
     },
     "metadata": {},
     "output_type": "display_data"
    }
   ],
   "source": [
    "plt.figure(figsize=(13,3))\n",
    "line=plt.plot(partitioner.balance_score, color='blue')\n",
    "legend = mpatches.Patch(color='blue', label='Pivot couple parititoning balance deviation (optimal = 0)')\n",
    "plt.legend(handles=[legend],bbox_to_anchor=(1, 1.2))\n",
    "plt.xlabel('Pivot no.')\n",
    "plt.ylabel('Balance deviation ')\n",
    "\n",
    "plt.xticks(range(0, len(partitioner.balance_score)+1,64))\n",
    "plt.show()"
   ]
  },
  {
   "cell_type": "markdown",
   "metadata": {},
   "source": [
    "### Sketch matrix generation"
   ]
  },
  {
   "cell_type": "code",
   "execution_count": 11,
   "metadata": {
    "collapsed": false,
    "scrolled": true
   },
   "outputs": [
    {
     "name": "stderr",
     "output_type": "stream",
     "text": [
      "2016-11-26 17:20:56,918 - root - INFO - NoneType| Loading persisted MultiHyperplanePartitioner from /Users/matejkvassay/data/sketch-testing/models/multihyperplanepartitioner_100k_dataset_1280_pivot_couples.model, limiting pivots count to 128...\n"
     ]
    }
   ],
   "source": [
    "cfg={\n",
    "    'pivots_file_path':PIVOT_FILE,\n",
    "    'base_sketch_length':128,\n",
    "    'dataset_path':DATASET_FILE,\n",
    "    'desired_sketch_length': 32\n",
    "}\n",
    "\n",
    "loaded_partitioner=MultiHyperplanePartitioner.load(PARTITIONER_SAVE_PATH, limit_pivots=128)"
   ]
  },
  {
   "cell_type": "markdown",
   "metadata": {},
   "source": [
    "#### Bit partitioning balance deviation for 128 bits."
   ]
  },
  {
   "cell_type": "code",
   "execution_count": 12,
   "metadata": {
    "collapsed": false,
    "scrolled": false
   },
   "outputs": [
    {
     "data": {
      "image/png": "[encoded data removed]",
      "text/plain": [
       "<matplotlib.figure.Figure at 0x1067b77d0>"
      ]
     },
     "metadata": {},
     "output_type": "display_data"
    }
   ],
   "source": [
    "plt.figure(figsize=(13,3))\n",
    "line=plt.plot(loaded_partitioner.balance_score, color='blue')\n",
    "legend = mpatches.Patch(color='blue', label='Bit parititoning balance deviation (optimal = 0)')\n",
    "plt.legend(handles=[legend],bbox_to_anchor=(1, 1.2))\n",
    "plt.xlabel('Bit no.')\n",
    "plt.ylabel('Balance deviation ')\n",
    "\n",
    "plt.xticks(range(0, len(loaded_partitioner.balance_score)+1,4))\n",
    "plt.show()"
   ]
  },
  {
   "cell_type": "code",
   "execution_count": 13,
   "metadata": {
    "collapsed": false
   },
   "outputs": [
    {
     "name": "stderr",
     "output_type": "stream",
     "text": [
      "2016-11-26 17:21:29,017 - root - INFO - SketchProducer| Transforming dataset to Sketch matrix...\n",
      "2016-11-26 17:21:29,017 - root - INFO - CaffeVectorsIterator| Reading Caffe Vector file /Users/matejkvassay/data/sketch-testing/profi-neuralnet-100K.data...\n",
      "2016-11-26 17:38:25,621 - root - INFO - SketchProducer| Sketch Matrix constructed with shape (100000, 128)...\n",
      "2016-11-26 17:38:25,627 - root - INFO - SketchProducer| Optimizing sketch length to 32...\n",
      "2016-11-26 17:38:25,628 - root - INFO - SketchProducer| Initiating bit removal...\n",
      "2016-11-26 17:39:59,841 - root - INFO - SketchProducer| Removed 5 bits. Removing last 5 bits took 94.0605459213s, new correlation is 0.272552159911...\n",
      "2016-11-26 17:41:25,724 - root - INFO - SketchProducer| Removed 10 bits. Removing last 5 bits took 85.883161068s, new correlation is 0.261042152958...\n",
      "2016-11-26 17:42:47,342 - root - INFO - SketchProducer| Removed 15 bits. Removing last 5 bits took 81.6177680492s, new correlation is 0.249680506945...\n",
      "2016-11-26 17:44:47,802 - root - INFO - SketchProducer| Removed 20 bits. Removing last 5 bits took 120.459519148s, new correlation is 0.238694237875...\n",
      "2016-11-26 17:46:00,665 - root - INFO - SketchProducer| Removed 25 bits. Removing last 5 bits took 72.8637609482s, new correlation is 0.227595042308...\n",
      "2016-11-26 17:47:05,845 - root - INFO - SketchProducer| Removed 30 bits. Removing last 5 bits took 65.1794490814s, new correlation is 0.216923106293...\n",
      "2016-11-26 17:48:01,872 - root - INFO - SketchProducer| Removed 35 bits. Removing last 5 bits took 56.026706934s, new correlation is 0.206329603813...\n",
      "2016-11-26 17:48:52,875 - root - INFO - SketchProducer| Removed 40 bits. Removing last 5 bits took 51.0038790703s, new correlation is 0.196150293034...\n",
      "2016-11-26 17:49:37,568 - root - INFO - SketchProducer| Removed 45 bits. Removing last 5 bits took 44.6926879883s, new correlation is 0.186108702536...\n",
      "2016-11-26 17:50:15,562 - root - INFO - SketchProducer| Removed 50 bits. Removing last 5 bits took 37.9939699173s, new correlation is 0.176286323712...\n",
      "2016-11-26 17:50:48,360 - root - INFO - SketchProducer| Removed 55 bits. Removing last 5 bits took 32.7976579666s, new correlation is 0.167574081481...\n",
      "2016-11-26 17:51:18,895 - root - INFO - SketchProducer| Removed 60 bits. Removing last 5 bits took 30.5353701115s, new correlation is 0.159476485112...\n",
      "2016-11-26 17:51:43,741 - root - INFO - SketchProducer| Removed 65 bits. Removing last 5 bits took 24.8459589481s, new correlation is 0.151754520805...\n",
      "2016-11-26 17:52:07,831 - root - INFO - SketchProducer| Removed 70 bits. Removing last 5 bits took 24.0904219151s, new correlation is 0.144294527972...\n",
      "2016-11-26 17:52:28,550 - root - INFO - SketchProducer| Removed 75 bits. Removing last 5 bits took 20.7182540894s, new correlation is 0.137533194483...\n",
      "2016-11-26 17:52:44,976 - root - INFO - SketchProducer| Removed 80 bits. Removing last 5 bits took 16.4258179665s, new correlation is 0.131295263219...\n",
      "2016-11-26 17:52:57,769 - root - INFO - SketchProducer| Removed 85 bits. Removing last 5 bits took 12.7936329842s, new correlation is 0.125578365565...\n",
      "2016-11-26 17:53:07,847 - root - INFO - SketchProducer| Removed 90 bits. Removing last 5 bits took 10.0778188705s, new correlation is 0.119974093919...\n",
      "2016-11-26 17:53:15,310 - root - INFO - SketchProducer| Removed 95 bits. Removing last 5 bits took 7.46268486977s, new correlation is 0.114275702852...\n",
      "2016-11-26 17:53:16,508 - root - INFO - SketchProducer| Bits removal completed, sketch matrix now has 32 columns...\n"
     ]
    }
   ],
   "source": [
    "sketch_producer=SketchProducer(cfg,partitioner=loaded_partitioner)"
   ]
  },
  {
   "cell_type": "code",
   "execution_count": 22,
   "metadata": {
    "collapsed": false
   },
   "outputs": [
    {
     "data": {
      "image/png": "[encoded data removed]",
      "text/plain": [
       "<matplotlib.figure.Figure at 0x10681e890>"
      ]
     },
     "metadata": {},
     "output_type": "display_data"
    }
   ],
   "source": [
    "plt.figure(figsize=(13,3))\n",
    "line=plt.plot(sketch_producer.optimization_corrs, color='blue')\n",
    "legend = mpatches.Patch(color='blue', label='Improving correlation with bit removal from 128 to 32')\n",
    "plt.legend(handles=[legend],bbox_to_anchor=(1, 1.2))\n",
    "plt.xlabel('Removed bits')\n",
    "plt.ylabel('Correlation')\n",
    "xt=[num for num in range(0,len(sketch_producer.optimization_corrs)+1,4)]\n",
    "#xt=[128-num for num in range(0,len(sketch_producer.optimization_corrs)+1,4)]#[::-1]\n",
    "plt.xticks(xt)\n",
    "plt.gca().set_xticklabels(xt)\n",
    "plt.show()"
   ]
  },
  {
   "cell_type": "code",
   "execution_count": 15,
   "metadata": {
    "collapsed": false
   },
   "outputs": [
    {
     "name": "stderr",
     "output_type": "stream",
     "text": [
      "2016-11-26 17:53:16,928 - root - INFO - NoneType| Persisting SketchProducer to /Users/matejkvassay/data/sketch-testing/models/sketch_producer_32bit_100k_dataset.model....\n",
      "2016-11-26 17:53:17,061 - root - INFO - NoneType| Done...\n"
     ]
    }
   ],
   "source": [
    "SketchProducer.save(sketch_producer, SKETCH_PRODUCER_SAVE_PATH)"
   ]
  },
  {
   "cell_type": "code",
   "execution_count": 16,
   "metadata": {
    "collapsed": true
   },
   "outputs": [],
   "source": [
    "#TO DO: Evaluate Correlations and Balance deviation on whole 1M dataset."
   ]
  },
  {
   "cell_type": "markdown",
   "metadata": {},
   "source": [
    "### Transform dataset to Sketches and Persist"
   ]
  },
  {
   "cell_type": "code",
   "execution_count": 18,
   "metadata": {
    "collapsed": false,
    "scrolled": true
   },
   "outputs": [
    {
     "name": "stderr",
     "output_type": "stream",
     "text": [
      "2016-11-26 17:53:17,078 - root - INFO - NoneType| Loading persisted SketchProducer from /Users/matejkvassay/data/sketch-testing/models/sketch_producer_32bit_100k_dataset.model...\n"
     ]
    }
   ],
   "source": [
    "sk_producer=SketchProducer.load(SKETCH_PRODUCER_SAVE_PATH)"
   ]
  },
  {
   "cell_type": "code",
   "execution_count": 19,
   "metadata": {
    "collapsed": false,
    "scrolled": true
   },
   "outputs": [
    {
     "name": "stderr",
     "output_type": "stream",
     "text": [
      "2016-11-26 17:53:17,379 - root - INFO - SketchProducer| Tranforming data set from /Users/matejkvassay/data/sketch-testing/profi-neuralnet-100K.data to sketches...\n",
      "2016-11-26 17:53:17,380 - root - INFO - CaffeVectorsIterator| Reading Caffe Vector file /Users/matejkvassay/data/sketch-testing/profi-neuralnet-100K.data...\n",
      "2016-11-26 17:59:18,716 - root - INFO - SketchProducer| Transformation successful. Duration: 361.337666988s...\n",
      "2016-11-26 17:59:18,717 - root - INFO - SketchProducer| Persisting transformed dataset to /Users/matejkvassay/data/sketch-testing/sketch_db_32bit_100K.dump...\n"
     ]
    }
   ],
   "source": [
    "_ = sk_producer.transform_dataset(DATASET_LARGE_FILE, save_sketches_to=SKETCH_DB_SAVE_PATH)"
   ]
  },
  {
   "cell_type": "markdown",
   "metadata": {},
   "source": [
    "## SKETCH SEARCHING EXPERIMENTS"
   ]
  },
  {
   "cell_type": "code",
   "execution_count": 20,
   "metadata": {
    "collapsed": false
   },
   "outputs": [
    {
     "name": "stderr",
     "output_type": "stream",
     "text": [
      "2016-11-26 17:59:22,916 - root - INFO - NoneType| Loading persisted SketchProducer from /Users/matejkvassay/data/sketch-testing/models/sketch_producer_32bit_100k_dataset.model...\n"
     ]
    }
   ],
   "source": [
    "sk_producer=SketchProducer.load(SKETCH_PRODUCER_SAVE_PATH)\n",
    "db=load_from(SKETCH_DB_SAVE_PATH)"
   ]
  },
  {
   "cell_type": "code",
   "execution_count": 23,
   "metadata": {
    "collapsed": false,
    "scrolled": false
   },
   "outputs": [
    {
     "name": "stderr",
     "output_type": "stream",
     "text": [
      "2016-11-26 18:02:15,482 - root - INFO - MultiHashIndex| Initializing MHI...\n",
      "2016-11-26 18:02:15,483 - root - INFO - MultiHashIndex| Inserting sketch objects to MHI.\n",
      "2016-11-26 18:02:22,921 - root - INFO - MultiHashIndex| Inserted 10000 objects to MHI. Inserting took 7.43713402748s...\n",
      "2016-11-26 18:02:30,319 - root - INFO - MultiHashIndex| Inserted 10000 objects to MHI. Inserting took 14.834954977s...\n",
      "2016-11-26 18:02:37,733 - root - INFO - MultiHashIndex| Inserted 10000 objects to MHI. Inserting took 22.2488329411s...\n",
      "2016-11-26 18:02:45,345 - root - INFO - MultiHashIndex| Inserted 10000 objects to MHI. Inserting took 29.8607409s...\n",
      "2016-11-26 18:02:52,724 - root - INFO - MultiHashIndex| Inserted 10000 objects to MHI. Inserting took 37.2404589653s...\n",
      "2016-11-26 18:03:00,126 - root - INFO - MultiHashIndex| Inserted 10000 objects to MHI. Inserting took 44.6418030262s...\n",
      "2016-11-26 18:03:07,490 - root - INFO - MultiHashIndex| Inserted 10000 objects to MHI. Inserting took 52.0057990551s...\n",
      "2016-11-26 18:03:14,853 - root - INFO - MultiHashIndex| Inserted 10000 objects to MHI. Inserting took 59.3690040112s...\n",
      "2016-11-26 18:03:22,223 - root - INFO - MultiHashIndex| Inserted 10000 objects to MHI. Inserting took 66.7393369675s...\n",
      "2016-11-26 18:03:29,783 - root - INFO - MultiHashIndex| Inserted 10000 objects to MHI. Inserting took 74.2984919548s...\n",
      "2016-11-26 18:03:29,783 - root - INFO - MultiHashIndex| Data successfully inserted...\n"
     ]
    },
    {
     "data": {
      "text/plain": [
       "1555.6328125"
      ]
     },
     "execution_count": 23,
     "metadata": {},
     "output_type": "execute_result"
    }
   ],
   "source": [
    "def compute_mean_cnt(mhi):\n",
    "    bucket_obj_cnt=list()\n",
    "    for index in mhi.index:\n",
    "        for bucket in index:\n",
    "            bucket_obj_cnt.append(len(index[bucket]))\n",
    "    return np.mean(bucket_obj_cnt)\n",
    "\n",
    "mhi=MultiHashIndex(db, sk_producer, 4)\n",
    "compute_mean_cnt(mhi)"
   ]
  },
  {
   "cell_type": "code",
   "execution_count": null,
   "metadata": {
    "collapsed": true
   },
   "outputs": [],
   "source": []
  }
 ],
 "metadata": {
  "kernelspec": {
   "display_name": "Python 2",
   "language": "python",
   "name": "python2"
  },
  "language_info": {
   "codemirror_mode": {
    "name": "ipython",
    "version": 2
   },
   "file_extension": ".py",
   "mimetype": "text/x-python",
   "name": "python",
   "nbconvert_exporter": "python",
   "pygments_lexer": "ipython2",
   "version": "2.7.10"
  }
 },
 "nbformat": 4,
 "nbformat_minor": 0
}
