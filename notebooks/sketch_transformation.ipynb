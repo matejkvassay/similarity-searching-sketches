{
 "cells": [
  {
   "cell_type": "code",
   "execution_count": 14,
   "metadata": {
    "collapsed": false
   },
   "outputs": [],
   "source": [
    "import numpy as np\n",
    "from sklearn.neighbors import DistanceMetric"
   ]
  },
  {
   "cell_type": "code",
   "execution_count": 15,
   "metadata": {
    "collapsed": false
   },
   "outputs": [
    {
     "ename": "SyntaxError",
     "evalue": "invalid syntax (<ipython-input-15-ec5d5a3343d1>, line 9)",
     "output_type": "error",
     "traceback": [
      "\u001b[0;36m  File \u001b[0;32m\"<ipython-input-15-ec5d5a3343d1>\"\u001b[0;36m, line \u001b[0;32m9\u001b[0m\n\u001b[0;31m    'sketch_length': 16\u001b[0m\n\u001b[0m                   ^\u001b[0m\n\u001b[0;31mSyntaxError\u001b[0m\u001b[0;31m:\u001b[0m invalid syntax\n"
     ]
    }
   ],
   "source": [
    "CFG={\n",
    "    'dist_metric':'euclidean',\n",
    "    'pivots_file_path':'/home/kvassay/Documents/data/sketch-testing/pivots-random-320.data',\n",
    "    'base_sketch_length':32,\n",
    "    'dataset_path':'/home/kvassay/Documents/data/sketch-testing/profi-neuralnet-100K.data'\n",
    "    'desired_sketch_length': 16\n",
    "}"
   ]
  },
  {
   "cell_type": "code",
   "execution_count": 16,
   "metadata": {
    "collapsed": true
   },
   "outputs": [],
   "source": [
    "def get_cfg(cfg_path_or_dict):\n",
    "    if type(cfg_path_or_dict) == dict:\n",
    "        return cfg_path_or_dict\n",
    "    if not os.path.isfile(cfg_path_or_dict):\n",
    "        raise ValueError('Config must be path to valid .yml file or dict.')\n",
    "    with open(cfg_path_or_dict, 'rb') as f:\n",
    "        cfg = yaml.load(f)\n",
    "    return cfg"
   ]
  },
  {
   "cell_type": "code",
   "execution_count": 17,
   "metadata": {
    "collapsed": true
   },
   "outputs": [],
   "source": [
    "class CaffeVectorsIterator():\n",
    "    def __init__(self, file_path):\n",
    "        self.file = open(file_path, 'rb')\n",
    "\n",
    "    def next(self):\n",
    "        try:\n",
    "            # (id: int, vector: tuple of float)\n",
    "            lineA = self.file.next()\n",
    "            lineB = self.file.next()\n",
    "            print(lineA)\n",
    "            print(lineB)\n",
    "            return (int(lineA.split(' ')[2]), np.array([float(num) for num in lineB.split(' ')]))\n",
    "        except StopIteration:\n",
    "            self.file.close()\n",
    "            raise StopIteration\n",
    "\n",
    "    def __del__(self):\n",
    "        self.file.close()\n",
    "\n",
    "\n",
    "class CaffeVectorsIterable():\n",
    "    def __init__(self, file_path):\n",
    "        self.file_path = file_path\n",
    "\n",
    "    def __iter__(self):\n",
    "        return CaffeVectorsIterator(self.file_path)"
   ]
  },
  {
   "cell_type": "code",
   "execution_count": 18,
   "metadata": {
    "collapsed": false
   },
   "outputs": [],
   "source": [
    "class MultiHyperplanePartitioner():\n",
    "    #FIX! !!!! TAKE ALL PIVOTS, COMPUTE 50/50 ratio and take k top\n",
    "    def __init__(self, cfg):\n",
    "        cfg = get_cfg(cfg)\n",
    "        self.dist_metric = DistanceMetric(cfg['dist_metric'])  # for example 'euclidean'\n",
    "        self.read_pivots(cfg)\n",
    "    \n",
    "    def read_pivots(self, cfg):\n",
    "        self.pivots = list()\n",
    "        iterator = CaffeVectorsIterable(cfg['pivots_file_path']).__iter__()\n",
    "\n",
    "        while True:\n",
    "            try:\n",
    "                pivot_A = iterator.next()\n",
    "                pivot_B = iterator.next()\n",
    "                self.pivots.append((pivot_A, pivot_B))\n",
    "            except StopIteration:\n",
    "                break\n",
    "        \n",
    "            \n",
    "    def get_partition(self, pivot_couple, obj):\n",
    "        distance_A = self.dist_metric.pairwise(obj[1], pivot_couple[0][1])[0][0]  # pairwise returns matrix\n",
    "        distance_B = self.dist_metric.pairwise(obj[1], pivot_couple[1][1])[0][0]\n",
    "        if distance_A > distance_B:\n",
    "            return 0\n",
    "        else:\n",
    "            return 1\n",
    "\n",
    "    def get_partitions(self, obj, index_mask=None):\n",
    "        if not index_mask:\n",
    "            index_mask=[True]*len(self.pivots)\n",
    "        return [self.get_partition(pivot_couple, obj) for index, pivot_couple in enumerate(self.pivots) if index_mask[index]]"
   ]
  },
  {
   "cell_type": "code",
   "execution_count": 20,
   "metadata": {
    "collapsed": false
   },
   "outputs": [
    {
     "ename": "IndentationError",
     "evalue": "expected an indented block (<ipython-input-20-c49506883cab>, line 14)",
     "output_type": "error",
     "traceback": [
      "\u001b[0;36m  File \u001b[0;32m\"<ipython-input-20-c49506883cab>\"\u001b[0;36m, line \u001b[0;32m14\u001b[0m\n\u001b[0;31m    \u001b[0m\n\u001b[0m    ^\u001b[0m\n\u001b[0;31mIndentationError\u001b[0m\u001b[0;31m:\u001b[0m expected an indented block\n"
     ]
    }
   ],
   "source": [
    "class SketchTrasformator():\n",
    "def __init__(self, cfg):\n",
    "    self.cfg=self.get_cfg(cfg)\n",
    "    self.partitioner=MultiHyperplanePartitioner(cfg)\n",
    "    dataset_iterator=CaffeVectorsIterable(cfg['dataset_path']).__iter__()\n",
    "    #sketch_matrix=np.matrix([self.partitioner.get_partitions(data_record) for data_record in dataset_iterator])\n",
    "    self.index_mask=generate_parition_index_mask(sketch_matrix, int(cfg['desired_sketch_length']))\n",
    "    \n",
    "def get_sketches(length):\n",
    "    assert length<=len(self.partitioner.pivots)\n",
    "\n",
    "def generate_partition_index_mask(sketch_matrix, desired_sketch_len):\n",
    "    #if not enough pivots \n",
    "    pass\n",
    "    \n",
    "        "
   ]
  },
  {
   "cell_type": "code",
   "execution_count": null,
   "metadata": {
    "collapsed": true
   },
   "outputs": [],
   "source": []
  },
  {
   "cell_type": "code",
   "execution_count": null,
   "metadata": {
    "collapsed": true
   },
   "outputs": [],
   "source": []
  }
 ],
 "metadata": {
  "kernelspec": {
   "display_name": "Python 2",
   "language": "python",
   "name": "python2"
  },
  "language_info": {
   "codemirror_mode": {
    "name": "ipython",
    "version": 2
   },
   "file_extension": ".py",
   "mimetype": "text/x-python",
   "name": "python",
   "nbconvert_exporter": "python",
   "pygments_lexer": "ipython2",
   "version": "2.7.12"
  }
 },
 "nbformat": 4,
 "nbformat_minor": 0
}
