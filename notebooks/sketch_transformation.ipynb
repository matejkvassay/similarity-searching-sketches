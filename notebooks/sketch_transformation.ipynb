{
 "cells": [
  {
   "cell_type": "markdown",
   "metadata": {},
   "source": [
    "## CLASS IMPLEMENTATIONS"
   ]
  },
  {
   "cell_type": "code",
   "execution_count": 1,
   "metadata": {
    "collapsed": false
   },
   "outputs": [
    {
     "name": "stderr",
     "output_type": "stream",
     "text": [
      "2016-11-16 10:39:38,519 - root - INFO - Logger works.\n"
     ]
    },
    {
     "data": {
      "text/plain": [
       "[<logging.StreamHandler at 0x7f0628691e10>]"
      ]
     },
     "execution_count": 1,
     "metadata": {},
     "output_type": "execute_result"
    }
   ],
   "source": [
    "'''\n",
    "RUN ONLY ONCE OTHERWISE MULTIPLE LOGGER HANDLERS WILL BE ADDED\n",
    "'''\n",
    "import logging\n",
    "logger = logging.getLogger()\n",
    "logger.setLevel('INFO')\n",
    "ch = logging.StreamHandler()\n",
    "ch.setLevel(logging.INFO)\n",
    "formatter = logging.Formatter('%(asctime)s - %(name)s - %(levelname)s - %(message)s')\n",
    "ch.setFormatter(formatter)\n",
    "# add the handlers to the logger\n",
    "logger.addHandler(ch)\n",
    "logger.info('Logger works.')\n",
    "logger.handlers"
   ]
  },
  {
   "cell_type": "code",
   "execution_count": 152,
   "metadata": {
    "collapsed": false
   },
   "outputs": [],
   "source": [
    "%matplotlib inline\n",
    "\n",
    "import matplotlib.pyplot as plt\n",
    "import matplotlib.patches as mpatches\n",
    "import numpy as np\n",
    "from scipy.spatial.distance import euclidean\n",
    "import time\n",
    "import cPickle"
   ]
  },
  {
   "cell_type": "code",
   "execution_count": 214,
   "metadata": {
    "collapsed": false
   },
   "outputs": [],
   "source": [
    "def get_cfg(cfg_path_or_dict):\n",
    "    if type(cfg_path_or_dict) == dict:\n",
    "        return cfg_path_or_dict\n",
    "    if not os.path.isfile(cfg_path_or_dict):\n",
    "        raise ValueError('Config must be path to valid .yml file or dict.')\n",
    "    with open(cfg_path_or_dict, 'rb') as f:\n",
    "        cfg = yaml.load(f)\n",
    "    return cfg\n",
    "\n",
    "def log_pfx(obj, msg, *args):\n",
    "    logger.info(obj.__class__.__name__+'| '+msg, *args)\n",
    "    \n",
    "def save_to(obj, file_path):\n",
    "    with open(file_path, 'wb') as f:\n",
    "        cPickle.dump(obj,f)\n",
    "\n",
    "def load_from(file_path):\n",
    "    with open(file_path, 'rb') as f:\n",
    "        return cPickle.load(f) "
   ]
  },
  {
   "cell_type": "code",
   "execution_count": 51,
   "metadata": {
    "collapsed": true
   },
   "outputs": [],
   "source": [
    "class CaffeVectorsIterator(object):\n",
    "    def __init__(self, file_path):\n",
    "        log_pfx(self,'Reading Caffe Vector file %s...',file_path)\n",
    "        self.f = open(file_path, 'rb')\n",
    "\n",
    "    def next(self):\n",
    "        try:\n",
    "            # (id: int, vector: np array of float32)\n",
    "            lineA = self.f.next()\n",
    "            lineB = self.f.next()\n",
    "            return (int(lineA.split(' ')[2]),  np.fromstring(lineB, dtype='f', sep=' '))\n",
    "        except StopIteration:\n",
    "            self.f.close()\n",
    "            raise StopIteration\n",
    "\n",
    "    def __del__(self):\n",
    "        if self.f:\n",
    "            self.f.close()\n",
    "\n",
    "\n",
    "class CaffeVectorsIterable(object):\n",
    "    def __init__(self, file_path):\n",
    "        self.file_path = file_path\n",
    "\n",
    "    def __iter__(self):\n",
    "        return CaffeVectorsIterator(self.file_path)"
   ]
  },
  {
   "cell_type": "code",
   "execution_count": 365,
   "metadata": {
    "collapsed": false
   },
   "outputs": [],
   "source": [
    "class MultiHyperplanePartitioner(object):\n",
    "\n",
    "    def __init__(self, cfg):\n",
    "        if cfg:\n",
    "            cfg = get_cfg(cfg)\n",
    "            all_pivots=self.read_pivots(cfg)\n",
    "            self.pivots, self.balance_score=self.select_top_k_pivots(all_pivots, int(cfg['base_sketch_length']))\n",
    "            self.pivots=list(self.pivots)\n",
    "            self.balance_score=list(self.balance_score)\n",
    "            \n",
    "    def save_self(self, file_path):\n",
    "        MultiHyperplanePartitioner.save(self,file_path)\n",
    "    \n",
    "    @staticmethod\n",
    "    def save(partitioner, file_path):\n",
    "        log_pfx(None,'Persisting MultiHyperplanePartitioner to %s...',file_path)\n",
    "        to_save=partitioner.pivots, partitioner.balance_score\n",
    "        save_to(to_save, file_path)\n",
    "        log_pfx(None,'Done...')\n",
    "    \n",
    "    \n",
    "    @staticmethod\n",
    "    def load(file_path, limit_pivots=None):\n",
    "        if limit_pivots is not None:\n",
    "            log_pfx(None,'Loading persisted MultiHyperplanePartitioner from %s, limiting pivots count to %s...', file_path, limit_pivots )\n",
    "        else:\n",
    "            log_pfx(None,'Loading persisted MultiHyperplanePartitioner from %s...',file_path)\n",
    "\n",
    "        instance=MultiHyperplanePartitioner(None)\n",
    "        tupl=load_from(file_path)\n",
    "        if limit_pivots is None:\n",
    "            instance.pivots=tupl[0]\n",
    "            instance.balance_score=tupl[1]\n",
    "        else:\n",
    "            instance.pivots=tupl[0][:limit_pivots]\n",
    "            instance.balance_score=tupl[1][:limit_pivots]\n",
    "        instance.pivots=list(instance.pivots)\n",
    "        instance.balance_score=list(instance.balance_score)\n",
    "        return instance\n",
    "\n",
    "    def select_top_k_pivots(self, all_pivots,k):\n",
    "        log_pfx(self,'Selecting top %s pivots...',k)\n",
    "        counters=[0]*len(all_pivots)\n",
    "        n_obj=0\n",
    "        t_start=time.time()\n",
    "        for obj in CaffeVectorsIterable(cfg['dataset_path']):\n",
    "            n_obj+=1\n",
    "            if n_obj%10000==0:\n",
    "                t_dur=time.time()-t_start\n",
    "                t_start=time.time()\n",
    "                log_pfx(self,'Adding counts for partitioning balance counter for dataset obj no. %s. Processing last 10000 objects took %ss...',n_obj,t_dur)\n",
    "            for i, pivot_couple in enumerate(all_pivots):\n",
    "                if self.get_partition(pivot_couple, obj)==1:\n",
    "                    counters[i]+=1\n",
    "\n",
    "        log_pfx(self,'Computing balance ratios and selecting top %s pivots...', k)\n",
    "        balance_ratios=[abs(0.5-(float(count_1)/n_obj)) for i, count_1 in enumerate(counters)]\n",
    "        sorted_pivots_with_ratings=sorted(zip(all_pivots, balance_ratios), key=lambda x: x[1])\n",
    "        top_pivots, top_balance_score=zip(*[(tupl[0], tupl[1]) for tupl in sorted_pivots_with_ratings[:k]])\n",
    "        return top_pivots, top_balance_score     \n",
    "\n",
    "    def read_pivots(self, cfg):\n",
    "        log_pfx(self,'Reading pivot file...')\n",
    "        pivots = list()\n",
    "        iterator = CaffeVectorsIterable(cfg['pivots_file_path']).__iter__()\n",
    "        while True:\n",
    "            try:\n",
    "                pivot_A = iterator.next()\n",
    "                pivot_B = iterator.next()\n",
    "                pivots.append((pivot_A, pivot_B))\n",
    "            except StopIteration:\n",
    "                break\n",
    "        return pivots\n",
    "\n",
    "    def remove_pivot_couple(self, idx):\n",
    "        self.pivots.pop(idx)\n",
    "        self.balance_score.pop(idx)\n",
    "\n",
    "    def get_partition(self, pivot_couple, obj):\n",
    "        distance_A = euclidean(obj[1], pivot_couple[0][1]) # pairwise returns matrix\n",
    "        distance_B = euclidean(obj[1], pivot_couple[1][1])\n",
    "        if distance_A > distance_B:\n",
    "            return 0\n",
    "        else:\n",
    "            return 1\n",
    "\n",
    "    def get_partitions(self, obj):\n",
    "        return [self.get_partition(pivot_couple, obj) for pivot_couple in self.pivots]"
   ]
  },
  {
   "cell_type": "code",
   "execution_count": 366,
   "metadata": {
    "collapsed": false
   },
   "outputs": [],
   "source": [
    "class SketchProducer(object):\n",
    "    def __init__(self, cfg, partitioner=None):\n",
    "        if cfg:\n",
    "            self.cfg=get_cfg(cfg)\n",
    "            if partitioner is None:\n",
    "                self.partitioner=MultiHyperplanePartitioner(cfg)\n",
    "            else:\n",
    "                self.partitioner=partitioner\n",
    "            log_pfx(self,'Transforming dataset to Sketch matrix...')\n",
    "            sketch_matrix=np.matrix([self.partitioner.get_partitions(data_record) for data_record in CaffeVectorsIterable(cfg['dataset_path'])])\n",
    "            log_pfx(self,'Sketch Matrix constructed with shape %s...',sketch_matrix.shape)\n",
    "            log_pfx(self,'Optimizing sketch length to %s...', int(cfg['desired_sketch_length']))\n",
    "            self.optimization_corrs=self.optimize_bit_length(sketch_matrix, int(cfg['desired_sketch_length']))\n",
    "            \n",
    "    def remove_one_bit(self, sketch_matrix): #removes single bit that will result in best improvement of mean correlation \n",
    "        bool_mask=[True]*sketch_matrix.shape[1]\n",
    "        best_corr=1000\n",
    "        best_idx=-1\n",
    "        for i in xrange(len(bool_mask)):\n",
    "            if i>0:\n",
    "                bool_mask[i]=False\n",
    "                bool_mask[i-1]=True\n",
    "            else:\n",
    "                bool_mask[i]=False\n",
    "            mean_corr=SketchProducer.mean_couple_correlation(sketch_matrix[:, bool_mask])\n",
    "            if mean_corr<best_corr:\n",
    "                best_corr=mean_corr\n",
    "                best_idx=i\n",
    "        bool_mask[len(bool_mask)-1]=True\n",
    "        bool_mask[best_idx]=False\n",
    "        sketch_matrix=sketch_matrix[:, bool_mask]\n",
    "        self.partitioner.remove_pivot_couple(best_idx)\n",
    "        return sketch_matrix, best_corr\n",
    "        \n",
    "    def optimize_bit_length(self, sketch_matrix, desired_sketch_len):\n",
    "        log_pfx(self, 'Initiating bit removal...')\n",
    "        corr_vals=list()\n",
    "        corr_vals.append(SketchProducer.mean_couple_correlation(sketch_matrix))\n",
    "        bits_removed=0\n",
    "        t_start=time.time()\n",
    "        while sketch_matrix.shape[1]>desired_sketch_len:\n",
    "            print(sketch_matrix.shape[1])\n",
    "            if bits_removed>0 and bits_removed%5==0:\n",
    "                t_dur=time.time()-t_start\n",
    "                t_start=time.time()\n",
    "                log_pfx(self, 'Removed %s bits. Removing last 5 bits took %ss...', bits_removed, t_dur)\n",
    "            sketch_matrix, new_corr=self.remove_one_bit(sketch_matrix)\n",
    "            corr_vals.append(new_corr)\n",
    "            bits_removed+=1\n",
    "        return corr_vals\n",
    "\n",
    "    @staticmethod\n",
    "    def mean_couple_correlation(sketch_matrix):\n",
    "        corr_mtx = np.corrcoef(sketch_matrix.T) #matrix of correlations of columns of sketch matrix\n",
    "        corr_vals=corr_mtx[np.triu_indices(n=corr_mtx.shape[0], m=corr_mtx.shape[1], k=1)] #list of upper triangle of corr matrix (without diagonal)\n",
    "        return np.mean(np.absolute(corr_vals)) #mean of absolute value of Pearson correlation coefficients \n",
    "    \n",
    "        "
   ]
  },
  {
   "cell_type": "markdown",
   "metadata": {
    "collapsed": true
   },
   "source": [
    "## EXPERIMENTS"
   ]
  },
  {
   "cell_type": "markdown",
   "metadata": {
    "collapsed": true
   },
   "source": [
    "### Hyperplane partitioning"
   ]
  },
  {
   "cell_type": "code",
   "execution_count": 360,
   "metadata": {
    "collapsed": false,
    "scrolled": true
   },
   "outputs": [
    {
     "name": "stderr",
     "output_type": "stream",
     "text": [
      "2016-11-16 16:39:42,868 - root - INFO - MultiHyperplanePartitioner| Reading pivot file...\n",
      "2016-11-16 16:39:42,869 - root - INFO - CaffeVectorsIterator| Reading Caffe Vector file /home/kvassay/data/sketch-testing/pivots-random-2560.data...\n",
      "2016-11-16 16:39:45,269 - root - INFO - MultiHyperplanePartitioner| Selecting top 1280 pivots...\n",
      "2016-11-16 16:39:45,270 - root - INFO - CaffeVectorsIterator| Reading Caffe Vector file /home/kvassay/data/sketch-testing/profi-neuralnet-100K.data...\n"
     ]
    },
    {
     "ename": "KeyboardInterrupt",
     "evalue": "",
     "output_type": "error",
     "traceback": [
      "\u001b[0;31m---------------------------------------------------------------------------\u001b[0m",
      "\u001b[0;31mKeyboardInterrupt\u001b[0m                         Traceback (most recent call last)",
      "\u001b[0;32m<ipython-input-360-bcb299c68e7c>\u001b[0m in \u001b[0;36m<module>\u001b[0;34m()\u001b[0m\n\u001b[1;32m      6\u001b[0m }\n\u001b[1;32m      7\u001b[0m \u001b[0mt_start\u001b[0m\u001b[0;34m=\u001b[0m\u001b[0mtime\u001b[0m\u001b[0;34m.\u001b[0m\u001b[0mtime\u001b[0m\u001b[0;34m(\u001b[0m\u001b[0;34m)\u001b[0m\u001b[0;34m\u001b[0m\u001b[0m\n\u001b[0;32m----> 8\u001b[0;31m \u001b[0mpartitioner\u001b[0m\u001b[0;34m=\u001b[0m\u001b[0mMultiHyperplanePartitioner\u001b[0m\u001b[0;34m(\u001b[0m\u001b[0mcfg\u001b[0m\u001b[0;34m)\u001b[0m\u001b[0;34m\u001b[0m\u001b[0m\n\u001b[0m\u001b[1;32m      9\u001b[0m \u001b[0mdur_s\u001b[0m\u001b[0;34m=\u001b[0m\u001b[0mtime\u001b[0m\u001b[0;34m.\u001b[0m\u001b[0mtime\u001b[0m\u001b[0;34m(\u001b[0m\u001b[0;34m)\u001b[0m\u001b[0;34m-\u001b[0m\u001b[0mt_start\u001b[0m\u001b[0;34m\u001b[0m\u001b[0m\n\u001b[1;32m     10\u001b[0m \u001b[0mlog_pfx\u001b[0m\u001b[0;34m(\u001b[0m\u001b[0mNone\u001b[0m\u001b[0;34m,\u001b[0m\u001b[0;34m'Balanced pivot selection duration: %s'\u001b[0m\u001b[0;34m,\u001b[0m \u001b[0mdur_s\u001b[0m\u001b[0;34m)\u001b[0m\u001b[0;34m\u001b[0m\u001b[0m\n",
      "\u001b[0;32m<ipython-input-355-68542d8359ff>\u001b[0m in \u001b[0;36m__init__\u001b[0;34m(self, cfg)\u001b[0m\n\u001b[1;32m      5\u001b[0m             \u001b[0mcfg\u001b[0m \u001b[0;34m=\u001b[0m \u001b[0mget_cfg\u001b[0m\u001b[0;34m(\u001b[0m\u001b[0mcfg\u001b[0m\u001b[0;34m)\u001b[0m\u001b[0;34m\u001b[0m\u001b[0m\n\u001b[1;32m      6\u001b[0m             \u001b[0mall_pivots\u001b[0m\u001b[0;34m=\u001b[0m\u001b[0mself\u001b[0m\u001b[0;34m.\u001b[0m\u001b[0mread_pivots\u001b[0m\u001b[0;34m(\u001b[0m\u001b[0mcfg\u001b[0m\u001b[0;34m)\u001b[0m\u001b[0;34m\u001b[0m\u001b[0m\n\u001b[0;32m----> 7\u001b[0;31m             \u001b[0mself\u001b[0m\u001b[0;34m.\u001b[0m\u001b[0mpivots\u001b[0m\u001b[0;34m,\u001b[0m \u001b[0mself\u001b[0m\u001b[0;34m.\u001b[0m\u001b[0mbalance_score\u001b[0m\u001b[0;34m=\u001b[0m\u001b[0mself\u001b[0m\u001b[0;34m.\u001b[0m\u001b[0mselect_top_k_pivots\u001b[0m\u001b[0;34m(\u001b[0m\u001b[0mall_pivots\u001b[0m\u001b[0;34m,\u001b[0m \u001b[0mint\u001b[0m\u001b[0;34m(\u001b[0m\u001b[0mcfg\u001b[0m\u001b[0;34m[\u001b[0m\u001b[0;34m'base_sketch_length'\u001b[0m\u001b[0;34m]\u001b[0m\u001b[0;34m)\u001b[0m\u001b[0;34m)\u001b[0m\u001b[0;34m\u001b[0m\u001b[0m\n\u001b[0m\u001b[1;32m      8\u001b[0m             \u001b[0mself\u001b[0m\u001b[0;34m.\u001b[0m\u001b[0mpivots\u001b[0m\u001b[0;34m=\u001b[0m\u001b[0mlist\u001b[0m\u001b[0;34m(\u001b[0m\u001b[0mself\u001b[0m\u001b[0;34m.\u001b[0m\u001b[0mpivots\u001b[0m\u001b[0;34m)\u001b[0m\u001b[0;34m\u001b[0m\u001b[0m\n\u001b[1;32m      9\u001b[0m             \u001b[0mself\u001b[0m\u001b[0;34m.\u001b[0m\u001b[0mbalance_score\u001b[0m\u001b[0;34m=\u001b[0m\u001b[0mlist\u001b[0m\u001b[0;34m(\u001b[0m\u001b[0mself\u001b[0m\u001b[0;34m.\u001b[0m\u001b[0mbalance_score\u001b[0m\u001b[0;34m)\u001b[0m\u001b[0;34m\u001b[0m\u001b[0m\n",
      "\u001b[0;32m<ipython-input-355-68542d8359ff>\u001b[0m in \u001b[0;36mselect_top_k_pivots\u001b[0;34m(self, all_pivots, k)\u001b[0m\n\u001b[1;32m     51\u001b[0m                 \u001b[0mlog_pfx\u001b[0m\u001b[0;34m(\u001b[0m\u001b[0mself\u001b[0m\u001b[0;34m,\u001b[0m\u001b[0;34m'Adding counts for partitioning balance counter for dataset obj no. %s. Processing last 10000 objects took %ss...'\u001b[0m\u001b[0;34m,\u001b[0m\u001b[0mn_obj\u001b[0m\u001b[0;34m,\u001b[0m\u001b[0mt_dur\u001b[0m\u001b[0;34m)\u001b[0m\u001b[0;34m\u001b[0m\u001b[0m\n\u001b[1;32m     52\u001b[0m             \u001b[0;32mfor\u001b[0m \u001b[0mi\u001b[0m\u001b[0;34m,\u001b[0m \u001b[0mpivot_couple\u001b[0m \u001b[0;32min\u001b[0m \u001b[0menumerate\u001b[0m\u001b[0;34m(\u001b[0m\u001b[0mall_pivots\u001b[0m\u001b[0;34m)\u001b[0m\u001b[0;34m:\u001b[0m\u001b[0;34m\u001b[0m\u001b[0m\n\u001b[0;32m---> 53\u001b[0;31m                 \u001b[0;32mif\u001b[0m \u001b[0mself\u001b[0m\u001b[0;34m.\u001b[0m\u001b[0mget_partition\u001b[0m\u001b[0;34m(\u001b[0m\u001b[0mpivot_couple\u001b[0m\u001b[0;34m,\u001b[0m \u001b[0mobj\u001b[0m\u001b[0;34m)\u001b[0m\u001b[0;34m==\u001b[0m\u001b[0;36m1\u001b[0m\u001b[0;34m:\u001b[0m\u001b[0;34m\u001b[0m\u001b[0m\n\u001b[0m\u001b[1;32m     54\u001b[0m                     \u001b[0mcounters\u001b[0m\u001b[0;34m[\u001b[0m\u001b[0mi\u001b[0m\u001b[0;34m]\u001b[0m\u001b[0;34m+=\u001b[0m\u001b[0;36m1\u001b[0m\u001b[0;34m\u001b[0m\u001b[0m\n\u001b[1;32m     55\u001b[0m \u001b[0;34m\u001b[0m\u001b[0m\n",
      "\u001b[0;32m<ipython-input-355-68542d8359ff>\u001b[0m in \u001b[0;36mget_partition\u001b[0;34m(self, pivot_couple, obj)\u001b[0m\n\u001b[1;32m     81\u001b[0m     \u001b[0;32mdef\u001b[0m \u001b[0mget_partition\u001b[0m\u001b[0;34m(\u001b[0m\u001b[0mself\u001b[0m\u001b[0;34m,\u001b[0m \u001b[0mpivot_couple\u001b[0m\u001b[0;34m,\u001b[0m \u001b[0mobj\u001b[0m\u001b[0;34m)\u001b[0m\u001b[0;34m:\u001b[0m\u001b[0;34m\u001b[0m\u001b[0m\n\u001b[1;32m     82\u001b[0m         \u001b[0mdistance_A\u001b[0m \u001b[0;34m=\u001b[0m \u001b[0meuclidean\u001b[0m\u001b[0;34m(\u001b[0m\u001b[0mobj\u001b[0m\u001b[0;34m[\u001b[0m\u001b[0;36m1\u001b[0m\u001b[0;34m]\u001b[0m\u001b[0;34m,\u001b[0m \u001b[0mpivot_couple\u001b[0m\u001b[0;34m[\u001b[0m\u001b[0;36m0\u001b[0m\u001b[0;34m]\u001b[0m\u001b[0;34m[\u001b[0m\u001b[0;36m1\u001b[0m\u001b[0;34m]\u001b[0m\u001b[0;34m)\u001b[0m \u001b[0;31m# pairwise returns matrix\u001b[0m\u001b[0;34m\u001b[0m\u001b[0m\n\u001b[0;32m---> 83\u001b[0;31m         \u001b[0mdistance_B\u001b[0m \u001b[0;34m=\u001b[0m \u001b[0meuclidean\u001b[0m\u001b[0;34m(\u001b[0m\u001b[0mobj\u001b[0m\u001b[0;34m[\u001b[0m\u001b[0;36m1\u001b[0m\u001b[0;34m]\u001b[0m\u001b[0;34m,\u001b[0m \u001b[0mpivot_couple\u001b[0m\u001b[0;34m[\u001b[0m\u001b[0;36m1\u001b[0m\u001b[0;34m]\u001b[0m\u001b[0;34m[\u001b[0m\u001b[0;36m1\u001b[0m\u001b[0;34m]\u001b[0m\u001b[0;34m)\u001b[0m\u001b[0;34m\u001b[0m\u001b[0m\n\u001b[0m\u001b[1;32m     84\u001b[0m         \u001b[0;32mif\u001b[0m \u001b[0mdistance_A\u001b[0m \u001b[0;34m>\u001b[0m \u001b[0mdistance_B\u001b[0m\u001b[0;34m:\u001b[0m\u001b[0;34m\u001b[0m\u001b[0m\n\u001b[1;32m     85\u001b[0m             \u001b[0;32mreturn\u001b[0m \u001b[0;36m0\u001b[0m\u001b[0;34m\u001b[0m\u001b[0m\n",
      "\u001b[0;32m/home/kvassay/.env/main/local/lib/python2.7/site-packages/scipy/spatial/distance.pyc\u001b[0m in \u001b[0;36meuclidean\u001b[0;34m(u, v)\u001b[0m\n\u001b[1;32m    252\u001b[0m     \u001b[0mu\u001b[0m \u001b[0;34m=\u001b[0m \u001b[0m_validate_vector\u001b[0m\u001b[0;34m(\u001b[0m\u001b[0mu\u001b[0m\u001b[0;34m)\u001b[0m\u001b[0;34m\u001b[0m\u001b[0m\n\u001b[1;32m    253\u001b[0m     \u001b[0mv\u001b[0m \u001b[0;34m=\u001b[0m \u001b[0m_validate_vector\u001b[0m\u001b[0;34m(\u001b[0m\u001b[0mv\u001b[0m\u001b[0;34m)\u001b[0m\u001b[0;34m\u001b[0m\u001b[0m\n\u001b[0;32m--> 254\u001b[0;31m     \u001b[0mdist\u001b[0m \u001b[0;34m=\u001b[0m \u001b[0mnorm\u001b[0m\u001b[0;34m(\u001b[0m\u001b[0mu\u001b[0m \u001b[0;34m-\u001b[0m \u001b[0mv\u001b[0m\u001b[0;34m)\u001b[0m\u001b[0;34m\u001b[0m\u001b[0m\n\u001b[0m\u001b[1;32m    255\u001b[0m     \u001b[0;32mreturn\u001b[0m \u001b[0mdist\u001b[0m\u001b[0;34m\u001b[0m\u001b[0m\n\u001b[1;32m    256\u001b[0m \u001b[0;34m\u001b[0m\u001b[0m\n",
      "\u001b[0;32m/home/kvassay/.env/main/local/lib/python2.7/site-packages/scipy/linalg/misc.pyc\u001b[0m in \u001b[0;36mnorm\u001b[0;34m(a, ord, axis, keepdims)\u001b[0m\n\u001b[1;32m    134\u001b[0m         \u001b[0;32mif\u001b[0m \u001b[0mord\u001b[0m \u001b[0;32min\u001b[0m \u001b[0;34m(\u001b[0m\u001b[0mNone\u001b[0m\u001b[0;34m,\u001b[0m \u001b[0;36m2\u001b[0m\u001b[0;34m)\u001b[0m \u001b[0;32mand\u001b[0m \u001b[0;34m(\u001b[0m\u001b[0ma\u001b[0m\u001b[0;34m.\u001b[0m\u001b[0mndim\u001b[0m \u001b[0;34m==\u001b[0m \u001b[0;36m1\u001b[0m\u001b[0;34m)\u001b[0m\u001b[0;34m:\u001b[0m\u001b[0;34m\u001b[0m\u001b[0m\n\u001b[1;32m    135\u001b[0m             \u001b[0;31m# use blas for fast and stable euclidean norm\u001b[0m\u001b[0;34m\u001b[0m\u001b[0;34m\u001b[0m\u001b[0m\n\u001b[0;32m--> 136\u001b[0;31m             \u001b[0mnrm2\u001b[0m \u001b[0;34m=\u001b[0m \u001b[0mget_blas_funcs\u001b[0m\u001b[0;34m(\u001b[0m\u001b[0;34m'nrm2'\u001b[0m\u001b[0;34m,\u001b[0m \u001b[0mdtype\u001b[0m\u001b[0;34m=\u001b[0m\u001b[0ma\u001b[0m\u001b[0;34m.\u001b[0m\u001b[0mdtype\u001b[0m\u001b[0;34m)\u001b[0m\u001b[0;34m\u001b[0m\u001b[0m\n\u001b[0m\u001b[1;32m    137\u001b[0m             \u001b[0;32mreturn\u001b[0m \u001b[0mnrm2\u001b[0m\u001b[0;34m(\u001b[0m\u001b[0ma\u001b[0m\u001b[0;34m)\u001b[0m\u001b[0;34m\u001b[0m\u001b[0m\n\u001b[1;32m    138\u001b[0m \u001b[0;34m\u001b[0m\u001b[0m\n",
      "\u001b[0;32m/home/kvassay/.env/main/local/lib/python2.7/site-packages/scipy/linalg/blas.pyc\u001b[0m in \u001b[0;36mget_blas_funcs\u001b[0;34m(names, arrays, dtype)\u001b[0m\n\u001b[1;32m    310\u001b[0m     return _get_funcs(names, arrays, dtype,\n\u001b[1;32m    311\u001b[0m                       \u001b[0;34m\"BLAS\"\u001b[0m\u001b[0;34m,\u001b[0m \u001b[0m_fblas\u001b[0m\u001b[0;34m,\u001b[0m \u001b[0m_cblas\u001b[0m\u001b[0;34m,\u001b[0m \u001b[0;34m\"fblas\"\u001b[0m\u001b[0;34m,\u001b[0m \u001b[0;34m\"cblas\"\u001b[0m\u001b[0;34m,\u001b[0m\u001b[0;34m\u001b[0m\u001b[0m\n\u001b[0;32m--> 312\u001b[0;31m                       _blas_alias)\n\u001b[0m",
      "\u001b[0;32m/home/kvassay/.env/main/local/lib/python2.7/site-packages/scipy/linalg/blas.pyc\u001b[0m in \u001b[0;36m_get_funcs\u001b[0;34m(names, arrays, dtype, lib_name, fmodule, cmodule, fmodule_name, cmodule_name, alias)\u001b[0m\n\u001b[1;32m    239\u001b[0m     \u001b[0mmodule2\u001b[0m \u001b[0;34m=\u001b[0m \u001b[0;34m(\u001b[0m\u001b[0mfmodule\u001b[0m\u001b[0;34m,\u001b[0m \u001b[0mfmodule_name\u001b[0m\u001b[0;34m)\u001b[0m\u001b[0;34m\u001b[0m\u001b[0m\n\u001b[1;32m    240\u001b[0m \u001b[0;34m\u001b[0m\u001b[0m\n\u001b[0;32m--> 241\u001b[0;31m     \u001b[0;32mif\u001b[0m \u001b[0misinstance\u001b[0m\u001b[0;34m(\u001b[0m\u001b[0mnames\u001b[0m\u001b[0;34m,\u001b[0m \u001b[0mstr\u001b[0m\u001b[0;34m)\u001b[0m\u001b[0;34m:\u001b[0m\u001b[0;34m\u001b[0m\u001b[0m\n\u001b[0m\u001b[1;32m    242\u001b[0m         \u001b[0mnames\u001b[0m \u001b[0;34m=\u001b[0m \u001b[0;34m(\u001b[0m\u001b[0mnames\u001b[0m\u001b[0;34m,\u001b[0m\u001b[0;34m)\u001b[0m\u001b[0;34m\u001b[0m\u001b[0m\n\u001b[1;32m    243\u001b[0m         \u001b[0munpack\u001b[0m \u001b[0;34m=\u001b[0m \u001b[0mTrue\u001b[0m\u001b[0;34m\u001b[0m\u001b[0m\n",
      "\u001b[0;31mKeyboardInterrupt\u001b[0m: "
     ]
    }
   ],
   "source": [
    "cfg={\n",
    "    'pivots_file_path':'/home/kvassay/data/sketch-testing/pivots-random-2560.data',\n",
    "    'base_sketch_length':1280,\n",
    "    'dataset_path':'/home/kvassay/data/sketch-testing/profi-neuralnet-100K.data',\n",
    "    'desired_sketch_length': 1280\n",
    "}\n",
    "t_start=time.time()\n",
    "partitioner=MultiHyperplanePartitioner(cfg)\n",
    "dur_s=time.time()-t_start\n",
    "log_pfx(None,'Balanced pivot selection duration: %s', dur_s)"
   ]
  },
  {
   "cell_type": "markdown",
   "metadata": {},
   "source": [
    "Peristing partitioner..."
   ]
  },
  {
   "cell_type": "code",
   "execution_count": 218,
   "metadata": {
    "collapsed": false
   },
   "outputs": [
    {
     "name": "stderr",
     "output_type": "stream",
     "text": [
      "2016-11-16 14:17:32,988 - root - INFO - NoneType| Persisting MultiHyperplanePartitioner to /home/kvassay/data/sketch-testing/models/multihyperplanepartitioner_100k_dataset_1280_pivot_couples.model...\n",
      "2016-11-16 14:17:36,869 - root - INFO - NoneType| Done...\n"
     ]
    }
   ],
   "source": [
    "PARTITIONER_SAVE_PATH='/home/kvassay/data/sketch-testing/models/multihyperplanepartitioner_100k_dataset_1280_pivot_couples.model'\n",
    "MultiHyperplanePartitioner.save(partitioner, PARTITIONER_SAVE_PATH)"
   ]
  },
  {
   "cell_type": "markdown",
   "metadata": {},
   "source": [
    "#### How balanced is Hyperplane partitioning with pivot couples (ordered by balance deviation)\n",
    "We randomly selected over 1200 random pivot couples and ordered them according to how balanced is the data set if we partition it with Hyperplane partitioning using these couples. Balance deviation is from 0 to 0.5, 0 being perfectly balanced, 0.5 resulting in only one partition containing all dataset objects. Deviation 0.1 means, that 40% of data set is in one partition and 60% in the other. We consider this acceptable state => it's ok to use first 128 pivots."
   ]
  },
  {
   "cell_type": "code",
   "execution_count": 361,
   "metadata": {
    "collapsed": false
   },
   "outputs": [
    {
     "data": {
      "image/png": "[encoded data removed]",
      "text/plain": [
       "<matplotlib.figure.Figure at 0x7f05f391c450>"
      ]
     },
     "metadata": {},
     "output_type": "display_data"
    }
   ],
   "source": [
    "plt.figure(figsize=(13,3))\n",
    "line=plt.plot(partitioner.balance_score, color='blue')\n",
    "legend = mpatches.Patch(color='blue', label='Pivot couple parititoning balance deviation (optimal = 0)')\n",
    "plt.legend(handles=[legend],bbox_to_anchor=(1, 1.2))\n",
    "plt.xlabel('Pivot no.')\n",
    "plt.ylabel('Balance deviation ')\n",
    "\n",
    "plt.xticks(range(0, len(partitioner.balance_score)+1,64))\n",
    "plt.show()"
   ]
  },
  {
   "cell_type": "markdown",
   "metadata": {},
   "source": [
    "### Sketch matrix generation"
   ]
  },
  {
   "cell_type": "code",
   "execution_count": 367,
   "metadata": {
    "collapsed": false,
    "scrolled": true
   },
   "outputs": [
    {
     "name": "stderr",
     "output_type": "stream",
     "text": [
      "2016-11-16 16:42:12,321 - root - INFO - NoneType| Loading persisted MultiHyperplanePartitioner from /home/kvassay/data/sketch-testing/models/multihyperplanepartitioner_100k_dataset_1280_pivot_couples.model, limiting pivots count to 128...\n"
     ]
    }
   ],
   "source": [
    "cfg={\n",
    "    'pivots_file_path':'/home/kvassay/data/sketch-testing/pivots-random-2560.data',\n",
    "    'base_sketch_length':128,\n",
    "    'dataset_path':'/home/kvassay/data/sketch-testing/profi-neuralnet-100.data',\n",
    "    'desired_sketch_length': 16\n",
    "}\n",
    "loaded_partitioner=MultiHyperplanePartitioner.load(PARTITIONER_SAVE_PATH, limit_pivots=128)"
   ]
  },
  {
   "cell_type": "markdown",
   "metadata": {},
   "source": [
    "#### Bit partitioning balance deviation for 128 bits."
   ]
  },
  {
   "cell_type": "code",
   "execution_count": 368,
   "metadata": {
    "collapsed": false,
    "scrolled": false
   },
   "outputs": [
    {
     "data": {
      "image/png": "[encoded data removed]",
      "text/plain": [
       "<matplotlib.figure.Figure at 0x7f05f3e14410>"
      ]
     },
     "metadata": {},
     "output_type": "display_data"
    }
   ],
   "source": [
    "plt.figure(figsize=(13,3))\n",
    "line=plt.plot(loaded_partitioner.balance_score, color='blue')\n",
    "legend = mpatches.Patch(color='blue', label='Bit parititoning balance deviation (optimal = 0)')\n",
    "plt.legend(handles=[legend],bbox_to_anchor=(1, 1.2))\n",
    "plt.xlabel('Bit no.')\n",
    "plt.ylabel('Balance deviation ')\n",
    "\n",
    "plt.xticks(range(0, len(loaded_partitioner.balance_score)+1,4))\n",
    "plt.show()"
   ]
  },
  {
   "cell_type": "code",
   "execution_count": 369,
   "metadata": {
    "collapsed": false
   },
   "outputs": [
    {
     "name": "stderr",
     "output_type": "stream",
     "text": [
      "2016-11-16 16:42:19,809 - root - INFO - SketchProducer| Transforming dataset to Sketch matrix...\n",
      "2016-11-16 16:42:19,811 - root - INFO - CaffeVectorsIterator| Reading Caffe Vector file /home/kvassay/data/sketch-testing/profi-neuralnet-100.data...\n",
      "2016-11-16 16:42:20,525 - root - INFO - SketchProducer| Sketch Matrix constructed with shape (100, 128)...\n",
      "2016-11-16 16:42:20,526 - root - INFO - SketchProducer| Optimizing sketch length to 16...\n",
      "2016-11-16 16:42:20,527 - root - INFO - SketchProducer| Initiating bit removal...\n"
     ]
    },
    {
     "name": "stdout",
     "output_type": "stream",
     "text": [
      "128\n",
      "128\n",
      "128\n",
      "128\n"
     ]
    },
    {
     "name": "stderr",
     "output_type": "stream",
     "text": [
      "2016-11-16 16:42:21,095 - root - INFO - SketchProducer| Removed 5 bits. Removing last 5 bits took 0.555075883865s...\n"
     ]
    },
    {
     "name": "stdout",
     "output_type": "stream",
     "text": [
      "128\n",
      "128\n",
      "128\n",
      "128\n",
      "128\n",
      "128\n"
     ]
    },
    {
     "name": "stderr",
     "output_type": "stream",
     "text": [
      "2016-11-16 16:42:21,561 - root - INFO - SketchProducer| Removed 10 bits. Removing last 5 bits took 0.465804815292s...\n"
     ]
    },
    {
     "name": "stdout",
     "output_type": "stream",
     "text": [
      "128\n",
      "128\n",
      "128\n"
     ]
    },
    {
     "name": "stderr",
     "output_type": "stream",
     "text": [
      "2016-11-16 16:42:22,038 - root - INFO - SketchProducer| Removed 15 bits. Removing last 5 bits took 0.477167129517s...\n"
     ]
    },
    {
     "name": "stdout",
     "output_type": "stream",
     "text": [
      "128\n",
      "128\n",
      "128\n",
      "128\n",
      "128\n",
      "128\n"
     ]
    },
    {
     "name": "stderr",
     "output_type": "stream",
     "text": [
      "2016-11-16 16:42:22,565 - root - INFO - SketchProducer| Removed 20 bits. Removing last 5 bits took 0.52706694603s...\n"
     ]
    },
    {
     "name": "stdout",
     "output_type": "stream",
     "text": [
      "128\n",
      "128\n",
      "128\n",
      "128\n",
      "128\n"
     ]
    },
    {
     "name": "stderr",
     "output_type": "stream",
     "text": [
      "2016-11-16 16:42:23,046 - root - INFO - SketchProducer| Removed 25 bits. Removing last 5 bits took 0.480466842651s...\n"
     ]
    },
    {
     "name": "stdout",
     "output_type": "stream",
     "text": [
      "128\n",
      "128\n",
      "128\n",
      "128\n",
      "128\n",
      "128\n"
     ]
    },
    {
     "name": "stderr",
     "output_type": "stream",
     "text": [
      "2016-11-16 16:42:23,516 - root - INFO - SketchProducer| Removed 30 bits. Removing last 5 bits took 0.470340013504s...\n"
     ]
    },
    {
     "name": "stdout",
     "output_type": "stream",
     "text": [
      "128\n",
      "128\n",
      "128\n",
      "128\n",
      "128\n"
     ]
    },
    {
     "name": "stderr",
     "output_type": "stream",
     "text": [
      "2016-11-16 16:42:24,042 - root - INFO - SketchProducer| Removed 35 bits. Removing last 5 bits took 0.526265859604s...\n"
     ]
    },
    {
     "name": "stdout",
     "output_type": "stream",
     "text": [
      "128\n",
      "128\n",
      "128\n"
     ]
    },
    {
     "name": "stderr",
     "output_type": "stream",
     "text": [
      "2016-11-16 16:42:24,400 - root - INFO - SketchProducer| Removed 40 bits. Removing last 5 bits took 0.358022928238s...\n"
     ]
    },
    {
     "name": "stdout",
     "output_type": "stream",
     "text": [
      "128\n",
      "128\n",
      "128\n",
      "128\n",
      "128\n",
      "128\n",
      "128\n"
     ]
    },
    {
     "name": "stderr",
     "output_type": "stream",
     "text": [
      "2016-11-16 16:42:24,793 - root - INFO - SketchProducer| Removed 45 bits. Removing last 5 bits took 0.392980098724s...\n"
     ]
    },
    {
     "name": "stdout",
     "output_type": "stream",
     "text": [
      "128\n",
      "128\n",
      "128\n",
      "128\n",
      "128\n"
     ]
    },
    {
     "name": "stderr",
     "output_type": "stream",
     "text": [
      "2016-11-16 16:42:25,242 - root - INFO - SketchProducer| Removed 50 bits. Removing last 5 bits took 0.448627948761s...\n"
     ]
    },
    {
     "name": "stdout",
     "output_type": "stream",
     "text": [
      "128\n",
      "128\n",
      "128\n",
      "128\n",
      "128\n"
     ]
    },
    {
     "name": "stderr",
     "output_type": "stream",
     "text": [
      "2016-11-16 16:42:25,729 - root - INFO - SketchProducer| Removed 55 bits. Removing last 5 bits took 0.486931800842s...\n"
     ]
    },
    {
     "name": "stdout",
     "output_type": "stream",
     "text": [
      "128\n",
      "128\n",
      "128\n"
     ]
    },
    {
     "name": "stderr",
     "output_type": "stream",
     "text": [
      "2016-11-16 16:42:26,199 - root - INFO - SketchProducer| Removed 60 bits. Removing last 5 bits took 0.470128059387s...\n"
     ]
    },
    {
     "name": "stdout",
     "output_type": "stream",
     "text": [
      "128\n",
      "128\n",
      "128\n",
      "128\n",
      "128\n",
      "128\n"
     ]
    },
    {
     "name": "stderr",
     "output_type": "stream",
     "text": [
      "2016-11-16 16:42:26,710 - root - INFO - SketchProducer| Removed 65 bits. Removing last 5 bits took 0.511250972748s...\n"
     ]
    },
    {
     "name": "stdout",
     "output_type": "stream",
     "text": [
      "128\n",
      "128\n",
      "128\n",
      "128\n",
      "128\n"
     ]
    },
    {
     "name": "stderr",
     "output_type": "stream",
     "text": [
      "2016-11-16 16:42:27,181 - root - INFO - SketchProducer| Removed 70 bits. Removing last 5 bits took 0.470762014389s...\n"
     ]
    },
    {
     "name": "stdout",
     "output_type": "stream",
     "text": [
      "128\n",
      "128\n",
      "128\n",
      "128\n",
      "128\n"
     ]
    },
    {
     "name": "stderr",
     "output_type": "stream",
     "text": [
      "2016-11-16 16:42:27,690 - root - INFO - SketchProducer| Removed 75 bits. Removing last 5 bits took 0.508369207382s...\n"
     ]
    },
    {
     "name": "stdout",
     "output_type": "stream",
     "text": [
      "128\n",
      "128\n",
      "128\n",
      "128\n",
      "128\n",
      "128\n"
     ]
    },
    {
     "name": "stderr",
     "output_type": "stream",
     "text": [
      "2016-11-16 16:42:28,160 - root - INFO - SketchProducer| Removed 80 bits. Removing last 5 bits took 0.469976902008s...\n"
     ]
    },
    {
     "name": "stdout",
     "output_type": "stream",
     "text": [
      "128\n",
      "128\n",
      "128\n",
      "128\n",
      "128\n"
     ]
    },
    {
     "name": "stderr",
     "output_type": "stream",
     "text": [
      "2016-11-16 16:42:28,701 - root - INFO - SketchProducer| Removed 85 bits. Removing last 5 bits took 0.541542053223s...\n"
     ]
    },
    {
     "name": "stdout",
     "output_type": "stream",
     "text": [
      "128\n",
      "128\n",
      "128\n"
     ]
    },
    {
     "name": "stderr",
     "output_type": "stream",
     "text": [
      "2016-11-16 16:42:29,139 - root - INFO - SketchProducer| Removed 90 bits. Removing last 5 bits took 0.43759393692s...\n"
     ]
    },
    {
     "name": "stdout",
     "output_type": "stream",
     "text": [
      "128\n",
      "128\n",
      "128\n",
      "128\n"
     ]
    },
    {
     "ename": "KeyboardInterrupt",
     "evalue": "",
     "output_type": "error",
     "traceback": [
      "\u001b[0;31m---------------------------------------------------------------------------\u001b[0m",
      "\u001b[0;31mKeyboardInterrupt\u001b[0m                         Traceback (most recent call last)",
      "\u001b[0;32m<ipython-input-369-062ba7d95534>\u001b[0m in \u001b[0;36m<module>\u001b[0;34m()\u001b[0m\n\u001b[0;32m----> 1\u001b[0;31m \u001b[0msketch_producer\u001b[0m\u001b[0;34m=\u001b[0m\u001b[0mSketchProducer\u001b[0m\u001b[0;34m(\u001b[0m\u001b[0mcfg\u001b[0m\u001b[0;34m,\u001b[0m\u001b[0mpartitioner\u001b[0m\u001b[0;34m=\u001b[0m\u001b[0mloaded_partitioner\u001b[0m\u001b[0;34m)\u001b[0m\u001b[0;34m\u001b[0m\u001b[0m\n\u001b[0m",
      "\u001b[0;32m<ipython-input-366-8048c083c02f>\u001b[0m in \u001b[0;36m__init__\u001b[0;34m(self, cfg, partitioner)\u001b[0m\n\u001b[1;32m     11\u001b[0m             \u001b[0mlog_pfx\u001b[0m\u001b[0;34m(\u001b[0m\u001b[0mself\u001b[0m\u001b[0;34m,\u001b[0m\u001b[0;34m'Sketch Matrix constructed with shape %s...'\u001b[0m\u001b[0;34m,\u001b[0m\u001b[0msketch_matrix\u001b[0m\u001b[0;34m.\u001b[0m\u001b[0mshape\u001b[0m\u001b[0;34m)\u001b[0m\u001b[0;34m\u001b[0m\u001b[0m\n\u001b[1;32m     12\u001b[0m             \u001b[0mlog_pfx\u001b[0m\u001b[0;34m(\u001b[0m\u001b[0mself\u001b[0m\u001b[0;34m,\u001b[0m\u001b[0;34m'Optimizing sketch length to %s...'\u001b[0m\u001b[0;34m,\u001b[0m \u001b[0mint\u001b[0m\u001b[0;34m(\u001b[0m\u001b[0mcfg\u001b[0m\u001b[0;34m[\u001b[0m\u001b[0;34m'desired_sketch_length'\u001b[0m\u001b[0;34m]\u001b[0m\u001b[0;34m)\u001b[0m\u001b[0;34m)\u001b[0m\u001b[0;34m\u001b[0m\u001b[0m\n\u001b[0;32m---> 13\u001b[0;31m             \u001b[0mself\u001b[0m\u001b[0;34m.\u001b[0m\u001b[0moptimization_corrs\u001b[0m\u001b[0;34m=\u001b[0m\u001b[0mself\u001b[0m\u001b[0;34m.\u001b[0m\u001b[0moptimize_bit_length\u001b[0m\u001b[0;34m(\u001b[0m\u001b[0msketch_matrix\u001b[0m\u001b[0;34m,\u001b[0m \u001b[0mint\u001b[0m\u001b[0;34m(\u001b[0m\u001b[0mcfg\u001b[0m\u001b[0;34m[\u001b[0m\u001b[0;34m'desired_sketch_length'\u001b[0m\u001b[0;34m]\u001b[0m\u001b[0;34m)\u001b[0m\u001b[0;34m)\u001b[0m\u001b[0;34m\u001b[0m\u001b[0m\n\u001b[0m\u001b[1;32m     14\u001b[0m \u001b[0;34m\u001b[0m\u001b[0m\n\u001b[1;32m     15\u001b[0m     \u001b[0;32mdef\u001b[0m \u001b[0mremove_one_bit\u001b[0m\u001b[0;34m(\u001b[0m\u001b[0mself\u001b[0m\u001b[0;34m,\u001b[0m \u001b[0msketch_matrix\u001b[0m\u001b[0;34m)\u001b[0m\u001b[0;34m:\u001b[0m \u001b[0;31m#removes single bit that will result in best improvement of mean correlation\u001b[0m\u001b[0;34m\u001b[0m\u001b[0m\n",
      "\u001b[0;32m<ipython-input-366-8048c083c02f>\u001b[0m in \u001b[0;36moptimize_bit_length\u001b[0;34m(self, sketch_matrix, desired_sketch_len)\u001b[0m\n\u001b[1;32m     45\u001b[0m                 \u001b[0mt_start\u001b[0m\u001b[0;34m=\u001b[0m\u001b[0mtime\u001b[0m\u001b[0;34m.\u001b[0m\u001b[0mtime\u001b[0m\u001b[0;34m(\u001b[0m\u001b[0;34m)\u001b[0m\u001b[0;34m\u001b[0m\u001b[0m\n\u001b[1;32m     46\u001b[0m                 \u001b[0mlog_pfx\u001b[0m\u001b[0;34m(\u001b[0m\u001b[0mself\u001b[0m\u001b[0;34m,\u001b[0m \u001b[0;34m'Removed %s bits. Removing last 5 bits took %ss...'\u001b[0m\u001b[0;34m,\u001b[0m \u001b[0mbits_removed\u001b[0m\u001b[0;34m,\u001b[0m \u001b[0mt_dur\u001b[0m\u001b[0;34m)\u001b[0m\u001b[0;34m\u001b[0m\u001b[0m\n\u001b[0;32m---> 47\u001b[0;31m             \u001b[0msketch_matrix\u001b[0m\u001b[0;34m,\u001b[0m \u001b[0mnew_corr\u001b[0m\u001b[0;34m=\u001b[0m\u001b[0mself\u001b[0m\u001b[0;34m.\u001b[0m\u001b[0mremove_one_bit\u001b[0m\u001b[0;34m(\u001b[0m\u001b[0msketch_matrix\u001b[0m\u001b[0;34m)\u001b[0m\u001b[0;34m\u001b[0m\u001b[0m\n\u001b[0m\u001b[1;32m     48\u001b[0m             \u001b[0mcorr_vals\u001b[0m\u001b[0;34m.\u001b[0m\u001b[0mappend\u001b[0m\u001b[0;34m(\u001b[0m\u001b[0mnew_corr\u001b[0m\u001b[0;34m)\u001b[0m\u001b[0;34m\u001b[0m\u001b[0m\n\u001b[1;32m     49\u001b[0m             \u001b[0mbits_removed\u001b[0m\u001b[0;34m+=\u001b[0m\u001b[0;36m1\u001b[0m\u001b[0;34m\u001b[0m\u001b[0m\n",
      "\u001b[0;32m<ipython-input-366-8048c083c02f>\u001b[0m in \u001b[0;36mremove_one_bit\u001b[0;34m(self, sketch_matrix)\u001b[0m\n\u001b[1;32m     23\u001b[0m             \u001b[0;32melse\u001b[0m\u001b[0;34m:\u001b[0m\u001b[0;34m\u001b[0m\u001b[0m\n\u001b[1;32m     24\u001b[0m                 \u001b[0mbool_mask\u001b[0m\u001b[0;34m[\u001b[0m\u001b[0mi\u001b[0m\u001b[0;34m]\u001b[0m\u001b[0;34m=\u001b[0m\u001b[0mFalse\u001b[0m\u001b[0;34m\u001b[0m\u001b[0m\n\u001b[0;32m---> 25\u001b[0;31m             \u001b[0mmean_corr\u001b[0m\u001b[0;34m=\u001b[0m\u001b[0mSketchProducer\u001b[0m\u001b[0;34m.\u001b[0m\u001b[0mmean_couple_correlation\u001b[0m\u001b[0;34m(\u001b[0m\u001b[0msketch_matrix\u001b[0m\u001b[0;34m[\u001b[0m\u001b[0;34m:\u001b[0m\u001b[0;34m,\u001b[0m \u001b[0mbool_mask\u001b[0m\u001b[0;34m]\u001b[0m\u001b[0;34m)\u001b[0m\u001b[0;34m\u001b[0m\u001b[0m\n\u001b[0m\u001b[1;32m     26\u001b[0m             \u001b[0;32mif\u001b[0m \u001b[0mmean_corr\u001b[0m\u001b[0;34m<\u001b[0m\u001b[0mbest_corr\u001b[0m\u001b[0;34m:\u001b[0m\u001b[0;34m\u001b[0m\u001b[0m\n\u001b[1;32m     27\u001b[0m                 \u001b[0mbest_corr\u001b[0m\u001b[0;34m=\u001b[0m\u001b[0mmean_corr\u001b[0m\u001b[0;34m\u001b[0m\u001b[0m\n",
      "\u001b[0;32m<ipython-input-366-8048c083c02f>\u001b[0m in \u001b[0;36mmean_couple_correlation\u001b[0;34m(sketch_matrix)\u001b[0m\n\u001b[1;32m     52\u001b[0m     \u001b[0;34m@\u001b[0m\u001b[0mstaticmethod\u001b[0m\u001b[0;34m\u001b[0m\u001b[0m\n\u001b[1;32m     53\u001b[0m     \u001b[0;32mdef\u001b[0m \u001b[0mmean_couple_correlation\u001b[0m\u001b[0;34m(\u001b[0m\u001b[0msketch_matrix\u001b[0m\u001b[0;34m)\u001b[0m\u001b[0;34m:\u001b[0m\u001b[0;34m\u001b[0m\u001b[0m\n\u001b[0;32m---> 54\u001b[0;31m         \u001b[0mcorr_mtx\u001b[0m \u001b[0;34m=\u001b[0m \u001b[0mnp\u001b[0m\u001b[0;34m.\u001b[0m\u001b[0mcorrcoef\u001b[0m\u001b[0;34m(\u001b[0m\u001b[0msketch_matrix\u001b[0m\u001b[0;34m.\u001b[0m\u001b[0mT\u001b[0m\u001b[0;34m)\u001b[0m \u001b[0;31m#matrix of correlations of columns of sketch matrix\u001b[0m\u001b[0;34m\u001b[0m\u001b[0m\n\u001b[0m\u001b[1;32m     55\u001b[0m         \u001b[0mcorr_vals\u001b[0m\u001b[0;34m=\u001b[0m\u001b[0mcorr_mtx\u001b[0m\u001b[0;34m[\u001b[0m\u001b[0mnp\u001b[0m\u001b[0;34m.\u001b[0m\u001b[0mtriu_indices\u001b[0m\u001b[0;34m(\u001b[0m\u001b[0mn\u001b[0m\u001b[0;34m=\u001b[0m\u001b[0mcorr_mtx\u001b[0m\u001b[0;34m.\u001b[0m\u001b[0mshape\u001b[0m\u001b[0;34m[\u001b[0m\u001b[0;36m0\u001b[0m\u001b[0;34m]\u001b[0m\u001b[0;34m,\u001b[0m \u001b[0mm\u001b[0m\u001b[0;34m=\u001b[0m\u001b[0mcorr_mtx\u001b[0m\u001b[0;34m.\u001b[0m\u001b[0mshape\u001b[0m\u001b[0;34m[\u001b[0m\u001b[0;36m1\u001b[0m\u001b[0;34m]\u001b[0m\u001b[0;34m,\u001b[0m \u001b[0mk\u001b[0m\u001b[0;34m=\u001b[0m\u001b[0;36m1\u001b[0m\u001b[0;34m)\u001b[0m\u001b[0;34m]\u001b[0m \u001b[0;31m#list of upper triangle of corr matrix (without diagonal)\u001b[0m\u001b[0;34m\u001b[0m\u001b[0m\n\u001b[1;32m     56\u001b[0m         \u001b[0;32mreturn\u001b[0m \u001b[0mnp\u001b[0m\u001b[0;34m.\u001b[0m\u001b[0mmean\u001b[0m\u001b[0;34m(\u001b[0m\u001b[0mnp\u001b[0m\u001b[0;34m.\u001b[0m\u001b[0mabsolute\u001b[0m\u001b[0;34m(\u001b[0m\u001b[0mcorr_vals\u001b[0m\u001b[0;34m)\u001b[0m\u001b[0;34m)\u001b[0m \u001b[0;31m#mean of absolute value of Pearson correlation coefficients\u001b[0m\u001b[0;34m\u001b[0m\u001b[0m\n",
      "\u001b[0;32m/home/kvassay/.env/main/local/lib/python2.7/site-packages/numpy/lib/function_base.pyc\u001b[0m in \u001b[0;36mcorrcoef\u001b[0;34m(x, y, rowvar, bias, ddof)\u001b[0m\n\u001b[1;32m   2559\u001b[0m         warnings.warn('bias and ddof have no effect and are deprecated',\n\u001b[1;32m   2560\u001b[0m                       DeprecationWarning)\n\u001b[0;32m-> 2561\u001b[0;31m     \u001b[0mc\u001b[0m \u001b[0;34m=\u001b[0m \u001b[0mcov\u001b[0m\u001b[0;34m(\u001b[0m\u001b[0mx\u001b[0m\u001b[0;34m,\u001b[0m \u001b[0my\u001b[0m\u001b[0;34m,\u001b[0m \u001b[0mrowvar\u001b[0m\u001b[0;34m)\u001b[0m\u001b[0;34m\u001b[0m\u001b[0m\n\u001b[0m\u001b[1;32m   2562\u001b[0m     \u001b[0;32mtry\u001b[0m\u001b[0;34m:\u001b[0m\u001b[0;34m\u001b[0m\u001b[0m\n\u001b[1;32m   2563\u001b[0m         \u001b[0md\u001b[0m \u001b[0;34m=\u001b[0m \u001b[0mdiag\u001b[0m\u001b[0;34m(\u001b[0m\u001b[0mc\u001b[0m\u001b[0;34m)\u001b[0m\u001b[0;34m\u001b[0m\u001b[0m\n",
      "\u001b[0;32m/home/kvassay/.env/main/local/lib/python2.7/site-packages/numpy/lib/function_base.pyc\u001b[0m in \u001b[0;36mcov\u001b[0;34m(m, y, rowvar, bias, ddof, fweights, aweights)\u001b[0m\n\u001b[1;32m   2493\u001b[0m     \u001b[0;32melse\u001b[0m\u001b[0;34m:\u001b[0m\u001b[0;34m\u001b[0m\u001b[0m\n\u001b[1;32m   2494\u001b[0m         \u001b[0mX_T\u001b[0m \u001b[0;34m=\u001b[0m \u001b[0;34m(\u001b[0m\u001b[0mX\u001b[0m\u001b[0;34m*\u001b[0m\u001b[0mw\u001b[0m\u001b[0;34m)\u001b[0m\u001b[0;34m.\u001b[0m\u001b[0mT\u001b[0m\u001b[0;34m\u001b[0m\u001b[0m\n\u001b[0;32m-> 2495\u001b[0;31m     \u001b[0mc\u001b[0m \u001b[0;34m=\u001b[0m \u001b[0mdot\u001b[0m\u001b[0;34m(\u001b[0m\u001b[0mX\u001b[0m\u001b[0;34m,\u001b[0m \u001b[0mX_T\u001b[0m\u001b[0;34m.\u001b[0m\u001b[0mconj\u001b[0m\u001b[0;34m(\u001b[0m\u001b[0;34m)\u001b[0m\u001b[0;34m)\u001b[0m\u001b[0;34m\u001b[0m\u001b[0m\n\u001b[0m\u001b[1;32m   2496\u001b[0m     \u001b[0mc\u001b[0m \u001b[0;34m*=\u001b[0m \u001b[0;36m1.\u001b[0m \u001b[0;34m/\u001b[0m \u001b[0mnp\u001b[0m\u001b[0;34m.\u001b[0m\u001b[0mfloat64\u001b[0m\u001b[0;34m(\u001b[0m\u001b[0mfact\u001b[0m\u001b[0;34m)\u001b[0m\u001b[0;34m\u001b[0m\u001b[0m\n\u001b[1;32m   2497\u001b[0m     \u001b[0;32mreturn\u001b[0m \u001b[0mc\u001b[0m\u001b[0;34m.\u001b[0m\u001b[0msqueeze\u001b[0m\u001b[0;34m(\u001b[0m\u001b[0;34m)\u001b[0m\u001b[0;34m\u001b[0m\u001b[0m\n",
      "\u001b[0;31mKeyboardInterrupt\u001b[0m: "
     ]
    }
   ],
   "source": [
    "sketch_producer=SketchProducer(cfg,partitioner=loaded_partitioner)"
   ]
  },
  {
   "cell_type": "code",
   "execution_count": 370,
   "metadata": {
    "collapsed": false
   },
   "outputs": [
    {
     "data": {
      "text/plain": [
       "37"
      ]
     },
     "execution_count": 370,
     "metadata": {},
     "output_type": "execute_result"
    }
   ],
   "source": [
    "len(loaded_partitioner.pivots)"
   ]
  },
  {
   "cell_type": "code",
   "execution_count": 371,
   "metadata": {
    "collapsed": false
   },
   "outputs": [
    {
     "data": {
      "text/plain": [
       "128"
      ]
     },
     "execution_count": 371,
     "metadata": {},
     "output_type": "execute_result"
    }
   ],
   "source": [
    "len(sketch_producer.partitioner.pivots)"
   ]
  },
  {
   "cell_type": "code",
   "execution_count": 373,
   "metadata": {
    "collapsed": false
   },
   "outputs": [
    {
     "data": {
      "text/plain": [
       "matrix([[1, 2, 3],\n",
       "        [4, 5, 6],\n",
       "        [7, 9, 2]])"
      ]
     },
     "execution_count": 373,
     "metadata": {},
     "output_type": "execute_result"
    }
   ],
   "source": [
    "mtx=np.matrix([[1,2,3],[4,5,6],[7,9,2]])\n",
    "mtx"
   ]
  },
  {
   "cell_type": "code",
   "execution_count": 401,
   "metadata": {
    "collapsed": true
   },
   "outputs": [],
   "source": [
    "mask=[False,False, True]"
   ]
  },
  {
   "cell_type": "code",
   "execution_count": 405,
   "metadata": {
    "collapsed": false
   },
   "outputs": [
    {
     "ename": "AttributeError",
     "evalue": "'matrix' object has no attribute 'delete'",
     "output_type": "error",
     "traceback": [
      "\u001b[0;31m---------------------------------------------------------------------------\u001b[0m",
      "\u001b[0;31mAttributeError\u001b[0m                            Traceback (most recent call last)",
      "\u001b[0;32m<ipython-input-405-7039653f5ca9>\u001b[0m in \u001b[0;36m<module>\u001b[0;34m()\u001b[0m\n\u001b[0;32m----> 1\u001b[0;31m \u001b[0mmtx\u001b[0m\u001b[0;34m.\u001b[0m\u001b[0mdelete\u001b[0m\u001b[0;34m(\u001b[0m\u001b[0mmask\u001b[0m\u001b[0;34m)\u001b[0m\u001b[0;34m\u001b[0m\u001b[0m\n\u001b[0m",
      "\u001b[0;31mAttributeError\u001b[0m: 'matrix' object has no attribute 'delete'"
     ]
    }
   ],
   "source": [
    "mtx.delete(mask)"
   ]
  },
  {
   "cell_type": "code",
   "execution_count": null,
   "metadata": {
    "collapsed": true
   },
   "outputs": [],
   "source": []
  }
 ],
 "metadata": {
  "kernelspec": {
   "display_name": "Python 2",
   "language": "python",
   "name": "python2"
  },
  "language_info": {
   "codemirror_mode": {
    "name": "ipython",
    "version": 2
   },
   "file_extension": ".py",
   "mimetype": "text/x-python",
   "name": "python",
   "nbconvert_exporter": "python",
   "pygments_lexer": "ipython2",
   "version": "2.7.12"
  }
 },
 "nbformat": 4,
 "nbformat_minor": 0
}
