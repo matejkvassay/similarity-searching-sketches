{
 "cells": [
  {
   "cell_type": "markdown",
   "metadata": {},
   "source": [
    "## CLASS IMPLEMENTATIONS"
   ]
  },
  {
   "cell_type": "code",
   "execution_count": 1,
   "metadata": {
    "collapsed": false
   },
   "outputs": [
    {
     "name": "stderr",
     "output_type": "stream",
     "text": [
      "2016-11-16 10:39:38,519 - root - INFO - Logger works.\n"
     ]
    },
    {
     "data": {
      "text/plain": [
       "[<logging.StreamHandler at 0x7f0628691e10>]"
      ]
     },
     "execution_count": 1,
     "metadata": {},
     "output_type": "execute_result"
    }
   ],
   "source": [
    "'''\n",
    "RUN ONLY ONCE OTHERWISE MULTIPLE LOGGER HANDLERS WILL BE ADDED\n",
    "'''\n",
    "import logging\n",
    "logger = logging.getLogger()\n",
    "logger.setLevel('INFO')\n",
    "ch = logging.StreamHandler()\n",
    "ch.setLevel(logging.INFO)\n",
    "formatter = logging.Formatter('%(asctime)s - %(name)s - %(levelname)s - %(message)s')\n",
    "ch.setFormatter(formatter)\n",
    "# add the handlers to the logger\n",
    "logger.addHandler(ch)\n",
    "logger.info('Logger works.')\n",
    "logger.handlers"
   ]
  },
  {
   "cell_type": "code",
   "execution_count": 152,
   "metadata": {
    "collapsed": false
   },
   "outputs": [],
   "source": [
    "%matplotlib inline\n",
    "\n",
    "import matplotlib.pyplot as plt\n",
    "import matplotlib.patches as mpatches\n",
    "import numpy as np\n",
    "from scipy.spatial.distance import euclidean\n",
    "import time\n",
    "import cPickle"
   ]
  },
  {
   "cell_type": "code",
   "execution_count": 153,
   "metadata": {
    "collapsed": false
   },
   "outputs": [],
   "source": [
    "def get_cfg(cfg_path_or_dict):\n",
    "    if type(cfg_path_or_dict) == dict:\n",
    "        return cfg_path_or_dict\n",
    "    if not os.path.isfile(cfg_path_or_dict):\n",
    "        raise ValueError('Config must be path to valid .yml file or dict.')\n",
    "    with open(cfg_path_or_dict, 'rb') as f:\n",
    "        cfg = yaml.load(f)\n",
    "    return cfg\n",
    "\n",
    "def log_pfx(obj, msg, *args):\n",
    "    logger.info(obj.__class__.__name__+'| '+msg, *args)\n",
    "    \n",
    "def save_to(obj, file_path):\n",
    "    with open(file_path, 'wb') as f:\n",
    "        cPickle.dump(obj,f)\n",
    "\n",
    "def load_from(file_path):\n",
    "    with open(file_path, 'wb') as f:\n",
    "        return cPickle.load(self,f) "
   ]
  },
  {
   "cell_type": "code",
   "execution_count": 51,
   "metadata": {
    "collapsed": true
   },
   "outputs": [],
   "source": [
    "class CaffeVectorsIterator(object):\n",
    "    def __init__(self, file_path):\n",
    "        log_pfx(self,'Reading Caffe Vector file %s...',file_path)\n",
    "        self.f = open(file_path, 'rb')\n",
    "\n",
    "    def next(self):\n",
    "        try:\n",
    "            # (id: int, vector: np array of float32)\n",
    "            lineA = self.f.next()\n",
    "            lineB = self.f.next()\n",
    "            return (int(lineA.split(' ')[2]),  np.fromstring(lineB, dtype='f', sep=' '))\n",
    "        except StopIteration:\n",
    "            self.f.close()\n",
    "            raise StopIteration\n",
    "\n",
    "    def __del__(self):\n",
    "        if self.f:\n",
    "            self.f.close()\n",
    "\n",
    "\n",
    "class CaffeVectorsIterable(object):\n",
    "    def __init__(self, file_path):\n",
    "        self.file_path = file_path\n",
    "\n",
    "    def __iter__(self):\n",
    "        return CaffeVectorsIterator(self.file_path)"
   ]
  },
  {
   "cell_type": "code",
   "execution_count": 157,
   "metadata": {
    "collapsed": false
   },
   "outputs": [],
   "source": [
    "class MultiHyperplanePartitioner(object):\n",
    "\n",
    "    def __init__(self, cfg):\n",
    "        if cfg:\n",
    "            cfg = get_cfg(cfg)\n",
    "            all_pivots=self.read_pivots(cfg)\n",
    "            self.pivots, self.balance_score=self.select_top_k_pivots(all_pivots, int(cfg['base_sketch_length']))\n",
    "\n",
    "\n",
    "    def save(self, file_path):\n",
    "        to_save=self.pivots, self.balance_score\n",
    "        save_to(to_save, file_path)\n",
    "\n",
    "    @staticmethod\n",
    "    def load(file_path, limit_pivots=None):\n",
    "        if limit_pivots is not None:\n",
    "            log_pfx(None,'Loading persisted MultiHyperplanePartitioner from %s, limiting pivots count to %s...', file_path, limit_pivots )\n",
    "        else:\n",
    "            log_pfx(None,'Loading persisted MultiHyperplanePartitioner from %s...',file_path)\n",
    "\n",
    "        instance=MultiHyperplanePartitioner()\n",
    "        tupl=load_from(file_path)\n",
    "        if limit_pivots is None:\n",
    "            instance.pivots=tupl[0]\n",
    "            instance.balance_score=tupl[1]\n",
    "        else:\n",
    "            instance.pivots=tupl[0][:limit_pivots]\n",
    "            instance.balance_score=tupl[1][:limit_pivots]\n",
    "        return instance\n",
    "\n",
    "    def select_top_k_pivots(self, all_pivots,k):\n",
    "        log_pfx(self,'Selecting top %s pivots...',k)\n",
    "        counters=[0]*len(all_pivots)\n",
    "        n_obj=0\n",
    "        t_start=time.time()\n",
    "        for obj in CaffeVectorsIterable(cfg['dataset_path']):\n",
    "            n_obj+=1\n",
    "            if n_obj%10000==0:\n",
    "                t_dur=time.time()-t_start\n",
    "                t_start=time.time()\n",
    "                log_pfx(self,'Adding counts for partitioning balance counter for dataset obj no. %s. Processing last 10000 objects took %ss...',n_obj,t_dur)\n",
    "            for i, pivot_couple in enumerate(all_pivots):\n",
    "                if self.get_partition(pivot_couple, obj)==1:\n",
    "                    counters[i]+=1\n",
    "\n",
    "        log_pfx(self,'Computing balance ratios and selecting top %s pivots...', k)\n",
    "        balance_ratios=[abs(0.5-(float(count_1)/n_obj)) for i, count_1 in enumerate(counters)]\n",
    "        sorted_pivots_with_ratings=sorted(zip(all_pivots, balance_ratios), key=lambda x: x[1])\n",
    "        top_pivots, top_balance_score=zip(*[(tupl[0], tupl[1]) for tupl in sorted_pivots_with_ratings[:k]])\n",
    "        return top_pivots, top_balance_score     \n",
    "\n",
    "    def read_pivots(self, cfg):\n",
    "        log_pfx(self,'Reading pivot file...')\n",
    "        pivots = list()\n",
    "        iterator = CaffeVectorsIterable(cfg['pivots_file_path']).__iter__()\n",
    "        while True:\n",
    "            try:\n",
    "                pivot_A = iterator.next()\n",
    "                pivot_B = iterator.next()\n",
    "                pivots.append((pivot_A, pivot_B))\n",
    "            except StopIteration:\n",
    "                break\n",
    "        return pivots\n",
    "\n",
    "\n",
    "    def get_partition(self, pivot_couple, obj):\n",
    "        distance_A = euclidean(obj[1], pivot_couple[0][1]) # pairwise returns matrix\n",
    "        distance_B = euclidean(obj[1], pivot_couple[1][1])\n",
    "        if distance_A > distance_B:\n",
    "            return 0\n",
    "        else:\n",
    "            return 1\n",
    "\n",
    "    def get_partitions(self, obj, index_mask=None):\n",
    "        if not index_mask:\n",
    "            index_mask=[True]*len(self.pivots)\n",
    "        return [self.get_partition(pivot_couple, obj) for index, pivot_couple in enumerate(self.pivots) if index_mask[index]]"
   ]
  },
  {
   "cell_type": "code",
   "execution_count": 63,
   "metadata": {
    "collapsed": false
   },
   "outputs": [
    {
     "ename": "IndentationError",
     "evalue": "expected an indented block (<ipython-input-63-e2c5e1992b3c>, line 2)",
     "output_type": "error",
     "traceback": [
      "\u001b[0;36m  File \u001b[0;32m\"<ipython-input-63-e2c5e1992b3c>\"\u001b[0;36m, line \u001b[0;32m2\u001b[0m\n\u001b[0;31m    def __init__(self, cfg):\u001b[0m\n\u001b[0m      ^\u001b[0m\n\u001b[0;31mIndentationError\u001b[0m\u001b[0;31m:\u001b[0m expected an indented block\n"
     ]
    }
   ],
   "source": [
    "class SketchTrasformator(object):\n",
    "def __init__(self, cfg):\n",
    "    self.cfg=self.get_cfg(cfg, partitioner=None)\n",
    "    if partitioner is None:\n",
    "        self.partitioner=MultiHyperplanePartitioner(cfg)\n",
    "    else:\n",
    "        self.partitioner=partitioner\n",
    "    dataset_iterator=CaffeVectorsIterable(cfg['dataset_path']).__iter__()\n",
    "    #sketch_matrix=np.matrix([self.partitioner.get_partitions(data_record) for data_record in dataset_iterator])\n",
    "    self.index_mask=generate_parition_index_mask(sketch_matrix, int(cfg['desired_sketch_length']))\n",
    "    \n",
    "def get_sketches(self,length):\n",
    "    assert length<=len(self.partitioner.pivots)\n",
    "\n",
    "def generate_partition_index_mask(self,sketch_matrix, desired_sketch_len):\n",
    "    #if not enough pivots \n",
    "    pass\n",
    "    \n",
    "        "
   ]
  },
  {
   "cell_type": "markdown",
   "metadata": {
    "collapsed": true
   },
   "source": [
    "## EXPERIMENTS"
   ]
  },
  {
   "cell_type": "markdown",
   "metadata": {
    "collapsed": true
   },
   "source": [
    "### Hyperplane partitioning"
   ]
  },
  {
   "cell_type": "markdown",
   "metadata": {},
   "source": [
    "#### Balance score for 256 pivots"
   ]
  },
  {
   "cell_type": "code",
   "execution_count": 150,
   "metadata": {
    "collapsed": false
   },
   "outputs": [
    {
     "name": "stderr",
     "output_type": "stream",
     "text": [
      "2016-11-16 11:51:24,244 - root - INFO - MultiHyperplanePartitioner| Reading pivot file...\n",
      "2016-11-16 11:51:24,246 - root - INFO - CaffeVectorsIterator| Reading Caffe Vector file /home/kvassay/data/sketch-testing/pivots-random-2560.data...\n",
      "2016-11-16 11:51:26,601 - root - INFO - MultiHyperplanePartitioner| Selecting top 1280 pivots...\n",
      "2016-11-16 11:51:26,602 - root - INFO - CaffeVectorsIterator| Reading Caffe Vector file /home/kvassay/data/sketch-testing/profi-neuralnet-100K.data...\n",
      "2016-11-16 12:01:43,007 - root - INFO - MultiHyperplanePartitioner| Adding counts for partitioning balance counter for dataset obj no. 10000. Processing last 10000 objects took 616.40549016s...\n",
      "2016-11-16 12:11:57,079 - root - INFO - MultiHyperplanePartitioner| Adding counts for partitioning balance counter for dataset obj no. 20000. Processing last 10000 objects took 614.071527004s...\n",
      "2016-11-16 12:22:08,407 - root - INFO - MultiHyperplanePartitioner| Adding counts for partitioning balance counter for dataset obj no. 30000. Processing last 10000 objects took 611.3286798s...\n",
      "2016-11-16 12:32:19,802 - root - INFO - MultiHyperplanePartitioner| Adding counts for partitioning balance counter for dataset obj no. 40000. Processing last 10000 objects took 611.394898891s...\n",
      "2016-11-16 12:42:33,251 - root - INFO - MultiHyperplanePartitioner| Adding counts for partitioning balance counter for dataset obj no. 50000. Processing last 10000 objects took 613.449015141s...\n",
      "2016-11-16 12:52:47,679 - root - INFO - MultiHyperplanePartitioner| Adding counts for partitioning balance counter for dataset obj no. 60000. Processing last 10000 objects took 614.42750597s...\n",
      "2016-11-16 13:02:59,388 - root - INFO - MultiHyperplanePartitioner| Adding counts for partitioning balance counter for dataset obj no. 70000. Processing last 10000 objects took 611.708796024s...\n",
      "2016-11-16 13:13:53,147 - root - INFO - MultiHyperplanePartitioner| Adding counts for partitioning balance counter for dataset obj no. 80000. Processing last 10000 objects took 653.759673119s...\n",
      "2016-11-16 13:24:20,362 - root - INFO - MultiHyperplanePartitioner| Adding counts for partitioning balance counter for dataset obj no. 90000. Processing last 10000 objects took 627.21491003s...\n",
      "2016-11-16 13:34:51,495 - root - INFO - MultiHyperplanePartitioner| Adding counts for partitioning balance counter for dataset obj no. 100000. Processing last 10000 objects took 631.132843971s...\n",
      "2016-11-16 13:34:51,558 - root - INFO - MultiHyperplanePartitioner| Computing balance ratios and selecting top 1280 pivots...\n",
      "2016-11-16 13:34:51,561 - root - INFO - NoneType| Balanced pivot selection duration: 6207.31748605\n"
     ]
    }
   ],
   "source": [
    "cfg={\n",
    "    'pivots_file_path':'/home/kvassay/data/sketch-testing/pivots-random-2560.data',\n",
    "    'base_sketch_length':1280,\n",
    "    'dataset_path':'/home/kvassay/data/sketch-testing/profi-neuralnet-100K.data',\n",
    "    'desired_sketch_length': 1280\n",
    "}\n",
    "t_start=time.time()\n",
    "partitioner=MultiHyperplanePartitioner(cfg)\n",
    "dur_s=time.time()-t_start\n",
    "log_pfx(None,'Balanced pivot selection duration: %s', dur_s)"
   ]
  },
  {
   "cell_type": "markdown",
   "metadata": {},
   "source": [
    "#### How balanced is Hyperplane partitioning with pivot couples (ordered by balance deviation)\n",
    "We randomly selected over 1200 random pivot couples and ordered them according to how balanced is the data set if we partition it with Hyperplane partitioning using this couple. Balance deviation is from 0 to 0.5, 0 being perfectly balanced, 0.5 being only one partition contains objects. Deviation 0.1 means, that 40% of data set is in one partition and 60% in the other."
   ]
  },
  {
   "cell_type": "code",
   "execution_count": 161,
   "metadata": {
    "collapsed": false
   },
   "outputs": [
    {
     "data": {
      "image/png": "[encoded data removed]",
      "text/plain": [
       "<matplotlib.figure.Figure at 0x7f05f39926d0>"
      ]
     },
     "metadata": {},
     "output_type": "display_data"
    }
   ],
   "source": [
    "plt.figure(figsize=(10,3))\n",
    "line=plt.plot(partitioner.balance_score, color='blue')\n",
    "legend = mpatches.Patch(color='blue', label='Pivot couple parititoning balance deviation (optimal = 0)')\n",
    "plt.legend(handles=[legend],bbox_to_anchor=(1, 1.2))\n",
    "plt.xlabel('Pivot no.')\n",
    "plt.ylabel('Balance deviation ')\n",
    "plt.show()\n",
    "# plt.figure(figsize=(5,5))\n",
    "# line=plt.hist(partitioner.balance_score, color='blue', bins=len(partitioner.balance_score))\n",
    "# logger.info(len(partitioner.balance_score))\n",
    "# legend = mpatches.Patch(color='blue', label='Pivot couple parititoning balance score (optimal = 0)')\n",
    "# plt.legend(handles=[legend])\n",
    "# plt.show()"
   ]
  },
  {
   "cell_type": "code",
   "execution_count": null,
   "metadata": {
    "collapsed": true
   },
   "outputs": [],
   "source": []
  },
  {
   "cell_type": "code",
   "execution_count": null,
   "metadata": {
    "collapsed": true
   },
   "outputs": [],
   "source": []
  },
  {
   "cell_type": "code",
   "execution_count": null,
   "metadata": {
    "collapsed": true
   },
   "outputs": [],
   "source": []
  }
 ],
 "metadata": {
  "kernelspec": {
   "display_name": "Python 2",
   "language": "python",
   "name": "python2"
  },
  "language_info": {
   "codemirror_mode": {
    "name": "ipython",
    "version": 2
   },
   "file_extension": ".py",
   "mimetype": "text/x-python",
   "name": "python",
   "nbconvert_exporter": "python",
   "pygments_lexer": "ipython2",
   "version": "2.7.12"
  }
 },
 "nbformat": 4,
 "nbformat_minor": 0
}
